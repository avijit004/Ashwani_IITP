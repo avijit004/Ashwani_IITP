{
 "cells": [
  {
   "cell_type": "markdown",
   "metadata": {},
   "source": [
    "**<center> <span style=\"color:#0F52BA;font-family:serif; font-size:34px;\"> FAKE NEWS DETECTION USING LR </span> </center>**"
   ]
  },
  {
   "cell_type": "markdown",
   "metadata": {},
   "source": [
    "# <span style=\"font-family:serif; font-size:28px;\"> 📌Introduction</span>"
   ]
  },
  {
   "cell_type": "markdown",
   "metadata": {},
   "source": [
    "The project focuses on Fake News Detection using Logistic Regression (LR).\n",
    "With the rapid spread of online news through social media and digital platforms, misinformation and fake news have become major concerns. This project aims to build a machine learning model that can classify news articles as Fake News or Not Fake News.\n",
    "\n",
    "The workflow includes:\n",
    "\n",
    "Importing required libraries\n",
    "\n",
    "Loading and preprocessing the dataset (removing stopwords, stemming, cleaning text)\n",
    "\n",
    "Feature extraction using CountVectorizer\n",
    "\n",
    "Training a Logistic Regression classifier\n",
    "\n",
    "Testing the model with sample inputs"
   ]
  },
  {
   "cell_type": "markdown",
   "metadata": {},
   "source": [
    "Importing Libraries"
   ]
  },
  {
   "cell_type": "code",
   "execution_count": 9,
   "metadata": {},
   "outputs": [],
   "source": [
    "import pandas as pd\n",
    "import numpy as np\n",
    "import matplotlib.pyplot as plt\n",
    "import nltk as nlp\n",
    "import re\n",
    "import string\n",
    "from sklearn.model_selection import train_test_split\n",
    "from sklearn.metrics import accuracy_score\n",
    "from sklearn.metrics import classification_report\n",
    "from sklearn.metrics import confusion_matrix, classification_report, roc_curve, auc\n",
    "import matplotlib.pyplot as plt\n",
    "import seaborn as sns"
   ]
  },
  {
   "cell_type": "markdown",
   "metadata": {},
   "source": [
    "Importing Dataset"
   ]
  },
  {
   "cell_type": "code",
   "execution_count": 10,
   "metadata": {},
   "outputs": [
    {
     "data": {
      "application/vnd.microsoft.datawrangler.viewer.v0+json": {
       "columns": [
        {
         "name": "index",
         "rawType": "int64",
         "type": "integer"
        },
        {
         "name": "title",
         "rawType": "object",
         "type": "string"
        },
        {
         "name": "text",
         "rawType": "object",
         "type": "string"
        },
        {
         "name": "subject",
         "rawType": "object",
         "type": "string"
        },
        {
         "name": "date",
         "rawType": "object",
         "type": "string"
        }
       ],
       "ref": "146ab209-e74e-4d25-bede-72a351c556b0",
       "rows": [
        [
         "0",
         " Donald Trump Sends Out Embarrassing New Year’s Eve Message; This is Disturbing",
         "Donald Trump just couldn t wish all Americans a Happy New Year and leave it at that. Instead, he had to give a shout out to his enemies, haters and  the very dishonest fake news media.  The former reality show star had just one job to do and he couldn t do it. As our Country rapidly grows stronger and smarter, I want to wish all of my friends, supporters, enemies, haters, and even the very dishonest Fake News Media, a Happy and Healthy New Year,  President Angry Pants tweeted.  2018 will be a great year for America! As our Country rapidly grows stronger and smarter, I want to wish all of my friends, supporters, enemies, haters, and even the very dishonest Fake News Media, a Happy and Healthy New Year. 2018 will be a great year for America!  Donald J. Trump (@realDonaldTrump) December 31, 2017Trump s tweet went down about as welll as you d expect.What kind of president sends a New Year s greeting like this despicable, petty, infantile gibberish? Only Trump! His lack of decency won t even allow him to rise above the gutter long enough to wish the American citizens a happy new year!  Bishop Talbert Swan (@TalbertSwan) December 31, 2017no one likes you  Calvin (@calvinstowell) December 31, 2017Your impeachment would make 2018 a great year for America, but I ll also accept regaining control of Congress.  Miranda Yaver (@mirandayaver) December 31, 2017Do you hear yourself talk? When you have to include that many people that hate you you have to wonder? Why do the they all hate me?  Alan Sandoval (@AlanSandoval13) December 31, 2017Who uses the word Haters in a New Years wish??  Marlene (@marlene399) December 31, 2017You can t just say happy new year?  Koren pollitt (@Korencarpenter) December 31, 2017Here s Trump s New Year s Eve tweet from 2016.Happy New Year to all, including to my many enemies and those who have fought me and lost so badly they just don t know what to do. Love!  Donald J. Trump (@realDonaldTrump) December 31, 2016This is nothing new for Trump. He s been doing this for years.Trump has directed messages to his  enemies  and  haters  for New Year s, Easter, Thanksgiving, and the anniversary of 9/11. pic.twitter.com/4FPAe2KypA  Daniel Dale (@ddale8) December 31, 2017Trump s holiday tweets are clearly not presidential.How long did he work at Hallmark before becoming President?  Steven Goodine (@SGoodine) December 31, 2017He s always been like this . . . the only difference is that in the last few years, his filter has been breaking down.  Roy Schulze (@thbthttt) December 31, 2017Who, apart from a teenager uses the term haters?  Wendy (@WendyWhistles) December 31, 2017he s a fucking 5 year old  Who Knows (@rainyday80) December 31, 2017So, to all the people who voted for this a hole thinking he would change once he got into power, you were wrong! 70-year-old men don t change and now he s a year older.Photo by Andrew Burton/Getty Images.",
         "News",
         "December 31, 2017"
        ],
        [
         "1",
         " Drunk Bragging Trump Staffer Started Russian Collusion Investigation",
         "House Intelligence Committee Chairman Devin Nunes is going to have a bad day. He s been under the assumption, like many of us, that the Christopher Steele-dossier was what prompted the Russia investigation so he s been lashing out at the Department of Justice and the FBI in order to protect Trump. As it happens, the dossier is not what started the investigation, according to documents obtained by the New York Times.Former Trump campaign adviser George Papadopoulos was drunk in a wine bar when he revealed knowledge of Russian opposition research on Hillary Clinton.On top of that, Papadopoulos wasn t just a covfefe boy for Trump, as his administration has alleged. He had a much larger role, but none so damning as being a drunken fool in a wine bar. Coffee boys  don t help to arrange a New York meeting between Trump and President Abdel Fattah el-Sisi of Egypt two months before the election. It was known before that the former aide set up meetings with world leaders for Trump, but team Trump ran with him being merely a coffee boy.In May 2016, Papadopoulos revealed to Australian diplomat Alexander Downer that Russian officials were shopping around possible dirt on then-Democratic presidential nominee Hillary Clinton. Exactly how much Mr. Papadopoulos said that night at the Kensington Wine Rooms with the Australian, Alexander Downer, is unclear,  the report states.  But two months later, when leaked Democratic emails began appearing online, Australian officials passed the information about Mr. Papadopoulos to their American counterparts, according to four current and former American and foreign officials with direct knowledge of the Australians  role. Papadopoulos pleaded guilty to lying to the F.B.I. and is now a cooperating witness with Special Counsel Robert Mueller s team.This isn t a presidency. It s a badly scripted reality TV show.Photo by Win McNamee/Getty Images.",
         "News",
         "December 31, 2017"
        ],
        [
         "2",
         " Sheriff David Clarke Becomes An Internet Joke For Threatening To Poke People ‘In The Eye’",
         "On Friday, it was revealed that former Milwaukee Sheriff David Clarke, who was being considered for Homeland Security Secretary in Donald Trump s administration, has an email scandal of his own.In January, there was a brief run-in on a plane between Clarke and fellow passenger Dan Black, who he later had detained by the police for no reason whatsoever, except that maybe his feelings were hurt. Clarke messaged the police to stop Black after he deplaned, and now, a search warrant has been executed by the FBI to see the exchanges.Clarke is calling it fake news even though copies of the search warrant are on the Internet. I am UNINTIMIDATED by lib media attempts to smear and discredit me with their FAKE NEWS reports designed to silence me,  the former sheriff tweeted.  I will continue to poke them in the eye with a sharp stick and bitch slap these scum bags til they get it. I have been attacked by better people than them #MAGA I am UNINTIMIDATED by lib media attempts to smear and discredit me with their FAKE NEWS reports designed to silence me. I will continue to poke them in the eye with a sharp stick and bitch slap these scum bags til they get it. I have been attacked by better people than them #MAGA pic.twitter.com/XtZW5PdU2b  David A. Clarke, Jr. (@SheriffClarke) December 30, 2017He didn t stop there.BREAKING NEWS! When LYING LIB MEDIA makes up FAKE NEWS to smear me, the ANTIDOTE is go right at them. Punch them in the nose & MAKE THEM TASTE THEIR OWN BLOOD. Nothing gets a bully like LYING LIB MEDIA S attention better than to give them a taste of their own blood #neverbackdown pic.twitter.com/T2NY2psHCR  David A. Clarke, Jr. (@SheriffClarke) December 30, 2017The internet called him out.This is your local newspaper and that search warrant isn t fake, and just because the chose not to file charges at the time doesn t mean they won t! Especially if you continue to lie. Months after decision not to charge Clarke, email search warrant filed https://t.co/zcbyc4Wp5b  KeithLeBlanc (@KeithLeBlanc63) December 30, 2017I just hope the rest of the Village People aren t implicated.  Kirk Ketchum (@kirkketchum) December 30, 2017Slaw, baked potatoes, or French fries? pic.twitter.com/fWfXsZupxy  ALT- Immigration   (@ALT_uscis) December 30, 2017pic.twitter.com/ymsOBLjfxU  Pendulum Swinger (@PendulumSwngr) December 30, 2017you called your police friends to stand up for you when someone made fun of your hat  Chris Jackson (@ChrisCJackson) December 30, 2017Is it me, with this masterful pshop of your hat, which I seem to never tire of. I think it s the steely resolve in your one visible eye pic.twitter.com/dWr5k8ZEZV  Chris Mohney (@chrismohney) December 30, 2017Are you indicating with your fingers how many people died in your jail? I think you re a few fingers short, dipshit  Ike Barinholtz (@ikebarinholtz) December 30, 2017ROFL. Internet tough guy with fake flair. pic.twitter.com/ulCFddhkdy  KellMeCrazy (@Kel_MoonFace) December 30, 2017You re so edgy, buddy.  Mrs. SMH (@MRSSMH2) December 30, 2017Is his break over at Applebees?  Aaron (@feltrrr2) December 30, 2017Are you trying to earn your  still relevant  badge?  CircusRebel (@CircusDrew) December 30, 2017make sure to hydrate, drink lots of water. It s rumored that prisoners can be denied water by prison officials.  Robert Klinc (@RobertKlinc1) December 30, 2017Terrill Thomas, the 38-year-old black man who died of thirst in Clarke s Milwaukee County Jail cell this April, was a victim of homicide. We just thought we should point that out. It can t be repeated enough.Photo by Spencer Platt/Getty Images.",
         "News",
         "December 30, 2017"
        ],
        [
         "3",
         " Trump Is So Obsessed He Even Has Obama’s Name Coded Into His Website (IMAGES)",
         "On Christmas day, Donald Trump announced that he would  be back to work  the following day, but he is golfing for the fourth day in a row. The former reality show star blasted former President Barack Obama for playing golf and now Trump is on track to outpace the number of golf games his predecessor played.Updated my tracker of Trump s appearances at Trump properties.71 rounds of golf including today s. At this pace, he ll pass Obama s first-term total by July 24 next year. https://t.co/Fg7VacxRtJ pic.twitter.com/5gEMcjQTbH  Philip Bump (@pbump) December 29, 2017 That makes what a Washington Post reporter discovered on Trump s website really weird, but everything about this administration is bizarre AF. The coding contained a reference to Obama and golf:  Unlike Obama, we are working to fix the problem   and not on the golf course.  However, the coding wasn t done correctly.The website of Donald Trump, who has spent several days in a row at the golf course, is coded to serve up the following message in the event of an internal server error: https://t.co/zrWpyMXRcz pic.twitter.com/wiQSQNNzw0  Christopher Ingraham (@_cingraham) December 28, 2017That snippet of code appears to be on all https://t.co/dkhw0AlHB4 pages, which the footer says is paid for by the RNC? pic.twitter.com/oaZDT126B3  Christopher Ingraham (@_cingraham) December 28, 2017It s also all over https://t.co/ayBlGmk65Z. As others have noted in this thread, this is weird code and it s not clear it would ever actually display, but who knows.  Christopher Ingraham (@_cingraham) December 28, 2017After the coding was called out, the reference to Obama was deleted.UPDATE: The golf error message has been removed from the Trump and GOP websites. They also fixed the javascript  =  vs  ==  problem. Still not clear when these messages would actually display, since the actual 404 (and presumably 500) page displays a different message pic.twitter.com/Z7dmyQ5smy  Christopher Ingraham (@_cingraham) December 29, 2017That suggests someone at either RNC or the Trump admin is sensitive enough to Trump s golf problem to make this issue go away quickly once people noticed. You have no idea how much I d love to see the email exchange that led us here.  Christopher Ingraham (@_cingraham) December 29, 2017 The code was f-cked up.The best part about this is that they are using the  =  (assignment) operator which means that bit of code will never get run. If you look a few lines up  errorCode  will always be  404          (@tw1trsux) December 28, 2017trump s coders can t code. Nobody is surprised.  Tim Peterson (@timrpeterson) December 28, 2017Donald Trump is obsessed with Obama that his name was even in the coding of his website while he played golf again.Photo by Joe Raedle/Getty Images.",
         "News",
         "December 29, 2017"
        ],
        [
         "4",
         " Pope Francis Just Called Out Donald Trump During His Christmas Speech",
         "Pope Francis used his annual Christmas Day message to rebuke Donald Trump without even mentioning his name. The Pope delivered his message just days after members of the United Nations condemned Trump s move to recognize Jerusalem as the capital of Israel. The Pontiff prayed on Monday for the  peaceful coexistence of two states within mutually agreed and internationally recognized borders. We see Jesus in the children of the Middle East who continue to suffer because of growing tensions between Israelis and Palestinians,  Francis said.  On this festive day, let us ask the Lord for peace for Jerusalem and for all the Holy Land. Let us pray that the will to resume dialogue may prevail between the parties and that a negotiated solution can finally be reached. The Pope went on to plead for acceptance of refugees who have been forced from their homes, and that is an issue Trump continues to fight against. Francis used Jesus for which there was  no place in the inn  as an analogy. Today, as the winds of war are blowing in our world and an outdated model of development continues to produce human, societal and environmental decline, Christmas invites us to focus on the sign of the Child and to recognize him in the faces of little children, especially those for whom, like Jesus,  there is no place in the inn,  he said. Jesus knows well the pain of not being welcomed and how hard it is not to have a place to lay one s head,  he added.  May our hearts not be closed as they were in the homes of Bethlehem. The Pope said that Mary and Joseph were immigrants who struggled to find a safe place to stay in Bethlehem. They had to leave their people, their home, and their land,  Francis said.  This was no comfortable or easy journey for a young couple about to have a child.   At heart, they were full of hope and expectation because of the child about to be born; yet their steps were weighed down by the uncertainties and dangers that attend those who have to leave their home behind. So many other footsteps are hidden in the footsteps of Joseph and Mary,  Francis said Sunday. We see the tracks of entire families forced to set out in our own day. We see the tracks of millions of persons who do not choose to go away, but driven from their land, leave behind their dear ones. Amen to that.Photo by Christopher Furlong/Getty Images.",
         "News",
         "December 25, 2017"
        ]
       ],
       "shape": {
        "columns": 4,
        "rows": 5
       }
      },
      "text/html": [
       "<div>\n",
       "<style scoped>\n",
       "    .dataframe tbody tr th:only-of-type {\n",
       "        vertical-align: middle;\n",
       "    }\n",
       "\n",
       "    .dataframe tbody tr th {\n",
       "        vertical-align: top;\n",
       "    }\n",
       "\n",
       "    .dataframe thead th {\n",
       "        text-align: right;\n",
       "    }\n",
       "</style>\n",
       "<table border=\"1\" class=\"dataframe\">\n",
       "  <thead>\n",
       "    <tr style=\"text-align: right;\">\n",
       "      <th></th>\n",
       "      <th>title</th>\n",
       "      <th>text</th>\n",
       "      <th>subject</th>\n",
       "      <th>date</th>\n",
       "    </tr>\n",
       "  </thead>\n",
       "  <tbody>\n",
       "    <tr>\n",
       "      <th>0</th>\n",
       "      <td>Donald Trump Sends Out Embarrassing New Year’...</td>\n",
       "      <td>Donald Trump just couldn t wish all Americans ...</td>\n",
       "      <td>News</td>\n",
       "      <td>December 31, 2017</td>\n",
       "    </tr>\n",
       "    <tr>\n",
       "      <th>1</th>\n",
       "      <td>Drunk Bragging Trump Staffer Started Russian ...</td>\n",
       "      <td>House Intelligence Committee Chairman Devin Nu...</td>\n",
       "      <td>News</td>\n",
       "      <td>December 31, 2017</td>\n",
       "    </tr>\n",
       "    <tr>\n",
       "      <th>2</th>\n",
       "      <td>Sheriff David Clarke Becomes An Internet Joke...</td>\n",
       "      <td>On Friday, it was revealed that former Milwauk...</td>\n",
       "      <td>News</td>\n",
       "      <td>December 30, 2017</td>\n",
       "    </tr>\n",
       "    <tr>\n",
       "      <th>3</th>\n",
       "      <td>Trump Is So Obsessed He Even Has Obama’s Name...</td>\n",
       "      <td>On Christmas day, Donald Trump announced that ...</td>\n",
       "      <td>News</td>\n",
       "      <td>December 29, 2017</td>\n",
       "    </tr>\n",
       "    <tr>\n",
       "      <th>4</th>\n",
       "      <td>Pope Francis Just Called Out Donald Trump Dur...</td>\n",
       "      <td>Pope Francis used his annual Christmas Day mes...</td>\n",
       "      <td>News</td>\n",
       "      <td>December 25, 2017</td>\n",
       "    </tr>\n",
       "  </tbody>\n",
       "</table>\n",
       "</div>"
      ],
      "text/plain": [
       "                                               title  \\\n",
       "0   Donald Trump Sends Out Embarrassing New Year’...   \n",
       "1   Drunk Bragging Trump Staffer Started Russian ...   \n",
       "2   Sheriff David Clarke Becomes An Internet Joke...   \n",
       "3   Trump Is So Obsessed He Even Has Obama’s Name...   \n",
       "4   Pope Francis Just Called Out Donald Trump Dur...   \n",
       "\n",
       "                                                text subject  \\\n",
       "0  Donald Trump just couldn t wish all Americans ...    News   \n",
       "1  House Intelligence Committee Chairman Devin Nu...    News   \n",
       "2  On Friday, it was revealed that former Milwauk...    News   \n",
       "3  On Christmas day, Donald Trump announced that ...    News   \n",
       "4  Pope Francis used his annual Christmas Day mes...    News   \n",
       "\n",
       "                date  \n",
       "0  December 31, 2017  \n",
       "1  December 31, 2017  \n",
       "2  December 30, 2017  \n",
       "3  December 29, 2017  \n",
       "4  December 25, 2017  "
      ]
     },
     "execution_count": 10,
     "metadata": {},
     "output_type": "execute_result"
    }
   ],
   "source": [
    "df_fake = pd.read_csv(\"Fake.csv\")\n",
    "df_true = pd.read_csv(\"True.csv\")\n",
    "df_fake.head()"
   ]
  },
  {
   "cell_type": "code",
   "execution_count": 11,
   "metadata": {},
   "outputs": [
    {
     "data": {
      "application/vnd.microsoft.datawrangler.viewer.v0+json": {
       "columns": [
        {
         "name": "index",
         "rawType": "int64",
         "type": "integer"
        },
        {
         "name": "title",
         "rawType": "object",
         "type": "string"
        },
        {
         "name": "text",
         "rawType": "object",
         "type": "string"
        },
        {
         "name": "subject",
         "rawType": "object",
         "type": "string"
        },
        {
         "name": "date",
         "rawType": "object",
         "type": "string"
        }
       ],
       "ref": "f866cfd6-7418-4569-ac01-116e02d94b08",
       "rows": [
        [
         "0",
         "As U.S. budget fight looms, Republicans flip their fiscal script",
         "WASHINGTON () - The head of a conservative Republican faction in the U.S. Congress, who voted this month for a huge expansion of the national debt to pay for tax cuts, called himself a “fiscal conservative” on Sunday and urged budget restraint in 2018. In keeping with a sharp pivot under way among Republicans, U.S. Representative Mark Meadows, speaking on CBS’ “Face the Nation,” drew a hard line on federal spending, which lawmakers are bracing to do battle over in January. When they return from the holidays on Wednesday, lawmakers will begin trying to pass a federal budget in a fight likely to be linked to other issues, such as immigration policy, even as the November congressional election campaigns approach in which Republicans will seek to keep control of Congress. President Donald Trump and his Republicans want a big budget increase in military spending, while Democrats also want proportional increases for non-defense “discretionary” spending on programs that support education, scientific research, infrastructure, public health and environmental protection. “The (Trump) administration has already been willing to say: ‘We’re going to increase non-defense discretionary spending ... by about 7 percent,’” Meadows, chairman of the small but influential House Freedom Caucus, said on the program. “Now, Democrats are saying that’s not enough, we need to give the government a pay raise of 10 to 11 percent. For a fiscal conservative, I don’t see where the rationale is. ... Eventually you run out of other people’s money,” he said. Meadows was among Republicans who voted in late December for their party’s debt-financed tax overhaul, which is expected to balloon the federal budget deficit and add about $1.5 trillion over 10 years to the $20 trillion national debt. “It’s interesting to hear Mark talk about fiscal responsibility,” Democratic U.S. Representative Joseph Crowley said on CBS. Crowley said the Republican tax bill would require the  United States to borrow $1.5 trillion, to be paid off by future generations, to finance tax cuts for corporations and the rich. “This is one of the least ... fiscally responsible bills we’ve ever seen passed in the history of the House of Representatives. I think we’re going to be paying for this for many, many years to come,” Crowley said. Republicans insist the tax package, the biggest U.S. tax overhaul in more than 30 years,  will boost the economy and job growth. House Speaker Paul Ryan, who also supported the tax bill, recently went further than Meadows, making clear in a radio interview that welfare or “entitlement reform,” as the party often calls it, would be a top Republican priority in 2018. In Republican parlance, “entitlement” programs mean food stamps, housing assistance, Medicare and Medicaid health insurance for the elderly, poor and disabled, as well as other programs created by Washington to assist the needy. Democrats seized on Ryan’s early December remarks, saying they showed Republicans would try to pay for their tax overhaul by seeking spending cuts for social programs. But the goals of House Republicans may have to take a back seat to the Senate, where the votes of some Democrats will be needed to approve a budget and prevent a government shutdown. Democrats will use their leverage in the Senate, which Republicans narrowly control, to defend both discretionary non-defense programs and social spending, while tackling the issue of the “Dreamers,” people brought illegally to the country as children. Trump in September put a March 2018 expiration date on the Deferred Action for Childhood Arrivals, or DACA, program, which protects the young immigrants from deportation and provides them with work permits. The president has said in recent Twitter messages he wants funding for his proposed Mexican border wall and other immigration law changes in exchange for agreeing to help the Dreamers. Representative Debbie Dingell told CBS she did not favor linking that issue to other policy objectives, such as wall funding. “We need to do DACA clean,” she said.  On Wednesday, Trump aides will meet with congressional leaders to discuss those issues. That will be followed by a weekend of strategy sessions for Trump and Republican leaders on Jan. 6 and 7, the White House said. Trump was also scheduled to meet on Sunday with Florida Republican Governor Rick Scott, who wants more emergency aid. The House has passed an $81 billion aid package after hurricanes in Florida, Texas and Puerto Rico, and wildfires in California. The package far exceeded the $44 billion requested by the Trump administration. The Senate has not yet voted on the aid. ",
         "politicsNews",
         "December 31, 2017 "
        ],
        [
         "1",
         "U.S. military to accept transgender recruits on Monday: Pentagon",
         "WASHINGTON () - Transgender people will be allowed for the first time to enlist in the U.S. military starting on Monday as ordered by federal courts, the Pentagon said on Friday, after President Donald Trump’s administration decided not to appeal rulings that blocked his transgender ban. Two federal appeals courts, one in Washington and one in Virginia, last week rejected the administration’s request to put on hold orders by lower court judges requiring the military to begin accepting transgender recruits on Jan. 1. A Justice Department official said the administration will not challenge those rulings. “The Department of Defense has announced that it will be releasing an independent study of these issues in the coming weeks. So rather than litigate this interim appeal before that occurs, the administration has decided to wait for DOD’s study and will continue to defend the president’s lawful authority in District Court in the meantime,” the official said, speaking on condition of anonymity. In September, the Pentagon said it had created a panel of senior officials to study how to implement a directive by Trump to prohibit transgender individuals from serving. The Defense Department has until Feb. 21 to submit a plan to Trump. Lawyers representing currently-serving transgender service members and aspiring recruits said they had expected the administration to appeal the rulings to the conservative-majority Supreme Court, but were hoping that would not happen. Pentagon spokeswoman Heather Babb said in a statement: “As mandated by court order, the Department of Defense is prepared to begin accessing transgender applicants for military service Jan. 1. All applicants must meet all accession standards.” Jennifer Levi, a lawyer with gay, lesbian and transgender advocacy group GLAD, called the decision not to appeal “great news.” “I’m hoping it means the government has come to see that there is no way to justify a ban and that it’s not good for the military or our country,” Levi said. Both GLAD and the American Civil Liberties Union represent plaintiffs in the lawsuits filed against the administration. In a move that appealed to his hard-line conservative supporters, Trump announced in July that he would prohibit transgender people from serving in the military, reversing Democratic President Barack Obama’s policy of accepting them. Trump said on Twitter at the time that the military “cannot be burdened with the tremendous medical costs and disruption that transgender in the military would entail.” Four federal judges - in Baltimore, Washington, D.C., Seattle and Riverside, California - have issued rulings blocking Trump’s ban while legal challenges to the Republican president’s policy proceed. The judges said the ban would likely violate the right under the U.S. Constitution to equal protection under the law. The Pentagon on Dec. 8 issued guidelines to recruitment personnel in order to enlist transgender applicants by Jan. 1. The memo outlined medical requirements and specified how the applicants’ sex would be identified and even which undergarments they would wear. The Trump administration previously said in legal papers that the armed forces were not prepared to train thousands of personnel on the medical standards needed to process transgender applicants and might have to accept “some individuals who are not medically fit for service.” The Obama administration had set a deadline of July 1, 2017, to begin accepting transgender recruits. But Trump’s defense secretary, James Mattis, postponed that date to Jan. 1, 2018, which the president’s ban then put off indefinitely. Trump has taken other steps aimed at rolling back transgender rights. In October, his administration said a federal law banning gender-based workplace discrimination does not protect transgender employees, reversing another Obama-era position. In February, Trump rescinded guidance issued by the Obama administration saying that public schools should allow transgender students to use the restroom that corresponds to their gender identity. ",
         "politicsNews",
         "December 29, 2017 "
        ],
        [
         "2",
         "Senior U.S. Republican senator: 'Let Mr. Mueller do his job'",
         "WASHINGTON () - The special counsel investigation of links between Russia and President Trump’s 2016 election campaign should continue without interference in 2018, despite calls from some Trump administration allies and Republican lawmakers to shut it down, a prominent Republican senator said on Sunday. Lindsey Graham, who serves on the Senate armed forces and judiciary committees, said Department of Justice Special Counsel Robert Mueller needs to carry on with his Russia investigation without political interference. “This investigation will go forward. It will be an investigation conducted without political influence,” Graham said on CBS’s Face the Nation news program. “And we all need to let Mr. Mueller do his job. I think he’s the right guy at the right time.”  The question of how Russia may have interfered in the election, and how Trump’s campaign may have had links with or co-ordinated any such effort, has loomed over the White House since Trump took office in January. It shows no sign of receding as Trump prepares for his second year in power, despite intensified rhetoric from some Trump allies in recent weeks accusing Mueller’s team of bias against the Republican president. Trump himself seemed to undercut his supporters in an interview last week with the New York Times in which he said he expected Mueller was “going to be fair.”    Russia’s role in the election and the question of possible links to the Trump campaign are the focus of multiple inquiries in Washington. Three committees of the Senate and the House of Representatives are investigating, as well as Mueller, whose team in May took over an earlier probe launched by the U.S. Federal Bureau of Investigation (FBI). Several members of the Trump campaign and administration have been convicted or indicted in the investigation.  Trump and his allies deny any collusion with Russia during the campaign, and the Kremlin has denied meddling in the election. Graham said he still wants an examination of the FBI’s use of a dossier on links between Trump and Russia that was compiled by a former British spy, Christopher Steele, which prompted Trump allies and some Republicans to question Mueller’s inquiry.   On Saturday, the New York Times reported that it was not that dossier that triggered an early FBI probe, but a tip from former Trump campaign foreign policy adviser George Papadopoulos to an Australian diplomat that Russia had damaging information about former Trump rival Hillary Clinton.  “I want somebody to look at the way the Department of Justice used this dossier. It bothers me greatly the way they used it, and I want somebody to look at it,” Graham said. But he said the Russia investigation must continue. “As a matter of fact, it would hurt us if we ignored it,” he said. ",
         "politicsNews",
         "December 31, 2017 "
        ],
        [
         "3",
         "FBI Russia probe helped by Australian diplomat tip-off: NYT",
         "WASHINGTON () - Trump campaign adviser George Papadopoulos told an Australian diplomat in May 2016 that Russia had political dirt on Democratic presidential candidate Hillary Clinton, the New York Times reported on Saturday. The conversation between Papadopoulos and the diplomat, Alexander Downer, in London was a driving factor behind the FBI’s decision to open a counter-intelligence investigation of Moscow’s contacts with the Trump campaign, the Times reported. Two months after the meeting, Australian officials passed the information that came from Papadopoulos to their American counterparts when leaked Democratic emails began appearing online, according to the newspaper, which cited four current and former U.S. and foreign officials. Besides the information from the Australians, the probe by the Federal Bureau of Investigation was also propelled by intelligence from other friendly governments, including the British and Dutch, the Times said. Papadopoulos, a Chicago-based international energy lawyer, pleaded guilty on Oct. 30 to lying to FBI agents about contacts with people who claimed to have ties to top Russian officials. It was the first criminal charge alleging links between the Trump campaign and Russia. The White House has played down the former aide’s campaign role, saying it was “extremely limited” and that any actions he took would have been on his own. The New York Times, however, reported that Papadopoulos helped set up a meeting between then-candidate Donald Trump and Egyptian President Abdel Fattah al-Sisi and edited the outline of Trump’s first major foreign policy speech in April 2016. The federal investigation, which is now being led by Special Counsel Robert Mueller, has hung over Trump’s White House since he took office almost a year ago. Some Trump allies have recently accused Mueller’s team of being biased against the Republican president. Lawyers for Papadopoulos did not immediately respond to requests by  for comment. Mueller’s office declined to comment. Trump’s White House attorney, Ty Cobb, declined to comment on the New York Times report. “Out of respect for the special counsel and his process, we are not commenting on matters such as this,” he said in a statement. Mueller has charged four Trump associates, including Papadopoulos, in his investigation. Russia has denied interfering in the U.S. election and Trump has said there was no collusion between his campaign and Moscow. ",
         "politicsNews",
         "December 30, 2017 "
        ],
        [
         "4",
         "Trump wants Postal Service to charge 'much more' for Amazon shipments",
         "SEATTLE/WASHINGTON () - President Donald Trump called on the U.S. Postal Service on Friday to charge “much more” to ship packages for Amazon (AMZN.O), picking another fight with an online retail giant he has criticized in the past.     “Why is the United States Post Office, which is losing many billions of dollars a year, while charging Amazon and others so little to deliver their packages, making Amazon richer and the Post Office dumber and poorer? Should be charging MUCH MORE!” Trump wrote on Twitter.  The president’s tweet drew fresh attention to the fragile finances of the Postal Service at a time when tens of millions of parcels have just been shipped all over the country for the holiday season.  The U.S. Postal Service, which runs at a big loss, is an independent agency within the federal government and does not receive tax dollars for operating expenses, according to its website.  Package delivery has become an increasingly important part of its business as the Internet has led to a sharp decline in the amount of first-class letters. The president does not determine postal rates. They are set by the Postal Regulatory Commission, an independent government agency with commissioners selected by the president from both political parties. That panel raised prices on packages by almost 2 percent in November.  Amazon was founded by Jeff Bezos, who remains the chief executive officer of the retail company and is the richest person in the world, according to Bloomberg News. Bezos also owns The Washington Post, a newspaper Trump has repeatedly railed against in his criticisms of the news media. In tweets over the past year, Trump has said the “Amazon Washington Post” fabricated stories. He has said Amazon does not pay sales tax, which is not true, and so hurts other retailers, part of a pattern by the former businessman and reality television host of periodically turning his ire on big American companies since he took office in January. Daniel Ives, a research analyst at GBH Insights, said Trump’s comment could be taken as a warning to the retail giant. However, he said he was not concerned for Amazon. “We do not see any price hikes in the future. However, that is a risk that Amazon is clearly aware of and (it) is building out its distribution (system) aggressively,” he said. Amazon has shown interest in the past in shifting into its own delivery service, including testing drones for deliveries. In 2015, the company spent $11.5 billion on shipping, 46 percent of its total operating expenses that year.  Amazon shares were down 0.86 percent to $1,175.90 by early afternoon. Overall, U.S. stock prices were down slightly on Friday.  Satish Jindel, president of ShipMatrix Inc, which analyzes shipping data, disputed the idea that the Postal Service charges less than United Parcel Service Inc (UPS.N) and FedEx Corp (FDX.N), the other biggest players in the parcel delivery business in the United States. Many customers get lower rates from UPS and FedEx than they would get from the post office for comparable services, he said. The Postal Service delivers about 62 percent of Amazon packages, for about 3.5 to 4 million a day during the current peak year-end holiday shipping season, Jindel said. The Seattle-based company and the post office have an agreement in which mail carriers take Amazon packages on the last leg of their journeys, from post offices to customers’ doorsteps. Amazon’s No. 2 carrier is UPS, at 21 percent, and FedEx is third, with 8 percent or so, according to Jindel. Trump’s comment tapped into a debate over whether Postal Service pricing has kept pace with the rise of e-commerce, which has flooded the mail with small packages.Private companies like UPS have long claimed the current system unfairly undercuts their business. Steve Gaut, a spokesman for UPS, noted that the company values its “productive relationship” with the postal service, but that it has filed with the Postal Regulatory Commission its concerns about the postal service’s methods for covering costs. Representatives for Amazon, the White House, the U.S. Postal Service and FedEx declined comment or were not immediately available for comment on Trump’s tweet. According to its annual report, the Postal Service lost $2.74 billion this year, and its deficit has ballooned to $61.86 billion.  While the Postal Service’s revenue for first class mail, marketing mail and periodicals is flat or declining, revenue from package delivery is up 44 percent since 2014 to $19.5 billion in the fiscal year ended Sept. 30, 2017. But it also lost about $2 billion in revenue when a temporary surcharge expired in April 2016. According to a Government Accountability Office report in February, the service is facing growing personnel expenses, particularly $73.4 billion in unfunded pension and benefits liabilities. The Postal Service has not announced any plans to cut costs. By law, the Postal Service has to set prices for package delivery to cover the costs attributable to that service. But the postal service allocates only 5.5 percent of its total costs to its business of shipping packages even though that line of business is 28 percent of its total revenue. ",
         "politicsNews",
         "December 29, 2017 "
        ]
       ],
       "shape": {
        "columns": 4,
        "rows": 5
       }
      },
      "text/html": [
       "<div>\n",
       "<style scoped>\n",
       "    .dataframe tbody tr th:only-of-type {\n",
       "        vertical-align: middle;\n",
       "    }\n",
       "\n",
       "    .dataframe tbody tr th {\n",
       "        vertical-align: top;\n",
       "    }\n",
       "\n",
       "    .dataframe thead th {\n",
       "        text-align: right;\n",
       "    }\n",
       "</style>\n",
       "<table border=\"1\" class=\"dataframe\">\n",
       "  <thead>\n",
       "    <tr style=\"text-align: right;\">\n",
       "      <th></th>\n",
       "      <th>title</th>\n",
       "      <th>text</th>\n",
       "      <th>subject</th>\n",
       "      <th>date</th>\n",
       "    </tr>\n",
       "  </thead>\n",
       "  <tbody>\n",
       "    <tr>\n",
       "      <th>0</th>\n",
       "      <td>As U.S. budget fight looms, Republicans flip t...</td>\n",
       "      <td>WASHINGTON () - The head of a conservative Rep...</td>\n",
       "      <td>politicsNews</td>\n",
       "      <td>December 31, 2017</td>\n",
       "    </tr>\n",
       "    <tr>\n",
       "      <th>1</th>\n",
       "      <td>U.S. military to accept transgender recruits o...</td>\n",
       "      <td>WASHINGTON () - Transgender people will be all...</td>\n",
       "      <td>politicsNews</td>\n",
       "      <td>December 29, 2017</td>\n",
       "    </tr>\n",
       "    <tr>\n",
       "      <th>2</th>\n",
       "      <td>Senior U.S. Republican senator: 'Let Mr. Muell...</td>\n",
       "      <td>WASHINGTON () - The special counsel investigat...</td>\n",
       "      <td>politicsNews</td>\n",
       "      <td>December 31, 2017</td>\n",
       "    </tr>\n",
       "    <tr>\n",
       "      <th>3</th>\n",
       "      <td>FBI Russia probe helped by Australian diplomat...</td>\n",
       "      <td>WASHINGTON () - Trump campaign adviser George ...</td>\n",
       "      <td>politicsNews</td>\n",
       "      <td>December 30, 2017</td>\n",
       "    </tr>\n",
       "    <tr>\n",
       "      <th>4</th>\n",
       "      <td>Trump wants Postal Service to charge 'much mor...</td>\n",
       "      <td>SEATTLE/WASHINGTON () - President Donald Trump...</td>\n",
       "      <td>politicsNews</td>\n",
       "      <td>December 29, 2017</td>\n",
       "    </tr>\n",
       "  </tbody>\n",
       "</table>\n",
       "</div>"
      ],
      "text/plain": [
       "                                               title  \\\n",
       "0  As U.S. budget fight looms, Republicans flip t...   \n",
       "1  U.S. military to accept transgender recruits o...   \n",
       "2  Senior U.S. Republican senator: 'Let Mr. Muell...   \n",
       "3  FBI Russia probe helped by Australian diplomat...   \n",
       "4  Trump wants Postal Service to charge 'much mor...   \n",
       "\n",
       "                                                text       subject  \\\n",
       "0  WASHINGTON () - The head of a conservative Rep...  politicsNews   \n",
       "1  WASHINGTON () - Transgender people will be all...  politicsNews   \n",
       "2  WASHINGTON () - The special counsel investigat...  politicsNews   \n",
       "3  WASHINGTON () - Trump campaign adviser George ...  politicsNews   \n",
       "4  SEATTLE/WASHINGTON () - President Donald Trump...  politicsNews   \n",
       "\n",
       "                 date  \n",
       "0  December 31, 2017   \n",
       "1  December 29, 2017   \n",
       "2  December 31, 2017   \n",
       "3  December 30, 2017   \n",
       "4  December 29, 2017   "
      ]
     },
     "execution_count": 11,
     "metadata": {},
     "output_type": "execute_result"
    }
   ],
   "source": [
    "df_true[\"text\"] = df_true[\"text\"].replace(\"(Reuters)\",\"\",regex=True)\n",
    "df_true.head()\n",
    "## The String \"()\" still remains in the text column to be removed which i take care of during the NLP part done below"
   ]
  },
  {
   "cell_type": "markdown",
   "metadata": {},
   "source": [
    "Inserting a column \"class\" as target feature"
   ]
  },
  {
   "cell_type": "code",
   "execution_count": 12,
   "metadata": {},
   "outputs": [],
   "source": [
    "df_fake[\"target\"] = 0\n",
    "df_true[\"target\"] = 1"
   ]
  },
  {
   "cell_type": "code",
   "execution_count": 13,
   "metadata": {},
   "outputs": [
    {
     "data": {
      "application/vnd.microsoft.datawrangler.viewer.v0+json": {
       "columns": [
        {
         "name": "index",
         "rawType": "int64",
         "type": "integer"
        },
        {
         "name": "title",
         "rawType": "object",
         "type": "string"
        },
        {
         "name": "text",
         "rawType": "object",
         "type": "string"
        },
        {
         "name": "subject",
         "rawType": "object",
         "type": "string"
        },
        {
         "name": "date",
         "rawType": "object",
         "type": "string"
        },
        {
         "name": "target",
         "rawType": "int64",
         "type": "integer"
        }
       ],
       "ref": "28807f73-1317-40ed-81a2-3000b4c0268e",
       "rows": [
        [
         "0",
         "As U.S. budget fight looms, Republicans flip their fiscal script",
         "WASHINGTON () - The head of a conservative Republican faction in the U.S. Congress, who voted this month for a huge expansion of the national debt to pay for tax cuts, called himself a “fiscal conservative” on Sunday and urged budget restraint in 2018. In keeping with a sharp pivot under way among Republicans, U.S. Representative Mark Meadows, speaking on CBS’ “Face the Nation,” drew a hard line on federal spending, which lawmakers are bracing to do battle over in January. When they return from the holidays on Wednesday, lawmakers will begin trying to pass a federal budget in a fight likely to be linked to other issues, such as immigration policy, even as the November congressional election campaigns approach in which Republicans will seek to keep control of Congress. President Donald Trump and his Republicans want a big budget increase in military spending, while Democrats also want proportional increases for non-defense “discretionary” spending on programs that support education, scientific research, infrastructure, public health and environmental protection. “The (Trump) administration has already been willing to say: ‘We’re going to increase non-defense discretionary spending ... by about 7 percent,’” Meadows, chairman of the small but influential House Freedom Caucus, said on the program. “Now, Democrats are saying that’s not enough, we need to give the government a pay raise of 10 to 11 percent. For a fiscal conservative, I don’t see where the rationale is. ... Eventually you run out of other people’s money,” he said. Meadows was among Republicans who voted in late December for their party’s debt-financed tax overhaul, which is expected to balloon the federal budget deficit and add about $1.5 trillion over 10 years to the $20 trillion national debt. “It’s interesting to hear Mark talk about fiscal responsibility,” Democratic U.S. Representative Joseph Crowley said on CBS. Crowley said the Republican tax bill would require the  United States to borrow $1.5 trillion, to be paid off by future generations, to finance tax cuts for corporations and the rich. “This is one of the least ... fiscally responsible bills we’ve ever seen passed in the history of the House of Representatives. I think we’re going to be paying for this for many, many years to come,” Crowley said. Republicans insist the tax package, the biggest U.S. tax overhaul in more than 30 years,  will boost the economy and job growth. House Speaker Paul Ryan, who also supported the tax bill, recently went further than Meadows, making clear in a radio interview that welfare or “entitlement reform,” as the party often calls it, would be a top Republican priority in 2018. In Republican parlance, “entitlement” programs mean food stamps, housing assistance, Medicare and Medicaid health insurance for the elderly, poor and disabled, as well as other programs created by Washington to assist the needy. Democrats seized on Ryan’s early December remarks, saying they showed Republicans would try to pay for their tax overhaul by seeking spending cuts for social programs. But the goals of House Republicans may have to take a back seat to the Senate, where the votes of some Democrats will be needed to approve a budget and prevent a government shutdown. Democrats will use their leverage in the Senate, which Republicans narrowly control, to defend both discretionary non-defense programs and social spending, while tackling the issue of the “Dreamers,” people brought illegally to the country as children. Trump in September put a March 2018 expiration date on the Deferred Action for Childhood Arrivals, or DACA, program, which protects the young immigrants from deportation and provides them with work permits. The president has said in recent Twitter messages he wants funding for his proposed Mexican border wall and other immigration law changes in exchange for agreeing to help the Dreamers. Representative Debbie Dingell told CBS she did not favor linking that issue to other policy objectives, such as wall funding. “We need to do DACA clean,” she said.  On Wednesday, Trump aides will meet with congressional leaders to discuss those issues. That will be followed by a weekend of strategy sessions for Trump and Republican leaders on Jan. 6 and 7, the White House said. Trump was also scheduled to meet on Sunday with Florida Republican Governor Rick Scott, who wants more emergency aid. The House has passed an $81 billion aid package after hurricanes in Florida, Texas and Puerto Rico, and wildfires in California. The package far exceeded the $44 billion requested by the Trump administration. The Senate has not yet voted on the aid. ",
         "politicsNews",
         "December 31, 2017 ",
         "1"
        ],
        [
         "1",
         "U.S. military to accept transgender recruits on Monday: Pentagon",
         "WASHINGTON () - Transgender people will be allowed for the first time to enlist in the U.S. military starting on Monday as ordered by federal courts, the Pentagon said on Friday, after President Donald Trump’s administration decided not to appeal rulings that blocked his transgender ban. Two federal appeals courts, one in Washington and one in Virginia, last week rejected the administration’s request to put on hold orders by lower court judges requiring the military to begin accepting transgender recruits on Jan. 1. A Justice Department official said the administration will not challenge those rulings. “The Department of Defense has announced that it will be releasing an independent study of these issues in the coming weeks. So rather than litigate this interim appeal before that occurs, the administration has decided to wait for DOD’s study and will continue to defend the president’s lawful authority in District Court in the meantime,” the official said, speaking on condition of anonymity. In September, the Pentagon said it had created a panel of senior officials to study how to implement a directive by Trump to prohibit transgender individuals from serving. The Defense Department has until Feb. 21 to submit a plan to Trump. Lawyers representing currently-serving transgender service members and aspiring recruits said they had expected the administration to appeal the rulings to the conservative-majority Supreme Court, but were hoping that would not happen. Pentagon spokeswoman Heather Babb said in a statement: “As mandated by court order, the Department of Defense is prepared to begin accessing transgender applicants for military service Jan. 1. All applicants must meet all accession standards.” Jennifer Levi, a lawyer with gay, lesbian and transgender advocacy group GLAD, called the decision not to appeal “great news.” “I’m hoping it means the government has come to see that there is no way to justify a ban and that it’s not good for the military or our country,” Levi said. Both GLAD and the American Civil Liberties Union represent plaintiffs in the lawsuits filed against the administration. In a move that appealed to his hard-line conservative supporters, Trump announced in July that he would prohibit transgender people from serving in the military, reversing Democratic President Barack Obama’s policy of accepting them. Trump said on Twitter at the time that the military “cannot be burdened with the tremendous medical costs and disruption that transgender in the military would entail.” Four federal judges - in Baltimore, Washington, D.C., Seattle and Riverside, California - have issued rulings blocking Trump’s ban while legal challenges to the Republican president’s policy proceed. The judges said the ban would likely violate the right under the U.S. Constitution to equal protection under the law. The Pentagon on Dec. 8 issued guidelines to recruitment personnel in order to enlist transgender applicants by Jan. 1. The memo outlined medical requirements and specified how the applicants’ sex would be identified and even which undergarments they would wear. The Trump administration previously said in legal papers that the armed forces were not prepared to train thousands of personnel on the medical standards needed to process transgender applicants and might have to accept “some individuals who are not medically fit for service.” The Obama administration had set a deadline of July 1, 2017, to begin accepting transgender recruits. But Trump’s defense secretary, James Mattis, postponed that date to Jan. 1, 2018, which the president’s ban then put off indefinitely. Trump has taken other steps aimed at rolling back transgender rights. In October, his administration said a federal law banning gender-based workplace discrimination does not protect transgender employees, reversing another Obama-era position. In February, Trump rescinded guidance issued by the Obama administration saying that public schools should allow transgender students to use the restroom that corresponds to their gender identity. ",
         "politicsNews",
         "December 29, 2017 ",
         "1"
        ],
        [
         "2",
         "Senior U.S. Republican senator: 'Let Mr. Mueller do his job'",
         "WASHINGTON () - The special counsel investigation of links between Russia and President Trump’s 2016 election campaign should continue without interference in 2018, despite calls from some Trump administration allies and Republican lawmakers to shut it down, a prominent Republican senator said on Sunday. Lindsey Graham, who serves on the Senate armed forces and judiciary committees, said Department of Justice Special Counsel Robert Mueller needs to carry on with his Russia investigation without political interference. “This investigation will go forward. It will be an investigation conducted without political influence,” Graham said on CBS’s Face the Nation news program. “And we all need to let Mr. Mueller do his job. I think he’s the right guy at the right time.”  The question of how Russia may have interfered in the election, and how Trump’s campaign may have had links with or co-ordinated any such effort, has loomed over the White House since Trump took office in January. It shows no sign of receding as Trump prepares for his second year in power, despite intensified rhetoric from some Trump allies in recent weeks accusing Mueller’s team of bias against the Republican president. Trump himself seemed to undercut his supporters in an interview last week with the New York Times in which he said he expected Mueller was “going to be fair.”    Russia’s role in the election and the question of possible links to the Trump campaign are the focus of multiple inquiries in Washington. Three committees of the Senate and the House of Representatives are investigating, as well as Mueller, whose team in May took over an earlier probe launched by the U.S. Federal Bureau of Investigation (FBI). Several members of the Trump campaign and administration have been convicted or indicted in the investigation.  Trump and his allies deny any collusion with Russia during the campaign, and the Kremlin has denied meddling in the election. Graham said he still wants an examination of the FBI’s use of a dossier on links between Trump and Russia that was compiled by a former British spy, Christopher Steele, which prompted Trump allies and some Republicans to question Mueller’s inquiry.   On Saturday, the New York Times reported that it was not that dossier that triggered an early FBI probe, but a tip from former Trump campaign foreign policy adviser George Papadopoulos to an Australian diplomat that Russia had damaging information about former Trump rival Hillary Clinton.  “I want somebody to look at the way the Department of Justice used this dossier. It bothers me greatly the way they used it, and I want somebody to look at it,” Graham said. But he said the Russia investigation must continue. “As a matter of fact, it would hurt us if we ignored it,” he said. ",
         "politicsNews",
         "December 31, 2017 ",
         "1"
        ],
        [
         "3",
         "FBI Russia probe helped by Australian diplomat tip-off: NYT",
         "WASHINGTON () - Trump campaign adviser George Papadopoulos told an Australian diplomat in May 2016 that Russia had political dirt on Democratic presidential candidate Hillary Clinton, the New York Times reported on Saturday. The conversation between Papadopoulos and the diplomat, Alexander Downer, in London was a driving factor behind the FBI’s decision to open a counter-intelligence investigation of Moscow’s contacts with the Trump campaign, the Times reported. Two months after the meeting, Australian officials passed the information that came from Papadopoulos to their American counterparts when leaked Democratic emails began appearing online, according to the newspaper, which cited four current and former U.S. and foreign officials. Besides the information from the Australians, the probe by the Federal Bureau of Investigation was also propelled by intelligence from other friendly governments, including the British and Dutch, the Times said. Papadopoulos, a Chicago-based international energy lawyer, pleaded guilty on Oct. 30 to lying to FBI agents about contacts with people who claimed to have ties to top Russian officials. It was the first criminal charge alleging links between the Trump campaign and Russia. The White House has played down the former aide’s campaign role, saying it was “extremely limited” and that any actions he took would have been on his own. The New York Times, however, reported that Papadopoulos helped set up a meeting between then-candidate Donald Trump and Egyptian President Abdel Fattah al-Sisi and edited the outline of Trump’s first major foreign policy speech in April 2016. The federal investigation, which is now being led by Special Counsel Robert Mueller, has hung over Trump’s White House since he took office almost a year ago. Some Trump allies have recently accused Mueller’s team of being biased against the Republican president. Lawyers for Papadopoulos did not immediately respond to requests by  for comment. Mueller’s office declined to comment. Trump’s White House attorney, Ty Cobb, declined to comment on the New York Times report. “Out of respect for the special counsel and his process, we are not commenting on matters such as this,” he said in a statement. Mueller has charged four Trump associates, including Papadopoulos, in his investigation. Russia has denied interfering in the U.S. election and Trump has said there was no collusion between his campaign and Moscow. ",
         "politicsNews",
         "December 30, 2017 ",
         "1"
        ],
        [
         "4",
         "Trump wants Postal Service to charge 'much more' for Amazon shipments",
         "SEATTLE/WASHINGTON () - President Donald Trump called on the U.S. Postal Service on Friday to charge “much more” to ship packages for Amazon (AMZN.O), picking another fight with an online retail giant he has criticized in the past.     “Why is the United States Post Office, which is losing many billions of dollars a year, while charging Amazon and others so little to deliver their packages, making Amazon richer and the Post Office dumber and poorer? Should be charging MUCH MORE!” Trump wrote on Twitter.  The president’s tweet drew fresh attention to the fragile finances of the Postal Service at a time when tens of millions of parcels have just been shipped all over the country for the holiday season.  The U.S. Postal Service, which runs at a big loss, is an independent agency within the federal government and does not receive tax dollars for operating expenses, according to its website.  Package delivery has become an increasingly important part of its business as the Internet has led to a sharp decline in the amount of first-class letters. The president does not determine postal rates. They are set by the Postal Regulatory Commission, an independent government agency with commissioners selected by the president from both political parties. That panel raised prices on packages by almost 2 percent in November.  Amazon was founded by Jeff Bezos, who remains the chief executive officer of the retail company and is the richest person in the world, according to Bloomberg News. Bezos also owns The Washington Post, a newspaper Trump has repeatedly railed against in his criticisms of the news media. In tweets over the past year, Trump has said the “Amazon Washington Post” fabricated stories. He has said Amazon does not pay sales tax, which is not true, and so hurts other retailers, part of a pattern by the former businessman and reality television host of periodically turning his ire on big American companies since he took office in January. Daniel Ives, a research analyst at GBH Insights, said Trump’s comment could be taken as a warning to the retail giant. However, he said he was not concerned for Amazon. “We do not see any price hikes in the future. However, that is a risk that Amazon is clearly aware of and (it) is building out its distribution (system) aggressively,” he said. Amazon has shown interest in the past in shifting into its own delivery service, including testing drones for deliveries. In 2015, the company spent $11.5 billion on shipping, 46 percent of its total operating expenses that year.  Amazon shares were down 0.86 percent to $1,175.90 by early afternoon. Overall, U.S. stock prices were down slightly on Friday.  Satish Jindel, president of ShipMatrix Inc, which analyzes shipping data, disputed the idea that the Postal Service charges less than United Parcel Service Inc (UPS.N) and FedEx Corp (FDX.N), the other biggest players in the parcel delivery business in the United States. Many customers get lower rates from UPS and FedEx than they would get from the post office for comparable services, he said. The Postal Service delivers about 62 percent of Amazon packages, for about 3.5 to 4 million a day during the current peak year-end holiday shipping season, Jindel said. The Seattle-based company and the post office have an agreement in which mail carriers take Amazon packages on the last leg of their journeys, from post offices to customers’ doorsteps. Amazon’s No. 2 carrier is UPS, at 21 percent, and FedEx is third, with 8 percent or so, according to Jindel. Trump’s comment tapped into a debate over whether Postal Service pricing has kept pace with the rise of e-commerce, which has flooded the mail with small packages.Private companies like UPS have long claimed the current system unfairly undercuts their business. Steve Gaut, a spokesman for UPS, noted that the company values its “productive relationship” with the postal service, but that it has filed with the Postal Regulatory Commission its concerns about the postal service’s methods for covering costs. Representatives for Amazon, the White House, the U.S. Postal Service and FedEx declined comment or were not immediately available for comment on Trump’s tweet. According to its annual report, the Postal Service lost $2.74 billion this year, and its deficit has ballooned to $61.86 billion.  While the Postal Service’s revenue for first class mail, marketing mail and periodicals is flat or declining, revenue from package delivery is up 44 percent since 2014 to $19.5 billion in the fiscal year ended Sept. 30, 2017. But it also lost about $2 billion in revenue when a temporary surcharge expired in April 2016. According to a Government Accountability Office report in February, the service is facing growing personnel expenses, particularly $73.4 billion in unfunded pension and benefits liabilities. The Postal Service has not announced any plans to cut costs. By law, the Postal Service has to set prices for package delivery to cover the costs attributable to that service. But the postal service allocates only 5.5 percent of its total costs to its business of shipping packages even though that line of business is 28 percent of its total revenue. ",
         "politicsNews",
         "December 29, 2017 ",
         "1"
        ],
        [
         "5",
         "White House, Congress prepare for talks on spending, immigration",
         "WEST PALM BEACH, Fla./WASHINGTON () - The White House said on Friday it was set to kick off talks next week with Republican and Democratic congressional leaders on immigration policy, government spending and other issues that need to be wrapped up early in the new year. The expected flurry of legislative activity comes as Republicans and Democrats begin to set the stage for midterm congressional elections in November. President Donald Trump’s Republican Party is eager to maintain control of Congress while Democrats look for openings to wrest seats away in the Senate and the House of Representatives. On Wednesday, Trump’s budget chief Mick Mulvaney and legislative affairs director Marc Short will meet with Senate Majority Leader Mitch McConnell and House Speaker Paul Ryan - both Republicans - and their Democratic counterparts, Senator Chuck Schumer and Representative Nancy Pelosi, the White House said. That will be followed up with a weekend of strategy sessions for Trump, McConnell and Ryan on Jan. 6 and 7 at the Camp David presidential retreat in Maryland, according to the White House. The Senate returns to work on Jan. 3 and the House on Jan. 8. Congress passed a short-term government funding bill last week before taking its Christmas break, but needs to come to an agreement on defense spending and various domestic programs by Jan. 19, or the government will shut down. Also on the agenda for lawmakers is disaster aid for people hit by hurricanes in Puerto Rico, Texas and Florida, and by wildfires in California. The House passed an $81 billion package in December, which the Senate did not take up. The White House has asked for a smaller figure, $44 billion. Deadlines also loom for soon-to-expire protections for young adult immigrants who entered the country illegally as children, known as “Dreamers.” In September, Trump ended Democratic former President Barack Obama’s Deferred Action for Childhood Arrivals (DACA) program, which protected Dreamers from deportation and provided work permits, effective in March, giving Congress until then to devise a long-term solution. Democrats, some Republicans and a number of large companies have pushed for DACA protections to continue. Trump and other Republicans have said that will not happen without Congress approving broader immigration policy changes and tougher border security. Democrats oppose funding for a wall promised by Trump along the U.S.-Mexican border.  “The Democrats have been told, and fully understand, that there can be no DACA without the desperately needed WALL at the Southern Border and an END to the horrible Chain Migration & ridiculous Lottery System of Immigration etc,” Trump said in a Twitter post on Friday. Trump wants to overhaul immigration rules for extended families and others seeking to live in the United States. Republican U.S. Senator Jeff Flake, a frequent critic of the president, said he would work with Trump to protect Dreamers. “We can fix DACA in a way that beefs up border security, stops chain migration for the DREAMers, and addresses the unfairness of the diversity lottery. If POTUS (Trump) wants to protect these kids, we want to help him keep that promise,” Flake wrote on Twitter. Congress in early 2018 also must raise the U.S. debt ceiling to avoid a government default. The U.S. Treasury would exhaust all of its borrowing options and run dry of cash to pay its bills by late March or early April if Congress does not raise the debt ceiling before then, according to the nonpartisan Congressional Budget Office. Trump, who won his first major legislative victory with the passage of a major tax overhaul this month, has also promised a major infrastructure plan. ",
         "politicsNews",
         "December 29, 2017 ",
         "1"
        ],
        [
         "6",
         "Trump says Russia probe will be fair, but timeline unclear: NYT",
         "WEST PALM BEACH, Fla () - President Donald Trump said on Thursday he believes he will be fairly treated in a special counsel investigation into Russian meddling in the U.S. presidential election, but said he did not know how long the probe would last. The federal investigation has hung over Trump’s White House since he took office almost a year ago, and some Trump allies have in recent weeks accused the team of Justice Department Special Counsel Robert Mueller of being biased against the Republican president. But in an interview with the New York Times, Trump appeared to shrug off concerns about the investigation, which was prompted by U.S. intelligence agencies’ conclusion that Russia tried to help Trump defeat Democrat Hillary Clinton by hacking and releasing embarrassing emails and disseminating propaganda. “There’s been no collusion. But I think he’s going to be fair,” Trump said in what the Times described as a 30-minute impromptu interview at his golf club in West Palm Beach, Florida. Mueller has charged four Trump associates in his investigation. Russia has denied interfering in the U.S. election. U.S. Deputy Attorney General Rod Rosenstein said this month that he was not aware of any impropriety by Mueller’s team. Trump’s lawyers have been saying for weeks that they had expected the Mueller investigation to wrap up quickly, possibly by the end of 2017. Mueller has not commented on how long it will last. Trump told the Times that he did not know how long the investigation would take. “Timing-wise, I can’t tell you. I just don’t know,” he said. Trump said he thought a prolonged probe “makes the country look bad” but said it has energized his core supporters. “What it’s done is, it’s really angered the base and made the base stronger. My base is strong than it’s ever been,” he said. The interview was a rare break in Trump’s Christmas vacation in Florida. He has golfed each day aside from Christmas Day, and mainly kept a low profile, apart from the occasional flurry of tweets. He spent one day golfing with Republican Senator David Perdue from Georgia, who has pushed legislation to cap immigration numbers, and had dinner on Thursday with Commerce Secretary Wilbur Ross, an international trade hawk. Trump told the Times he hoped to work with Democrats in the U.S. Congress on a spending plan to fix roads and other infrastructure, and on protections for a group of undocumented immigrants who were brought to the United States as children. Trump spoke about trade issues, saying he had backed off his hard line on Chinese trade practices in the hope that Beijing would do more to pressure North Korea to end its nuclear and missile testing program. He said he had been disappointed in the results. He also complained about the North American Free Trade Agreement (NAFTA), which his administration is attempting to renegotiate in talks with Mexico and Canada. Trump said Canadian Prime Minister Justin Trudeau had played down the importance of Canadian oil and lumber exports to the United States when looking at the balance of trade between the two countries. “If I don’t make the right deal, I’ll terminate NAFTA in two seconds. But we’re doing pretty good,” Trump said. ",
         "politicsNews",
         "December 29, 2017 ",
         "1"
        ],
        [
         "7",
         "Factbox: Trump on Twitter (Dec 29) - Approval rating, Amazon",
         "The following statements were posted to the verified Twitter accounts of U.S. President Donald Trump, @realDonaldTrump and @POTUS.  The opinions expressed are his own.  has not edited the statements or confirmed their accuracy.  @realDonaldTrump : - While the Fake News loves to talk about my so-called low approval rating, @foxandfriends just showed that my rating on Dec. 28, 2017, was approximately the same as President Obama on Dec. 28, 2009, which was 47%...and this despite massive negative Trump coverage & Russia hoax! [0746 EST] - Why is the United States Post Office, which is losing many billions of dollars a year, while charging Amazon and others so little to deliver their packages, making Amazon richer and the Post Office dumber and poorer? Should be charging MUCH MORE! [0804 EST] -- Source link: (bit.ly/2jBh4LU) (bit.ly/2jpEXYR) ",
         "politicsNews",
         "December 29, 2017 ",
         "1"
        ],
        [
         "8",
         "Trump on Twitter (Dec 28) - Global Warming",
         "The following statements were posted to the verified Twitter accounts of U.S. President Donald Trump, @realDonaldTrump and @POTUS.  The opinions expressed are his own.  has not edited the statements or confirmed their accuracy.  @realDonaldTrump : - Together, we are MAKING AMERICA GREAT AGAIN! bit.ly/2lnpKaq [1814 EST] - In the East, it could be the COLDEST New Year’s Eve on record. Perhaps we could use a little bit of that good old Global Warming that our Country, but not other countries, was going to pay TRILLIONS OF DOLLARS to protect against. Bundle up! [1901 EST] -- Source link: (bit.ly/2jBh4LU) (bit.ly/2jpEXYR) ",
         "politicsNews",
         "December 29, 2017 ",
         "1"
        ],
        [
         "9",
         "Alabama official to certify Senator-elect Jones today despite challenge: CNN",
         "WASHINGTON () - Alabama Secretary of State John Merrill said he will certify Democratic Senator-elect Doug Jones as winner on Thursday despite opponent Roy Moore’s challenge, in a phone call on CNN. Moore, a conservative who had faced allegations of groping teenage girls when he was in his 30s, filed a court challenge late on Wednesday to the outcome of a U.S. Senate election he unexpectedly lost. ",
         "politicsNews",
         "December 28, 2017 ",
         "1"
        ]
       ],
       "shape": {
        "columns": 5,
        "rows": 10
       }
      },
      "text/html": [
       "<div>\n",
       "<style scoped>\n",
       "    .dataframe tbody tr th:only-of-type {\n",
       "        vertical-align: middle;\n",
       "    }\n",
       "\n",
       "    .dataframe tbody tr th {\n",
       "        vertical-align: top;\n",
       "    }\n",
       "\n",
       "    .dataframe thead th {\n",
       "        text-align: right;\n",
       "    }\n",
       "</style>\n",
       "<table border=\"1\" class=\"dataframe\">\n",
       "  <thead>\n",
       "    <tr style=\"text-align: right;\">\n",
       "      <th></th>\n",
       "      <th>title</th>\n",
       "      <th>text</th>\n",
       "      <th>subject</th>\n",
       "      <th>date</th>\n",
       "      <th>target</th>\n",
       "    </tr>\n",
       "  </thead>\n",
       "  <tbody>\n",
       "    <tr>\n",
       "      <th>0</th>\n",
       "      <td>As U.S. budget fight looms, Republicans flip t...</td>\n",
       "      <td>WASHINGTON () - The head of a conservative Rep...</td>\n",
       "      <td>politicsNews</td>\n",
       "      <td>December 31, 2017</td>\n",
       "      <td>1</td>\n",
       "    </tr>\n",
       "    <tr>\n",
       "      <th>1</th>\n",
       "      <td>U.S. military to accept transgender recruits o...</td>\n",
       "      <td>WASHINGTON () - Transgender people will be all...</td>\n",
       "      <td>politicsNews</td>\n",
       "      <td>December 29, 2017</td>\n",
       "      <td>1</td>\n",
       "    </tr>\n",
       "    <tr>\n",
       "      <th>2</th>\n",
       "      <td>Senior U.S. Republican senator: 'Let Mr. Muell...</td>\n",
       "      <td>WASHINGTON () - The special counsel investigat...</td>\n",
       "      <td>politicsNews</td>\n",
       "      <td>December 31, 2017</td>\n",
       "      <td>1</td>\n",
       "    </tr>\n",
       "    <tr>\n",
       "      <th>3</th>\n",
       "      <td>FBI Russia probe helped by Australian diplomat...</td>\n",
       "      <td>WASHINGTON () - Trump campaign adviser George ...</td>\n",
       "      <td>politicsNews</td>\n",
       "      <td>December 30, 2017</td>\n",
       "      <td>1</td>\n",
       "    </tr>\n",
       "    <tr>\n",
       "      <th>4</th>\n",
       "      <td>Trump wants Postal Service to charge 'much mor...</td>\n",
       "      <td>SEATTLE/WASHINGTON () - President Donald Trump...</td>\n",
       "      <td>politicsNews</td>\n",
       "      <td>December 29, 2017</td>\n",
       "      <td>1</td>\n",
       "    </tr>\n",
       "    <tr>\n",
       "      <th>5</th>\n",
       "      <td>White House, Congress prepare for talks on spe...</td>\n",
       "      <td>WEST PALM BEACH, Fla./WASHINGTON () - The Whit...</td>\n",
       "      <td>politicsNews</td>\n",
       "      <td>December 29, 2017</td>\n",
       "      <td>1</td>\n",
       "    </tr>\n",
       "    <tr>\n",
       "      <th>6</th>\n",
       "      <td>Trump says Russia probe will be fair, but time...</td>\n",
       "      <td>WEST PALM BEACH, Fla () - President Donald Tru...</td>\n",
       "      <td>politicsNews</td>\n",
       "      <td>December 29, 2017</td>\n",
       "      <td>1</td>\n",
       "    </tr>\n",
       "    <tr>\n",
       "      <th>7</th>\n",
       "      <td>Factbox: Trump on Twitter (Dec 29) - Approval ...</td>\n",
       "      <td>The following statements were posted to the ve...</td>\n",
       "      <td>politicsNews</td>\n",
       "      <td>December 29, 2017</td>\n",
       "      <td>1</td>\n",
       "    </tr>\n",
       "    <tr>\n",
       "      <th>8</th>\n",
       "      <td>Trump on Twitter (Dec 28) - Global Warming</td>\n",
       "      <td>The following statements were posted to the ve...</td>\n",
       "      <td>politicsNews</td>\n",
       "      <td>December 29, 2017</td>\n",
       "      <td>1</td>\n",
       "    </tr>\n",
       "    <tr>\n",
       "      <th>9</th>\n",
       "      <td>Alabama official to certify Senator-elect Jone...</td>\n",
       "      <td>WASHINGTON () - Alabama Secretary of State Joh...</td>\n",
       "      <td>politicsNews</td>\n",
       "      <td>December 28, 2017</td>\n",
       "      <td>1</td>\n",
       "    </tr>\n",
       "  </tbody>\n",
       "</table>\n",
       "</div>"
      ],
      "text/plain": [
       "                                               title  \\\n",
       "0  As U.S. budget fight looms, Republicans flip t...   \n",
       "1  U.S. military to accept transgender recruits o...   \n",
       "2  Senior U.S. Republican senator: 'Let Mr. Muell...   \n",
       "3  FBI Russia probe helped by Australian diplomat...   \n",
       "4  Trump wants Postal Service to charge 'much mor...   \n",
       "5  White House, Congress prepare for talks on spe...   \n",
       "6  Trump says Russia probe will be fair, but time...   \n",
       "7  Factbox: Trump on Twitter (Dec 29) - Approval ...   \n",
       "8         Trump on Twitter (Dec 28) - Global Warming   \n",
       "9  Alabama official to certify Senator-elect Jone...   \n",
       "\n",
       "                                                text       subject  \\\n",
       "0  WASHINGTON () - The head of a conservative Rep...  politicsNews   \n",
       "1  WASHINGTON () - Transgender people will be all...  politicsNews   \n",
       "2  WASHINGTON () - The special counsel investigat...  politicsNews   \n",
       "3  WASHINGTON () - Trump campaign adviser George ...  politicsNews   \n",
       "4  SEATTLE/WASHINGTON () - President Donald Trump...  politicsNews   \n",
       "5  WEST PALM BEACH, Fla./WASHINGTON () - The Whit...  politicsNews   \n",
       "6  WEST PALM BEACH, Fla () - President Donald Tru...  politicsNews   \n",
       "7  The following statements were posted to the ve...  politicsNews   \n",
       "8  The following statements were posted to the ve...  politicsNews   \n",
       "9  WASHINGTON () - Alabama Secretary of State Joh...  politicsNews   \n",
       "\n",
       "                 date  target  \n",
       "0  December 31, 2017        1  \n",
       "1  December 29, 2017        1  \n",
       "2  December 31, 2017        1  \n",
       "3  December 30, 2017        1  \n",
       "4  December 29, 2017        1  \n",
       "5  December 29, 2017        1  \n",
       "6  December 29, 2017        1  \n",
       "7  December 29, 2017        1  \n",
       "8  December 29, 2017        1  \n",
       "9  December 28, 2017        1  "
      ]
     },
     "execution_count": 13,
     "metadata": {},
     "output_type": "execute_result"
    }
   ],
   "source": [
    "df_true.head(10)"
   ]
  },
  {
   "cell_type": "code",
   "execution_count": 14,
   "metadata": {},
   "outputs": [
    {
     "data": {
      "application/vnd.microsoft.datawrangler.viewer.v0+json": {
       "columns": [
        {
         "name": "index",
         "rawType": "int64",
         "type": "integer"
        },
        {
         "name": "title",
         "rawType": "object",
         "type": "string"
        },
        {
         "name": "text",
         "rawType": "object",
         "type": "string"
        },
        {
         "name": "subject",
         "rawType": "object",
         "type": "string"
        },
        {
         "name": "date",
         "rawType": "object",
         "type": "string"
        },
        {
         "name": "target",
         "rawType": "int64",
         "type": "integer"
        }
       ],
       "ref": "406a6bc0-3538-47c6-9cb5-40461a7003e7",
       "rows": [
        [
         "0",
         " Donald Trump Sends Out Embarrassing New Year’s Eve Message; This is Disturbing",
         "Donald Trump just couldn t wish all Americans a Happy New Year and leave it at that. Instead, he had to give a shout out to his enemies, haters and  the very dishonest fake news media.  The former reality show star had just one job to do and he couldn t do it. As our Country rapidly grows stronger and smarter, I want to wish all of my friends, supporters, enemies, haters, and even the very dishonest Fake News Media, a Happy and Healthy New Year,  President Angry Pants tweeted.  2018 will be a great year for America! As our Country rapidly grows stronger and smarter, I want to wish all of my friends, supporters, enemies, haters, and even the very dishonest Fake News Media, a Happy and Healthy New Year. 2018 will be a great year for America!  Donald J. Trump (@realDonaldTrump) December 31, 2017Trump s tweet went down about as welll as you d expect.What kind of president sends a New Year s greeting like this despicable, petty, infantile gibberish? Only Trump! His lack of decency won t even allow him to rise above the gutter long enough to wish the American citizens a happy new year!  Bishop Talbert Swan (@TalbertSwan) December 31, 2017no one likes you  Calvin (@calvinstowell) December 31, 2017Your impeachment would make 2018 a great year for America, but I ll also accept regaining control of Congress.  Miranda Yaver (@mirandayaver) December 31, 2017Do you hear yourself talk? When you have to include that many people that hate you you have to wonder? Why do the they all hate me?  Alan Sandoval (@AlanSandoval13) December 31, 2017Who uses the word Haters in a New Years wish??  Marlene (@marlene399) December 31, 2017You can t just say happy new year?  Koren pollitt (@Korencarpenter) December 31, 2017Here s Trump s New Year s Eve tweet from 2016.Happy New Year to all, including to my many enemies and those who have fought me and lost so badly they just don t know what to do. Love!  Donald J. Trump (@realDonaldTrump) December 31, 2016This is nothing new for Trump. He s been doing this for years.Trump has directed messages to his  enemies  and  haters  for New Year s, Easter, Thanksgiving, and the anniversary of 9/11. pic.twitter.com/4FPAe2KypA  Daniel Dale (@ddale8) December 31, 2017Trump s holiday tweets are clearly not presidential.How long did he work at Hallmark before becoming President?  Steven Goodine (@SGoodine) December 31, 2017He s always been like this . . . the only difference is that in the last few years, his filter has been breaking down.  Roy Schulze (@thbthttt) December 31, 2017Who, apart from a teenager uses the term haters?  Wendy (@WendyWhistles) December 31, 2017he s a fucking 5 year old  Who Knows (@rainyday80) December 31, 2017So, to all the people who voted for this a hole thinking he would change once he got into power, you were wrong! 70-year-old men don t change and now he s a year older.Photo by Andrew Burton/Getty Images.",
         "News",
         "December 31, 2017",
         "0"
        ],
        [
         "1",
         " Drunk Bragging Trump Staffer Started Russian Collusion Investigation",
         "House Intelligence Committee Chairman Devin Nunes is going to have a bad day. He s been under the assumption, like many of us, that the Christopher Steele-dossier was what prompted the Russia investigation so he s been lashing out at the Department of Justice and the FBI in order to protect Trump. As it happens, the dossier is not what started the investigation, according to documents obtained by the New York Times.Former Trump campaign adviser George Papadopoulos was drunk in a wine bar when he revealed knowledge of Russian opposition research on Hillary Clinton.On top of that, Papadopoulos wasn t just a covfefe boy for Trump, as his administration has alleged. He had a much larger role, but none so damning as being a drunken fool in a wine bar. Coffee boys  don t help to arrange a New York meeting between Trump and President Abdel Fattah el-Sisi of Egypt two months before the election. It was known before that the former aide set up meetings with world leaders for Trump, but team Trump ran with him being merely a coffee boy.In May 2016, Papadopoulos revealed to Australian diplomat Alexander Downer that Russian officials were shopping around possible dirt on then-Democratic presidential nominee Hillary Clinton. Exactly how much Mr. Papadopoulos said that night at the Kensington Wine Rooms with the Australian, Alexander Downer, is unclear,  the report states.  But two months later, when leaked Democratic emails began appearing online, Australian officials passed the information about Mr. Papadopoulos to their American counterparts, according to four current and former American and foreign officials with direct knowledge of the Australians  role. Papadopoulos pleaded guilty to lying to the F.B.I. and is now a cooperating witness with Special Counsel Robert Mueller s team.This isn t a presidency. It s a badly scripted reality TV show.Photo by Win McNamee/Getty Images.",
         "News",
         "December 31, 2017",
         "0"
        ],
        [
         "2",
         " Sheriff David Clarke Becomes An Internet Joke For Threatening To Poke People ‘In The Eye’",
         "On Friday, it was revealed that former Milwaukee Sheriff David Clarke, who was being considered for Homeland Security Secretary in Donald Trump s administration, has an email scandal of his own.In January, there was a brief run-in on a plane between Clarke and fellow passenger Dan Black, who he later had detained by the police for no reason whatsoever, except that maybe his feelings were hurt. Clarke messaged the police to stop Black after he deplaned, and now, a search warrant has been executed by the FBI to see the exchanges.Clarke is calling it fake news even though copies of the search warrant are on the Internet. I am UNINTIMIDATED by lib media attempts to smear and discredit me with their FAKE NEWS reports designed to silence me,  the former sheriff tweeted.  I will continue to poke them in the eye with a sharp stick and bitch slap these scum bags til they get it. I have been attacked by better people than them #MAGA I am UNINTIMIDATED by lib media attempts to smear and discredit me with their FAKE NEWS reports designed to silence me. I will continue to poke them in the eye with a sharp stick and bitch slap these scum bags til they get it. I have been attacked by better people than them #MAGA pic.twitter.com/XtZW5PdU2b  David A. Clarke, Jr. (@SheriffClarke) December 30, 2017He didn t stop there.BREAKING NEWS! When LYING LIB MEDIA makes up FAKE NEWS to smear me, the ANTIDOTE is go right at them. Punch them in the nose & MAKE THEM TASTE THEIR OWN BLOOD. Nothing gets a bully like LYING LIB MEDIA S attention better than to give them a taste of their own blood #neverbackdown pic.twitter.com/T2NY2psHCR  David A. Clarke, Jr. (@SheriffClarke) December 30, 2017The internet called him out.This is your local newspaper and that search warrant isn t fake, and just because the chose not to file charges at the time doesn t mean they won t! Especially if you continue to lie. Months after decision not to charge Clarke, email search warrant filed https://t.co/zcbyc4Wp5b  KeithLeBlanc (@KeithLeBlanc63) December 30, 2017I just hope the rest of the Village People aren t implicated.  Kirk Ketchum (@kirkketchum) December 30, 2017Slaw, baked potatoes, or French fries? pic.twitter.com/fWfXsZupxy  ALT- Immigration   (@ALT_uscis) December 30, 2017pic.twitter.com/ymsOBLjfxU  Pendulum Swinger (@PendulumSwngr) December 30, 2017you called your police friends to stand up for you when someone made fun of your hat  Chris Jackson (@ChrisCJackson) December 30, 2017Is it me, with this masterful pshop of your hat, which I seem to never tire of. I think it s the steely resolve in your one visible eye pic.twitter.com/dWr5k8ZEZV  Chris Mohney (@chrismohney) December 30, 2017Are you indicating with your fingers how many people died in your jail? I think you re a few fingers short, dipshit  Ike Barinholtz (@ikebarinholtz) December 30, 2017ROFL. Internet tough guy with fake flair. pic.twitter.com/ulCFddhkdy  KellMeCrazy (@Kel_MoonFace) December 30, 2017You re so edgy, buddy.  Mrs. SMH (@MRSSMH2) December 30, 2017Is his break over at Applebees?  Aaron (@feltrrr2) December 30, 2017Are you trying to earn your  still relevant  badge?  CircusRebel (@CircusDrew) December 30, 2017make sure to hydrate, drink lots of water. It s rumored that prisoners can be denied water by prison officials.  Robert Klinc (@RobertKlinc1) December 30, 2017Terrill Thomas, the 38-year-old black man who died of thirst in Clarke s Milwaukee County Jail cell this April, was a victim of homicide. We just thought we should point that out. It can t be repeated enough.Photo by Spencer Platt/Getty Images.",
         "News",
         "December 30, 2017",
         "0"
        ],
        [
         "3",
         " Trump Is So Obsessed He Even Has Obama’s Name Coded Into His Website (IMAGES)",
         "On Christmas day, Donald Trump announced that he would  be back to work  the following day, but he is golfing for the fourth day in a row. The former reality show star blasted former President Barack Obama for playing golf and now Trump is on track to outpace the number of golf games his predecessor played.Updated my tracker of Trump s appearances at Trump properties.71 rounds of golf including today s. At this pace, he ll pass Obama s first-term total by July 24 next year. https://t.co/Fg7VacxRtJ pic.twitter.com/5gEMcjQTbH  Philip Bump (@pbump) December 29, 2017 That makes what a Washington Post reporter discovered on Trump s website really weird, but everything about this administration is bizarre AF. The coding contained a reference to Obama and golf:  Unlike Obama, we are working to fix the problem   and not on the golf course.  However, the coding wasn t done correctly.The website of Donald Trump, who has spent several days in a row at the golf course, is coded to serve up the following message in the event of an internal server error: https://t.co/zrWpyMXRcz pic.twitter.com/wiQSQNNzw0  Christopher Ingraham (@_cingraham) December 28, 2017That snippet of code appears to be on all https://t.co/dkhw0AlHB4 pages, which the footer says is paid for by the RNC? pic.twitter.com/oaZDT126B3  Christopher Ingraham (@_cingraham) December 28, 2017It s also all over https://t.co/ayBlGmk65Z. As others have noted in this thread, this is weird code and it s not clear it would ever actually display, but who knows.  Christopher Ingraham (@_cingraham) December 28, 2017After the coding was called out, the reference to Obama was deleted.UPDATE: The golf error message has been removed from the Trump and GOP websites. They also fixed the javascript  =  vs  ==  problem. Still not clear when these messages would actually display, since the actual 404 (and presumably 500) page displays a different message pic.twitter.com/Z7dmyQ5smy  Christopher Ingraham (@_cingraham) December 29, 2017That suggests someone at either RNC or the Trump admin is sensitive enough to Trump s golf problem to make this issue go away quickly once people noticed. You have no idea how much I d love to see the email exchange that led us here.  Christopher Ingraham (@_cingraham) December 29, 2017 The code was f-cked up.The best part about this is that they are using the  =  (assignment) operator which means that bit of code will never get run. If you look a few lines up  errorCode  will always be  404          (@tw1trsux) December 28, 2017trump s coders can t code. Nobody is surprised.  Tim Peterson (@timrpeterson) December 28, 2017Donald Trump is obsessed with Obama that his name was even in the coding of his website while he played golf again.Photo by Joe Raedle/Getty Images.",
         "News",
         "December 29, 2017",
         "0"
        ],
        [
         "4",
         " Pope Francis Just Called Out Donald Trump During His Christmas Speech",
         "Pope Francis used his annual Christmas Day message to rebuke Donald Trump without even mentioning his name. The Pope delivered his message just days after members of the United Nations condemned Trump s move to recognize Jerusalem as the capital of Israel. The Pontiff prayed on Monday for the  peaceful coexistence of two states within mutually agreed and internationally recognized borders. We see Jesus in the children of the Middle East who continue to suffer because of growing tensions between Israelis and Palestinians,  Francis said.  On this festive day, let us ask the Lord for peace for Jerusalem and for all the Holy Land. Let us pray that the will to resume dialogue may prevail between the parties and that a negotiated solution can finally be reached. The Pope went on to plead for acceptance of refugees who have been forced from their homes, and that is an issue Trump continues to fight against. Francis used Jesus for which there was  no place in the inn  as an analogy. Today, as the winds of war are blowing in our world and an outdated model of development continues to produce human, societal and environmental decline, Christmas invites us to focus on the sign of the Child and to recognize him in the faces of little children, especially those for whom, like Jesus,  there is no place in the inn,  he said. Jesus knows well the pain of not being welcomed and how hard it is not to have a place to lay one s head,  he added.  May our hearts not be closed as they were in the homes of Bethlehem. The Pope said that Mary and Joseph were immigrants who struggled to find a safe place to stay in Bethlehem. They had to leave their people, their home, and their land,  Francis said.  This was no comfortable or easy journey for a young couple about to have a child.   At heart, they were full of hope and expectation because of the child about to be born; yet their steps were weighed down by the uncertainties and dangers that attend those who have to leave their home behind. So many other footsteps are hidden in the footsteps of Joseph and Mary,  Francis said Sunday. We see the tracks of entire families forced to set out in our own day. We see the tracks of millions of persons who do not choose to go away, but driven from their land, leave behind their dear ones. Amen to that.Photo by Christopher Furlong/Getty Images.",
         "News",
         "December 25, 2017",
         "0"
        ],
        [
         "5",
         " Racist Alabama Cops Brutalize Black Boy While He Is In Handcuffs (GRAPHIC IMAGES)",
         "The number of cases of cops brutalizing and killing people of color seems to see no end. Now, we have another case that needs to be shared far and wide. An Alabama woman by the name of Angela Williams shared a graphic photo of her son, lying in a hospital bed with a beaten and fractured face, on Facebook. It needs to be shared far and wide, because this is unacceptable.It is unclear why Williams  son was in police custody or what sort of altercation resulted in his arrest, but when you see the photo you will realize that these details matter not. Cops are not supposed to beat and brutalize those in their custody. In the post you are about to see, Ms. Williams expresses her hope that the cops had their body cameras on while they were beating her son, but I think we all know that there will be some kind of convenient  malfunction  to explain away the lack of existence of dash or body camera footage of what was clearly a brutal beating. Hell, it could even be described as attempted murder. Something tells me that this young man will never be the same. Without further ado, here is what Troy, Alabama s finest decided was appropriate treatment of Angela Williams  son:No matter what the perceived crime of this young man might be, this is completely unacceptable. The cops who did this need to rot in jail for a long, long time   but what you wanna bet they get a paid vacation while the force  investigates  itself, only to have the officers returned to duty posthaste?This, folks, is why we say BLACK LIVES MATTER. No way in hell would this have happened if Angela Williams  son had been white. Please share far and wide, and stay tuned to Addicting Info for further updates.Featured image via David McNew/Stringer/Getty Images",
         "News",
         "December 25, 2017",
         "0"
        ],
        [
         "6",
         " Fresh Off The Golf Course, Trump Lashes Out At FBI Deputy Director And James Comey",
         "Donald Trump spent a good portion of his day at his golf club, marking the 84th day he s done so since taking the oath of office. It must have been a bad game because just after that, Trump lashed out at FBI Deputy Director Andrew McCabe on Twitter following a report saying McCabe plans to retire in a few months. The report follows McCabe s testimony in front of congressional committees this week, as well as mounting criticism from Republicans regarding the Russia probe.So, naturally, Trump attacked McCabe with a lie. How can FBI Deputy Director Andrew McCabe, the man in charge, along with leakin  James Comey, of the Phony Hillary Clinton investigation (including her 33,000 illegally deleted emails) be given $700,000 for wife s campaign by Clinton Puppets during investigation?  Trump tweeted.How can FBI Deputy Director Andrew McCabe, the man in charge, along with leakin  James Comey, of the Phony Hillary Clinton investigation (including her 33,000 illegally deleted emails) be given $700,000 for wife s campaign by Clinton Puppets during investigation?  Donald J. Trump (@realDonaldTrump) December 23, 2017He didn t stop there.FBI Deputy Director Andrew McCabe is racing the clock to retire with full benefits. 90 days to go?!!!  Donald J. Trump (@realDonaldTrump) December 23, 2017Wow,  FBI lawyer James Baker reassigned,  according to @FoxNews.  Donald J. Trump (@realDonaldTrump) December 23, 2017With all of the Intel at Trump s disposal, he s getting his information from Fox News. McCabe spent most of his career in the fight against terrorism and now he s being attacked by the so-called president. Trump has been fact-checked before on his claim of his wife receiving $700,000 for her campaign.Politifact noted in late July that Trump s  tweet about Andrew McCabe is a significant distortion of the facts. And the implication that McCabe got Clinton off as a political favor doesn t make much sense when we look at the evidence. His July tweet was rated  mostly false.  But Trump repeats these lies because he knows his supporters will believe them without bothering to Google. It s still a lie, though.Photo by Zach Gibson   Pool/Getty Images.",
         "News",
         "December 23, 2017",
         "0"
        ],
        [
         "7",
         " Trump Said Some INSANELY Racist Stuff Inside The Oval Office, And Witnesses Back It Up",
         "In the wake of yet another court decision that derailed Donald Trump s plan to bar Muslims from entering the United States, the New York Times published a report on Saturday morning detailing the president s frustration at not getting his way   and how far back that frustration goes.According to the article, back in June, Trump stomped into the Oval Office, furious about the state of the travel ban, which he thought would be implemented and fully in place by then. Instead, he fumed, visas had already been issued to immigrants at such a rate that his  friends were calling to say he looked like a fool  after making his broad pronouncements.It was then that Trump began reading from a document that a top advisor, noted white supremacist Stephen Miller, had handed him just before the meeting with his Cabinet. The page listed how many visas had been issued this year, and included 2,500 from Afghanistan (a country not on the travel ban), 15,000 from Haiti (also not included), and 40,000 from Nigeria (sensing a pattern yet?), and Trump expressed his dismay at each.According to witnesses in the room who spoke to the Times on condition of anonymity, and who were interviewed along with three dozen others for the article, Trump called out each country for its faults as he read: Afghanistan was a  terrorist haven,  the people of Nigeria would  never go back to their huts once they saw the glory of America, and immigrants from Haiti  all have AIDS. Despite the extensive research done by the newspaper, the White House of course denies that any such language was used.But given Trump s racist history and his advisor Stephen Miller s blatant white nationalism, it would be no surprise if a Freedom of Information Act request turned up that the document in question had the statements printed inline as commentary for the president to punctuate his anger with. It was Miller, after all, who was responsible for the  American Carnage  speech that Trump delivered at his inauguration.This racist is a menace to America, and he doesn t represent anything that this country stands for. Let s hope that more indictments from Robert Mueller are on their way as we speak.Featured image via Chris Kleponis/Pool/Getty Images",
         "News",
         "December 23, 2017",
         "0"
        ],
        [
         "8",
         " Former CIA Director Slams Trump Over UN Bullying, Openly Suggests He’s Acting Like A Dictator (TWEET)",
         "Many people have raised the alarm regarding the fact that Donald Trump is dangerously close to becoming an autocrat. The thing is, democracies become autocracies right under the people s noses, because they can often look like democracies in the beginning phases. This was explained by Republican David Frum just a couple of months into Donald Trump s presidency, in a piece in The Atlantic called  How to Build an Autocracy. In fact, if you really look critically at what is happening right now   the systematic discrediting of vital institutions such as the free press and the Federal Bureau of Investigation as well the direct weaponization of the Department of Justice in order to go after Trump s former political opponent, 2016 Democratic nominee Hillary Clinton, and you have the makings of an autocracy. We are more than well on our way. Further, one chamber of Congress, the House of Representatives, already has a rogue band of Republicans who are running a parallel investigation to the official Russian collusion investigation, with the explicit intent of undermining and discrediting the idea that Trump could have possibly done anything wrong with the Russians in order to swing the 2016 election in his favor.All of that is just for starters, too. Now, we have Trump making United Nations Ambassador Nikki Haley bully and threaten other countries in the United Nations who voted against Trump s decision to change U.S. policy when it comes to recognition of Jerusalem as the capital of the Jewish State. Well, one expert, who is usually quite measured, has had enough of Trump s autocratic antics: Former CIA Director John O. Brennan. The seasoned spy took to Trump s favorite platform, Twitter, and blasted the decision:Trump Admin threat to retaliate against nations that exercise sovereign right in UN to oppose US position on Jerusalem is beyond outrageous. Shows @realDonaldTrump expects blind loyalty and subservience from everyone qualities usually found in narcissistic, vengeful autocrats.  John O. Brennan (@JohnBrennan) December 21, 2017Director Brennan is correct, of course. Trump is behaving just like an autocrat, and so many people in the nation are asleep when it comes to this dangerous age, in which the greatest threat to democracy and the very fabric of the republic itself is the American president. Fellow Americans, we know the GOP-led Congress will not be the check on Trump that they are supposed to be. It s time to get out and flip the House and possibly the Senate in 2018, and resist in the meantime, if we want to save our country from devolving into something that looks more like Russia or North Korea than the America we have always know. We re already well on our way.Featured image via BRENDAN SMIALOWSKI/AFP/Getty Images",
         "News",
         "December 22, 2017",
         "0"
        ],
        [
         "9",
         " WATCH: Brand-New Pro-Trump Ad Features So Much A** Kissing It Will Make You Sick",
         "Just when you might have thought we d get a break from watching people kiss Donald Trump s ass and stroke his ego ad nauseam, a pro-Trump group creates an ad that s nothing but people doing even more of those exact things. America First Policies is set to release this ad, called  Thank You, President Trump,  on Christmas Day and, well, we threw up a little in our mouths trying to watch this.Basically, the spot is nothing but people fawning all over Trump for all the stuff he hasn t actually done. The ad includes a scene with a little girl thanking Trump for bringing back  Merry Christmas,  which never went away (there are even videos of President Obama saying  Merry Christmas  himself). A man thanks him for cutting his taxes. And America First says that everyday Americans everywhere are thanking Trump for being such a great and awesome president.The best president.Nobody s ever done what he s done. He s breaking all kinds of records every day.Believe us.Anyway, the word  propaganda  comes to mind when watching this. That s what it is   literal propaganda promoting someone who shouldn t need this kind of promotion anymore. Watch this ad bullshit below:The way the MAGAs are kowtowing to Orange Hitler is both disgusting and frightening. The man has done nothing, and his policies will harm the very same Americans who are thanking him. Unfortunately, it will take an obscene amount of pain before they ll open their eyes and see they ve been duped by a con man with a bad hairdo.And his ongoing need for this kind of adoration is, at best, unbecoming of his office. This ad is vile.Featured image via Al Drago-Pool/Getty Images",
         "News",
         "December 21, 2017",
         "0"
        ]
       ],
       "shape": {
        "columns": 5,
        "rows": 10
       }
      },
      "text/html": [
       "<div>\n",
       "<style scoped>\n",
       "    .dataframe tbody tr th:only-of-type {\n",
       "        vertical-align: middle;\n",
       "    }\n",
       "\n",
       "    .dataframe tbody tr th {\n",
       "        vertical-align: top;\n",
       "    }\n",
       "\n",
       "    .dataframe thead th {\n",
       "        text-align: right;\n",
       "    }\n",
       "</style>\n",
       "<table border=\"1\" class=\"dataframe\">\n",
       "  <thead>\n",
       "    <tr style=\"text-align: right;\">\n",
       "      <th></th>\n",
       "      <th>title</th>\n",
       "      <th>text</th>\n",
       "      <th>subject</th>\n",
       "      <th>date</th>\n",
       "      <th>target</th>\n",
       "    </tr>\n",
       "  </thead>\n",
       "  <tbody>\n",
       "    <tr>\n",
       "      <th>0</th>\n",
       "      <td>Donald Trump Sends Out Embarrassing New Year’...</td>\n",
       "      <td>Donald Trump just couldn t wish all Americans ...</td>\n",
       "      <td>News</td>\n",
       "      <td>December 31, 2017</td>\n",
       "      <td>0</td>\n",
       "    </tr>\n",
       "    <tr>\n",
       "      <th>1</th>\n",
       "      <td>Drunk Bragging Trump Staffer Started Russian ...</td>\n",
       "      <td>House Intelligence Committee Chairman Devin Nu...</td>\n",
       "      <td>News</td>\n",
       "      <td>December 31, 2017</td>\n",
       "      <td>0</td>\n",
       "    </tr>\n",
       "    <tr>\n",
       "      <th>2</th>\n",
       "      <td>Sheriff David Clarke Becomes An Internet Joke...</td>\n",
       "      <td>On Friday, it was revealed that former Milwauk...</td>\n",
       "      <td>News</td>\n",
       "      <td>December 30, 2017</td>\n",
       "      <td>0</td>\n",
       "    </tr>\n",
       "    <tr>\n",
       "      <th>3</th>\n",
       "      <td>Trump Is So Obsessed He Even Has Obama’s Name...</td>\n",
       "      <td>On Christmas day, Donald Trump announced that ...</td>\n",
       "      <td>News</td>\n",
       "      <td>December 29, 2017</td>\n",
       "      <td>0</td>\n",
       "    </tr>\n",
       "    <tr>\n",
       "      <th>4</th>\n",
       "      <td>Pope Francis Just Called Out Donald Trump Dur...</td>\n",
       "      <td>Pope Francis used his annual Christmas Day mes...</td>\n",
       "      <td>News</td>\n",
       "      <td>December 25, 2017</td>\n",
       "      <td>0</td>\n",
       "    </tr>\n",
       "    <tr>\n",
       "      <th>5</th>\n",
       "      <td>Racist Alabama Cops Brutalize Black Boy While...</td>\n",
       "      <td>The number of cases of cops brutalizing and ki...</td>\n",
       "      <td>News</td>\n",
       "      <td>December 25, 2017</td>\n",
       "      <td>0</td>\n",
       "    </tr>\n",
       "    <tr>\n",
       "      <th>6</th>\n",
       "      <td>Fresh Off The Golf Course, Trump Lashes Out A...</td>\n",
       "      <td>Donald Trump spent a good portion of his day a...</td>\n",
       "      <td>News</td>\n",
       "      <td>December 23, 2017</td>\n",
       "      <td>0</td>\n",
       "    </tr>\n",
       "    <tr>\n",
       "      <th>7</th>\n",
       "      <td>Trump Said Some INSANELY Racist Stuff Inside ...</td>\n",
       "      <td>In the wake of yet another court decision that...</td>\n",
       "      <td>News</td>\n",
       "      <td>December 23, 2017</td>\n",
       "      <td>0</td>\n",
       "    </tr>\n",
       "    <tr>\n",
       "      <th>8</th>\n",
       "      <td>Former CIA Director Slams Trump Over UN Bully...</td>\n",
       "      <td>Many people have raised the alarm regarding th...</td>\n",
       "      <td>News</td>\n",
       "      <td>December 22, 2017</td>\n",
       "      <td>0</td>\n",
       "    </tr>\n",
       "    <tr>\n",
       "      <th>9</th>\n",
       "      <td>WATCH: Brand-New Pro-Trump Ad Features So Muc...</td>\n",
       "      <td>Just when you might have thought we d get a br...</td>\n",
       "      <td>News</td>\n",
       "      <td>December 21, 2017</td>\n",
       "      <td>0</td>\n",
       "    </tr>\n",
       "  </tbody>\n",
       "</table>\n",
       "</div>"
      ],
      "text/plain": [
       "                                               title  \\\n",
       "0   Donald Trump Sends Out Embarrassing New Year’...   \n",
       "1   Drunk Bragging Trump Staffer Started Russian ...   \n",
       "2   Sheriff David Clarke Becomes An Internet Joke...   \n",
       "3   Trump Is So Obsessed He Even Has Obama’s Name...   \n",
       "4   Pope Francis Just Called Out Donald Trump Dur...   \n",
       "5   Racist Alabama Cops Brutalize Black Boy While...   \n",
       "6   Fresh Off The Golf Course, Trump Lashes Out A...   \n",
       "7   Trump Said Some INSANELY Racist Stuff Inside ...   \n",
       "8   Former CIA Director Slams Trump Over UN Bully...   \n",
       "9   WATCH: Brand-New Pro-Trump Ad Features So Muc...   \n",
       "\n",
       "                                                text subject  \\\n",
       "0  Donald Trump just couldn t wish all Americans ...    News   \n",
       "1  House Intelligence Committee Chairman Devin Nu...    News   \n",
       "2  On Friday, it was revealed that former Milwauk...    News   \n",
       "3  On Christmas day, Donald Trump announced that ...    News   \n",
       "4  Pope Francis used his annual Christmas Day mes...    News   \n",
       "5  The number of cases of cops brutalizing and ki...    News   \n",
       "6  Donald Trump spent a good portion of his day a...    News   \n",
       "7  In the wake of yet another court decision that...    News   \n",
       "8  Many people have raised the alarm regarding th...    News   \n",
       "9  Just when you might have thought we d get a br...    News   \n",
       "\n",
       "                date  target  \n",
       "0  December 31, 2017       0  \n",
       "1  December 31, 2017       0  \n",
       "2  December 30, 2017       0  \n",
       "3  December 29, 2017       0  \n",
       "4  December 25, 2017       0  \n",
       "5  December 25, 2017       0  \n",
       "6  December 23, 2017       0  \n",
       "7  December 23, 2017       0  \n",
       "8  December 22, 2017       0  \n",
       "9  December 21, 2017       0  "
      ]
     },
     "execution_count": 14,
     "metadata": {},
     "output_type": "execute_result"
    }
   ],
   "source": [
    "df_fake.head(10)"
   ]
  },
  {
   "cell_type": "markdown",
   "metadata": {},
   "source": [
    "Merging True and Fake Dataframes"
   ]
  },
  {
   "cell_type": "code",
   "execution_count": 15,
   "metadata": {},
   "outputs": [],
   "source": [
    "df_fake = df_fake.drop([\"title\",\"subject\",\"date\"],axis = 1)\n",
    "df_true = df_true.drop([\"title\",\"subject\",\"date\"],axis = 1)"
   ]
  },
  {
   "cell_type": "code",
   "execution_count": 16,
   "metadata": {},
   "outputs": [],
   "source": [
    "df = pd.concat([df_fake,df_true],axis = 0)"
   ]
  },
  {
   "cell_type": "code",
   "execution_count": 17,
   "metadata": {},
   "outputs": [
    {
     "data": {
      "application/vnd.microsoft.datawrangler.viewer.v0+json": {
       "columns": [
        {
         "name": "index",
         "rawType": "int64",
         "type": "integer"
        },
        {
         "name": "text",
         "rawType": "object",
         "type": "string"
        },
        {
         "name": "target",
         "rawType": "int64",
         "type": "integer"
        }
       ],
       "ref": "d5a121c2-213a-48d6-a1d2-1dd95c6f2d19",
       "rows": [
        [
         "0",
         "Donald Trump just couldn t wish all Americans a Happy New Year and leave it at that. Instead, he had to give a shout out to his enemies, haters and  the very dishonest fake news media.  The former reality show star had just one job to do and he couldn t do it. As our Country rapidly grows stronger and smarter, I want to wish all of my friends, supporters, enemies, haters, and even the very dishonest Fake News Media, a Happy and Healthy New Year,  President Angry Pants tweeted.  2018 will be a great year for America! As our Country rapidly grows stronger and smarter, I want to wish all of my friends, supporters, enemies, haters, and even the very dishonest Fake News Media, a Happy and Healthy New Year. 2018 will be a great year for America!  Donald J. Trump (@realDonaldTrump) December 31, 2017Trump s tweet went down about as welll as you d expect.What kind of president sends a New Year s greeting like this despicable, petty, infantile gibberish? Only Trump! His lack of decency won t even allow him to rise above the gutter long enough to wish the American citizens a happy new year!  Bishop Talbert Swan (@TalbertSwan) December 31, 2017no one likes you  Calvin (@calvinstowell) December 31, 2017Your impeachment would make 2018 a great year for America, but I ll also accept regaining control of Congress.  Miranda Yaver (@mirandayaver) December 31, 2017Do you hear yourself talk? When you have to include that many people that hate you you have to wonder? Why do the they all hate me?  Alan Sandoval (@AlanSandoval13) December 31, 2017Who uses the word Haters in a New Years wish??  Marlene (@marlene399) December 31, 2017You can t just say happy new year?  Koren pollitt (@Korencarpenter) December 31, 2017Here s Trump s New Year s Eve tweet from 2016.Happy New Year to all, including to my many enemies and those who have fought me and lost so badly they just don t know what to do. Love!  Donald J. Trump (@realDonaldTrump) December 31, 2016This is nothing new for Trump. He s been doing this for years.Trump has directed messages to his  enemies  and  haters  for New Year s, Easter, Thanksgiving, and the anniversary of 9/11. pic.twitter.com/4FPAe2KypA  Daniel Dale (@ddale8) December 31, 2017Trump s holiday tweets are clearly not presidential.How long did he work at Hallmark before becoming President?  Steven Goodine (@SGoodine) December 31, 2017He s always been like this . . . the only difference is that in the last few years, his filter has been breaking down.  Roy Schulze (@thbthttt) December 31, 2017Who, apart from a teenager uses the term haters?  Wendy (@WendyWhistles) December 31, 2017he s a fucking 5 year old  Who Knows (@rainyday80) December 31, 2017So, to all the people who voted for this a hole thinking he would change once he got into power, you were wrong! 70-year-old men don t change and now he s a year older.Photo by Andrew Burton/Getty Images.",
         "0"
        ],
        [
         "1",
         "House Intelligence Committee Chairman Devin Nunes is going to have a bad day. He s been under the assumption, like many of us, that the Christopher Steele-dossier was what prompted the Russia investigation so he s been lashing out at the Department of Justice and the FBI in order to protect Trump. As it happens, the dossier is not what started the investigation, according to documents obtained by the New York Times.Former Trump campaign adviser George Papadopoulos was drunk in a wine bar when he revealed knowledge of Russian opposition research on Hillary Clinton.On top of that, Papadopoulos wasn t just a covfefe boy for Trump, as his administration has alleged. He had a much larger role, but none so damning as being a drunken fool in a wine bar. Coffee boys  don t help to arrange a New York meeting between Trump and President Abdel Fattah el-Sisi of Egypt two months before the election. It was known before that the former aide set up meetings with world leaders for Trump, but team Trump ran with him being merely a coffee boy.In May 2016, Papadopoulos revealed to Australian diplomat Alexander Downer that Russian officials were shopping around possible dirt on then-Democratic presidential nominee Hillary Clinton. Exactly how much Mr. Papadopoulos said that night at the Kensington Wine Rooms with the Australian, Alexander Downer, is unclear,  the report states.  But two months later, when leaked Democratic emails began appearing online, Australian officials passed the information about Mr. Papadopoulos to their American counterparts, according to four current and former American and foreign officials with direct knowledge of the Australians  role. Papadopoulos pleaded guilty to lying to the F.B.I. and is now a cooperating witness with Special Counsel Robert Mueller s team.This isn t a presidency. It s a badly scripted reality TV show.Photo by Win McNamee/Getty Images.",
         "0"
        ],
        [
         "2",
         "On Friday, it was revealed that former Milwaukee Sheriff David Clarke, who was being considered for Homeland Security Secretary in Donald Trump s administration, has an email scandal of his own.In January, there was a brief run-in on a plane between Clarke and fellow passenger Dan Black, who he later had detained by the police for no reason whatsoever, except that maybe his feelings were hurt. Clarke messaged the police to stop Black after he deplaned, and now, a search warrant has been executed by the FBI to see the exchanges.Clarke is calling it fake news even though copies of the search warrant are on the Internet. I am UNINTIMIDATED by lib media attempts to smear and discredit me with their FAKE NEWS reports designed to silence me,  the former sheriff tweeted.  I will continue to poke them in the eye with a sharp stick and bitch slap these scum bags til they get it. I have been attacked by better people than them #MAGA I am UNINTIMIDATED by lib media attempts to smear and discredit me with their FAKE NEWS reports designed to silence me. I will continue to poke them in the eye with a sharp stick and bitch slap these scum bags til they get it. I have been attacked by better people than them #MAGA pic.twitter.com/XtZW5PdU2b  David A. Clarke, Jr. (@SheriffClarke) December 30, 2017He didn t stop there.BREAKING NEWS! When LYING LIB MEDIA makes up FAKE NEWS to smear me, the ANTIDOTE is go right at them. Punch them in the nose & MAKE THEM TASTE THEIR OWN BLOOD. Nothing gets a bully like LYING LIB MEDIA S attention better than to give them a taste of their own blood #neverbackdown pic.twitter.com/T2NY2psHCR  David A. Clarke, Jr. (@SheriffClarke) December 30, 2017The internet called him out.This is your local newspaper and that search warrant isn t fake, and just because the chose not to file charges at the time doesn t mean they won t! Especially if you continue to lie. Months after decision not to charge Clarke, email search warrant filed https://t.co/zcbyc4Wp5b  KeithLeBlanc (@KeithLeBlanc63) December 30, 2017I just hope the rest of the Village People aren t implicated.  Kirk Ketchum (@kirkketchum) December 30, 2017Slaw, baked potatoes, or French fries? pic.twitter.com/fWfXsZupxy  ALT- Immigration   (@ALT_uscis) December 30, 2017pic.twitter.com/ymsOBLjfxU  Pendulum Swinger (@PendulumSwngr) December 30, 2017you called your police friends to stand up for you when someone made fun of your hat  Chris Jackson (@ChrisCJackson) December 30, 2017Is it me, with this masterful pshop of your hat, which I seem to never tire of. I think it s the steely resolve in your one visible eye pic.twitter.com/dWr5k8ZEZV  Chris Mohney (@chrismohney) December 30, 2017Are you indicating with your fingers how many people died in your jail? I think you re a few fingers short, dipshit  Ike Barinholtz (@ikebarinholtz) December 30, 2017ROFL. Internet tough guy with fake flair. pic.twitter.com/ulCFddhkdy  KellMeCrazy (@Kel_MoonFace) December 30, 2017You re so edgy, buddy.  Mrs. SMH (@MRSSMH2) December 30, 2017Is his break over at Applebees?  Aaron (@feltrrr2) December 30, 2017Are you trying to earn your  still relevant  badge?  CircusRebel (@CircusDrew) December 30, 2017make sure to hydrate, drink lots of water. It s rumored that prisoners can be denied water by prison officials.  Robert Klinc (@RobertKlinc1) December 30, 2017Terrill Thomas, the 38-year-old black man who died of thirst in Clarke s Milwaukee County Jail cell this April, was a victim of homicide. We just thought we should point that out. It can t be repeated enough.Photo by Spencer Platt/Getty Images.",
         "0"
        ],
        [
         "3",
         "On Christmas day, Donald Trump announced that he would  be back to work  the following day, but he is golfing for the fourth day in a row. The former reality show star blasted former President Barack Obama for playing golf and now Trump is on track to outpace the number of golf games his predecessor played.Updated my tracker of Trump s appearances at Trump properties.71 rounds of golf including today s. At this pace, he ll pass Obama s first-term total by July 24 next year. https://t.co/Fg7VacxRtJ pic.twitter.com/5gEMcjQTbH  Philip Bump (@pbump) December 29, 2017 That makes what a Washington Post reporter discovered on Trump s website really weird, but everything about this administration is bizarre AF. The coding contained a reference to Obama and golf:  Unlike Obama, we are working to fix the problem   and not on the golf course.  However, the coding wasn t done correctly.The website of Donald Trump, who has spent several days in a row at the golf course, is coded to serve up the following message in the event of an internal server error: https://t.co/zrWpyMXRcz pic.twitter.com/wiQSQNNzw0  Christopher Ingraham (@_cingraham) December 28, 2017That snippet of code appears to be on all https://t.co/dkhw0AlHB4 pages, which the footer says is paid for by the RNC? pic.twitter.com/oaZDT126B3  Christopher Ingraham (@_cingraham) December 28, 2017It s also all over https://t.co/ayBlGmk65Z. As others have noted in this thread, this is weird code and it s not clear it would ever actually display, but who knows.  Christopher Ingraham (@_cingraham) December 28, 2017After the coding was called out, the reference to Obama was deleted.UPDATE: The golf error message has been removed from the Trump and GOP websites. They also fixed the javascript  =  vs  ==  problem. Still not clear when these messages would actually display, since the actual 404 (and presumably 500) page displays a different message pic.twitter.com/Z7dmyQ5smy  Christopher Ingraham (@_cingraham) December 29, 2017That suggests someone at either RNC or the Trump admin is sensitive enough to Trump s golf problem to make this issue go away quickly once people noticed. You have no idea how much I d love to see the email exchange that led us here.  Christopher Ingraham (@_cingraham) December 29, 2017 The code was f-cked up.The best part about this is that they are using the  =  (assignment) operator which means that bit of code will never get run. If you look a few lines up  errorCode  will always be  404          (@tw1trsux) December 28, 2017trump s coders can t code. Nobody is surprised.  Tim Peterson (@timrpeterson) December 28, 2017Donald Trump is obsessed with Obama that his name was even in the coding of his website while he played golf again.Photo by Joe Raedle/Getty Images.",
         "0"
        ],
        [
         "4",
         "Pope Francis used his annual Christmas Day message to rebuke Donald Trump without even mentioning his name. The Pope delivered his message just days after members of the United Nations condemned Trump s move to recognize Jerusalem as the capital of Israel. The Pontiff prayed on Monday for the  peaceful coexistence of two states within mutually agreed and internationally recognized borders. We see Jesus in the children of the Middle East who continue to suffer because of growing tensions between Israelis and Palestinians,  Francis said.  On this festive day, let us ask the Lord for peace for Jerusalem and for all the Holy Land. Let us pray that the will to resume dialogue may prevail between the parties and that a negotiated solution can finally be reached. The Pope went on to plead for acceptance of refugees who have been forced from their homes, and that is an issue Trump continues to fight against. Francis used Jesus for which there was  no place in the inn  as an analogy. Today, as the winds of war are blowing in our world and an outdated model of development continues to produce human, societal and environmental decline, Christmas invites us to focus on the sign of the Child and to recognize him in the faces of little children, especially those for whom, like Jesus,  there is no place in the inn,  he said. Jesus knows well the pain of not being welcomed and how hard it is not to have a place to lay one s head,  he added.  May our hearts not be closed as they were in the homes of Bethlehem. The Pope said that Mary and Joseph were immigrants who struggled to find a safe place to stay in Bethlehem. They had to leave their people, their home, and their land,  Francis said.  This was no comfortable or easy journey for a young couple about to have a child.   At heart, they were full of hope and expectation because of the child about to be born; yet their steps were weighed down by the uncertainties and dangers that attend those who have to leave their home behind. So many other footsteps are hidden in the footsteps of Joseph and Mary,  Francis said Sunday. We see the tracks of entire families forced to set out in our own day. We see the tracks of millions of persons who do not choose to go away, but driven from their land, leave behind their dear ones. Amen to that.Photo by Christopher Furlong/Getty Images.",
         "0"
        ],
        [
         "5",
         "The number of cases of cops brutalizing and killing people of color seems to see no end. Now, we have another case that needs to be shared far and wide. An Alabama woman by the name of Angela Williams shared a graphic photo of her son, lying in a hospital bed with a beaten and fractured face, on Facebook. It needs to be shared far and wide, because this is unacceptable.It is unclear why Williams  son was in police custody or what sort of altercation resulted in his arrest, but when you see the photo you will realize that these details matter not. Cops are not supposed to beat and brutalize those in their custody. In the post you are about to see, Ms. Williams expresses her hope that the cops had their body cameras on while they were beating her son, but I think we all know that there will be some kind of convenient  malfunction  to explain away the lack of existence of dash or body camera footage of what was clearly a brutal beating. Hell, it could even be described as attempted murder. Something tells me that this young man will never be the same. Without further ado, here is what Troy, Alabama s finest decided was appropriate treatment of Angela Williams  son:No matter what the perceived crime of this young man might be, this is completely unacceptable. The cops who did this need to rot in jail for a long, long time   but what you wanna bet they get a paid vacation while the force  investigates  itself, only to have the officers returned to duty posthaste?This, folks, is why we say BLACK LIVES MATTER. No way in hell would this have happened if Angela Williams  son had been white. Please share far and wide, and stay tuned to Addicting Info for further updates.Featured image via David McNew/Stringer/Getty Images",
         "0"
        ],
        [
         "6",
         "Donald Trump spent a good portion of his day at his golf club, marking the 84th day he s done so since taking the oath of office. It must have been a bad game because just after that, Trump lashed out at FBI Deputy Director Andrew McCabe on Twitter following a report saying McCabe plans to retire in a few months. The report follows McCabe s testimony in front of congressional committees this week, as well as mounting criticism from Republicans regarding the Russia probe.So, naturally, Trump attacked McCabe with a lie. How can FBI Deputy Director Andrew McCabe, the man in charge, along with leakin  James Comey, of the Phony Hillary Clinton investigation (including her 33,000 illegally deleted emails) be given $700,000 for wife s campaign by Clinton Puppets during investigation?  Trump tweeted.How can FBI Deputy Director Andrew McCabe, the man in charge, along with leakin  James Comey, of the Phony Hillary Clinton investigation (including her 33,000 illegally deleted emails) be given $700,000 for wife s campaign by Clinton Puppets during investigation?  Donald J. Trump (@realDonaldTrump) December 23, 2017He didn t stop there.FBI Deputy Director Andrew McCabe is racing the clock to retire with full benefits. 90 days to go?!!!  Donald J. Trump (@realDonaldTrump) December 23, 2017Wow,  FBI lawyer James Baker reassigned,  according to @FoxNews.  Donald J. Trump (@realDonaldTrump) December 23, 2017With all of the Intel at Trump s disposal, he s getting his information from Fox News. McCabe spent most of his career in the fight against terrorism and now he s being attacked by the so-called president. Trump has been fact-checked before on his claim of his wife receiving $700,000 for her campaign.Politifact noted in late July that Trump s  tweet about Andrew McCabe is a significant distortion of the facts. And the implication that McCabe got Clinton off as a political favor doesn t make much sense when we look at the evidence. His July tweet was rated  mostly false.  But Trump repeats these lies because he knows his supporters will believe them without bothering to Google. It s still a lie, though.Photo by Zach Gibson   Pool/Getty Images.",
         "0"
        ],
        [
         "7",
         "In the wake of yet another court decision that derailed Donald Trump s plan to bar Muslims from entering the United States, the New York Times published a report on Saturday morning detailing the president s frustration at not getting his way   and how far back that frustration goes.According to the article, back in June, Trump stomped into the Oval Office, furious about the state of the travel ban, which he thought would be implemented and fully in place by then. Instead, he fumed, visas had already been issued to immigrants at such a rate that his  friends were calling to say he looked like a fool  after making his broad pronouncements.It was then that Trump began reading from a document that a top advisor, noted white supremacist Stephen Miller, had handed him just before the meeting with his Cabinet. The page listed how many visas had been issued this year, and included 2,500 from Afghanistan (a country not on the travel ban), 15,000 from Haiti (also not included), and 40,000 from Nigeria (sensing a pattern yet?), and Trump expressed his dismay at each.According to witnesses in the room who spoke to the Times on condition of anonymity, and who were interviewed along with three dozen others for the article, Trump called out each country for its faults as he read: Afghanistan was a  terrorist haven,  the people of Nigeria would  never go back to their huts once they saw the glory of America, and immigrants from Haiti  all have AIDS. Despite the extensive research done by the newspaper, the White House of course denies that any such language was used.But given Trump s racist history and his advisor Stephen Miller s blatant white nationalism, it would be no surprise if a Freedom of Information Act request turned up that the document in question had the statements printed inline as commentary for the president to punctuate his anger with. It was Miller, after all, who was responsible for the  American Carnage  speech that Trump delivered at his inauguration.This racist is a menace to America, and he doesn t represent anything that this country stands for. Let s hope that more indictments from Robert Mueller are on their way as we speak.Featured image via Chris Kleponis/Pool/Getty Images",
         "0"
        ],
        [
         "8",
         "Many people have raised the alarm regarding the fact that Donald Trump is dangerously close to becoming an autocrat. The thing is, democracies become autocracies right under the people s noses, because they can often look like democracies in the beginning phases. This was explained by Republican David Frum just a couple of months into Donald Trump s presidency, in a piece in The Atlantic called  How to Build an Autocracy. In fact, if you really look critically at what is happening right now   the systematic discrediting of vital institutions such as the free press and the Federal Bureau of Investigation as well the direct weaponization of the Department of Justice in order to go after Trump s former political opponent, 2016 Democratic nominee Hillary Clinton, and you have the makings of an autocracy. We are more than well on our way. Further, one chamber of Congress, the House of Representatives, already has a rogue band of Republicans who are running a parallel investigation to the official Russian collusion investigation, with the explicit intent of undermining and discrediting the idea that Trump could have possibly done anything wrong with the Russians in order to swing the 2016 election in his favor.All of that is just for starters, too. Now, we have Trump making United Nations Ambassador Nikki Haley bully and threaten other countries in the United Nations who voted against Trump s decision to change U.S. policy when it comes to recognition of Jerusalem as the capital of the Jewish State. Well, one expert, who is usually quite measured, has had enough of Trump s autocratic antics: Former CIA Director John O. Brennan. The seasoned spy took to Trump s favorite platform, Twitter, and blasted the decision:Trump Admin threat to retaliate against nations that exercise sovereign right in UN to oppose US position on Jerusalem is beyond outrageous. Shows @realDonaldTrump expects blind loyalty and subservience from everyone qualities usually found in narcissistic, vengeful autocrats.  John O. Brennan (@JohnBrennan) December 21, 2017Director Brennan is correct, of course. Trump is behaving just like an autocrat, and so many people in the nation are asleep when it comes to this dangerous age, in which the greatest threat to democracy and the very fabric of the republic itself is the American president. Fellow Americans, we know the GOP-led Congress will not be the check on Trump that they are supposed to be. It s time to get out and flip the House and possibly the Senate in 2018, and resist in the meantime, if we want to save our country from devolving into something that looks more like Russia or North Korea than the America we have always know. We re already well on our way.Featured image via BRENDAN SMIALOWSKI/AFP/Getty Images",
         "0"
        ],
        [
         "9",
         "Just when you might have thought we d get a break from watching people kiss Donald Trump s ass and stroke his ego ad nauseam, a pro-Trump group creates an ad that s nothing but people doing even more of those exact things. America First Policies is set to release this ad, called  Thank You, President Trump,  on Christmas Day and, well, we threw up a little in our mouths trying to watch this.Basically, the spot is nothing but people fawning all over Trump for all the stuff he hasn t actually done. The ad includes a scene with a little girl thanking Trump for bringing back  Merry Christmas,  which never went away (there are even videos of President Obama saying  Merry Christmas  himself). A man thanks him for cutting his taxes. And America First says that everyday Americans everywhere are thanking Trump for being such a great and awesome president.The best president.Nobody s ever done what he s done. He s breaking all kinds of records every day.Believe us.Anyway, the word  propaganda  comes to mind when watching this. That s what it is   literal propaganda promoting someone who shouldn t need this kind of promotion anymore. Watch this ad bullshit below:The way the MAGAs are kowtowing to Orange Hitler is both disgusting and frightening. The man has done nothing, and his policies will harm the very same Americans who are thanking him. Unfortunately, it will take an obscene amount of pain before they ll open their eyes and see they ve been duped by a con man with a bad hairdo.And his ongoing need for this kind of adoration is, at best, unbecoming of his office. This ad is vile.Featured image via Al Drago-Pool/Getty Images",
         "0"
        ]
       ],
       "shape": {
        "columns": 2,
        "rows": 10
       }
      },
      "text/html": [
       "<div>\n",
       "<style scoped>\n",
       "    .dataframe tbody tr th:only-of-type {\n",
       "        vertical-align: middle;\n",
       "    }\n",
       "\n",
       "    .dataframe tbody tr th {\n",
       "        vertical-align: top;\n",
       "    }\n",
       "\n",
       "    .dataframe thead th {\n",
       "        text-align: right;\n",
       "    }\n",
       "</style>\n",
       "<table border=\"1\" class=\"dataframe\">\n",
       "  <thead>\n",
       "    <tr style=\"text-align: right;\">\n",
       "      <th></th>\n",
       "      <th>text</th>\n",
       "      <th>target</th>\n",
       "    </tr>\n",
       "  </thead>\n",
       "  <tbody>\n",
       "    <tr>\n",
       "      <th>0</th>\n",
       "      <td>Donald Trump just couldn t wish all Americans ...</td>\n",
       "      <td>0</td>\n",
       "    </tr>\n",
       "    <tr>\n",
       "      <th>1</th>\n",
       "      <td>House Intelligence Committee Chairman Devin Nu...</td>\n",
       "      <td>0</td>\n",
       "    </tr>\n",
       "    <tr>\n",
       "      <th>2</th>\n",
       "      <td>On Friday, it was revealed that former Milwauk...</td>\n",
       "      <td>0</td>\n",
       "    </tr>\n",
       "    <tr>\n",
       "      <th>3</th>\n",
       "      <td>On Christmas day, Donald Trump announced that ...</td>\n",
       "      <td>0</td>\n",
       "    </tr>\n",
       "    <tr>\n",
       "      <th>4</th>\n",
       "      <td>Pope Francis used his annual Christmas Day mes...</td>\n",
       "      <td>0</td>\n",
       "    </tr>\n",
       "    <tr>\n",
       "      <th>5</th>\n",
       "      <td>The number of cases of cops brutalizing and ki...</td>\n",
       "      <td>0</td>\n",
       "    </tr>\n",
       "    <tr>\n",
       "      <th>6</th>\n",
       "      <td>Donald Trump spent a good portion of his day a...</td>\n",
       "      <td>0</td>\n",
       "    </tr>\n",
       "    <tr>\n",
       "      <th>7</th>\n",
       "      <td>In the wake of yet another court decision that...</td>\n",
       "      <td>0</td>\n",
       "    </tr>\n",
       "    <tr>\n",
       "      <th>8</th>\n",
       "      <td>Many people have raised the alarm regarding th...</td>\n",
       "      <td>0</td>\n",
       "    </tr>\n",
       "    <tr>\n",
       "      <th>9</th>\n",
       "      <td>Just when you might have thought we d get a br...</td>\n",
       "      <td>0</td>\n",
       "    </tr>\n",
       "  </tbody>\n",
       "</table>\n",
       "</div>"
      ],
      "text/plain": [
       "                                                text  target\n",
       "0  Donald Trump just couldn t wish all Americans ...       0\n",
       "1  House Intelligence Committee Chairman Devin Nu...       0\n",
       "2  On Friday, it was revealed that former Milwauk...       0\n",
       "3  On Christmas day, Donald Trump announced that ...       0\n",
       "4  Pope Francis used his annual Christmas Day mes...       0\n",
       "5  The number of cases of cops brutalizing and ki...       0\n",
       "6  Donald Trump spent a good portion of his day a...       0\n",
       "7  In the wake of yet another court decision that...       0\n",
       "8  Many people have raised the alarm regarding th...       0\n",
       "9  Just when you might have thought we d get a br...       0"
      ]
     },
     "execution_count": 17,
     "metadata": {},
     "output_type": "execute_result"
    }
   ],
   "source": [
    "df.head(10)"
   ]
  },
  {
   "cell_type": "code",
   "execution_count": 18,
   "metadata": {},
   "outputs": [
    {
     "data": {
      "application/vnd.microsoft.datawrangler.viewer.v0+json": {
       "columns": [
        {
         "name": "index",
         "rawType": "int64",
         "type": "integer"
        },
        {
         "name": "text",
         "rawType": "object",
         "type": "string"
        },
        {
         "name": "target",
         "rawType": "int64",
         "type": "integer"
        }
       ],
       "ref": "2a5bba99-6030-42ef-9f1d-d815fe7cea57",
       "rows": [
        [
         "12235",
         "Mark Wahlberg has been a rapper. He appeared shirtless and grinning on a 40-foot billboard in Times Square. He launched his own burger chain. And he starred in some of the greatest movies ever made, including  Boogie Nights,   Three Kings,   The Departed,  and  Lone Survivor. Wahlberg went on an emotional tear, evincing a raw and heartfelt respect for the real sacrifice he d portrayed in Lone Survivor. He said he had no respect for anyone who might suggest that filmmaking comes close to its degree of difficulty. I don t know it just hit me in a way that uh   I don t know, it just really upset me that those guys were never gonna see their families again. For actors to sit there and talk about  Oh I went to SEAL training,  and I slept on the   I don t give a fuck what you did. You don t do what these guys did. For somebody to sit there and say my job was as difficult as somebody in the military s. How fucking dare you. While you sit in a makeup chair for two hours. Don t expect Wahlberg to opine on politics. A lot of celebrities did, do, and shouldn t,  he told Task & Purpose last week, at a swanky luncheon in New York, held on behalf of his upcoming film  Patriots Day.  We were talking about the parade of actors and musicians who lined up to denounce Donald Trump in the months and weeks leading up to Election Day. A lot of Hollywood is living in a bubble. They re pretty out of touch with the common person, the everyday guy out there providing for their family. You know, it just goes to show you that people aren t listening to that anyway,  he continued.  They might buy your CD or watch your movie, but you don t put food on their table. You don t pay their bills. A lot of Hollywood is living in a bubble. They re pretty out of touch with the common person, the everyday guy out there providing for their family.Read more: Task and Purpose",
         "0"
        ],
        [
         "2954",
         "Out of all the insane people who are part of Trump s posse, former campaign manager Roger Stone has to win the loony prize. Stone regularly immerses himself with full-on white supremacists. During the presidential campaign, Stone was so insane that he (was forced to) quit because of all the controversy surrounding him. Apparently, he didn t want to upstage the candidate s own controversies. Now he says he has been poisoned because he knows too much about Russia, only it s not Russia, he says, that s doing the poisoning.On Tuesday, Stone appeared on conspiracy nut Alex Jones  InfoWars claiming that he had been poisoned with polonium, which is Putin and the Russian s poison of choice. However, Stone is making the claim that it was Congress (or something) that poisoned him. I became extremely ill. This manifested itself in over 14 days of high fever, delirium, night sweats, I had lesions on my chest and my face,  Stone explained to Jones.  The general consensus is I was poisoned. I was poisoned with polonium or a substance that has the characteristics of polonium and this made me exceedingly ill.  Stone s theory is that someone poisoned him because he has proof that Russia was not behind the hacks of the Democratic National Committee and John Podesta,  This is about stopping the Trump agenda,  he said.  I would blow the whistle on this whole bogus Russian narrative that they just won t let go of. Source: MediaiteHere s the insane video:He also tweeted about it:Yes, I believe I was poisoned to stop me from exposing the  Russian Hacking  LIE b4 the Congressional Investigation @StoneColdTruth  Roger Stone (@RogerJStoneJr) January 17, 2017Yes, Doctors say I was poisoned   WHO would do such a thing ? https://t.co/6o4hHgAJ2e  Roger Stone (@RogerJStoneJr) January 18, 2017While this story sounds like a bad Tom Clancy novel, it makes zero sense since people knew of Russia s involvement long before the election and if there was some vast anti-Trump, anti-Russia conspiracy theory, it would have come to fruition before Trump won the Electoral College, not after. The far more believable explanation is that Stone, who nobody really gives a crap about, wasn t poisoned and that he s trying to hawk his new book.Featured image via Spencer Platt/Getty Images",
         "0"
        ],
        [
         "16151",
         "LONDON () - Crude oil flows through an Iraqi Kurdistan pipeline to Turkey resumed on Monday after a technical stoppage for several hours, a Kurdish shipping source told . The source said the flows were still reduced at around 200,000-220,000 barrels per day (bpd) compared with the usual volume of 600,000 bpd. The next cargo to load at the Mediterranean port of Ceyhan will be Santa Cruz that will exports volume from the November loading program, the source said. ",
         "1"
        ],
        [
         "6310",
         "Ever since the attacks on the U.S. diplomatic compound in Benghazi, Libya on September 11, 2012, Republicans have been trying everything within their powers to throw the Obama administration, in particular former Secretary of State Hillary Clinton, under the bus. However, after several investigations surrounding the attack, it has continuously been shown that there was no wrong doing.Even Fox News reported: Investigation by the Republican-controlled House Intelligence Committee has found that the CIA and the military acted properly in responding to the 2012 attack on a U.S. diplomatic post in Benghazi, Libya.The report alleges no wrongdoing by Obama administration appointees.Debunking a series of persistent allegations hinting at dark conspiracies surrounding the incident, the report concludes that there was no intelligence failure, no delay in sending a CIA rescue team, no missed opportunity for a military rescue, and no evidence the CIA was covertly shipping arms from Libya to Syria. Yet, the investigations still continued and questions are still being raised to this day.Something just happened during an interview on Fox News, however, when one of the lead Republicans who s been leading the charge against the Obama administration accidentally admitted the truth, but then tried to pivot away.While Rep. Trey Gowdy (R-SC) was discussing the fact that one of the lead investigators for Benghazi just quit because there was nothing more to discover, he seemed to debunk his main conspiracy theory that there was a  stand down  order given, which would have prevented military help from arriving at the compound in time to help.Gowdy said: Whether or not they could have gotten there in time, they couldn t. I don t think there s any question about that. But then clearly pivoting as if to give the illusion that he didn t say such a thing, he adds: Why could you not? Why were you not positioned to do it? Why could we not do a lot of things, Gowdy? Why could you not get a decent haircut that didn t make you look like you crawled out of a Harry Potter novel? The fact of the matter is, he just admitted the Obama administration is in the clear and there was nothing more they could have done to get help there in time.What s most interesting is the fact that Gowdy is now raising questions that Hillary Clinton raised right after it happened with her now infamous line,  What difference does it make?  Because in full context, her response to questioning was: With all due respect, the fact is we had four dead Americans. Was it because of a protest or was it because of guys out for a walk one night who decided that they d they go kill some Americans? What difference at this point does it make? Going on to say that we need to figure out what happened, what we can do differently, and how we can go forward to make sure it never happens again.Gowdy is all out of arguments and the Benghazi attack investigations have been settled. What we need to do now is make sure we keep our current diplomats protected and prevent another attack from occurring. Which is what Republicans should be focused on rather than try to use the attacks as a political posturing move to throw the Obama administration and Hillary Clinton under the bus. Maybe we should have an investigation into how many unwarranted, tax-payer funded investigations we ve had. Featured image via video screen capture/ HT C&L",
         "0"
        ],
        [
         "2780",
         "In what can only be seen as a groundbreaking and unprecedented move, Starbucks chairman and CEO Howard Schultz delivered an open letter to all their partners (employees) regarding Donald Trump s Muslim ban.He titled the letter,  Living Our Values In Uncertain Times  and here it is: Dear partners,I write to you today with deep concern, a heavy heart and a resolute promise. Let me begin with the news that is immediately in front of us: we have all been witness to the confusion, surprise and opposition to the Executive Order that President Trump issued on Friday, effectively banning people from several predominantly Muslim countries from entering the United States, including refugees fleeing wars. I can assure you that our Partner Resources team has been in direct contact with the partners who are impacted by this immigration ban, and we are doing everything possible to support and help them to navigate through this confusing period.We are living in an unprecedented time, one in which we are witness to the conscience of our country, and the promise of the American Dream, being called into question. These uncertain times call for different measures and communication tools than we have used in the past. Kevin and I are going to accelerate our commitment to communicating with you more frequently, including leveraging new technology platforms moving forward. I am hearing the alarm you all are sounding that the civility and human rights we have all taken for granted for so long are under attack, and want to use a faster, more immediate form of communication to engage with you on matters that concern us all as partners.I also want to take this opportunity to announce specific actions we are taking to reinforce our belief in our partners around the world and to ensure you are clear that we will neither stand by, nor stand silent, as the uncertainty around the new Administration s actions grows with each passing day:Support for DACA: As I wrote to Senators Graham and Durbin this week, we are enthusiastically behind their work to support  Dreamers  across our country   including those young men and women who are part of the Deferred Action for Childhood Arrivals (DACA) program. There are nearly three quarters of a million hardworking people contributing to our communities and our economy because of this program. At Starbucks, we are proud to call them partners and to help them realize their own American Dream. We want them to feel welcome and included in our success, which is why we reimburse them for the biennial fee they must pay to stay in the program and why we have offered DACA-related services at our Opportunity Youth hiring fairs.Hiring Refugees: We have a long history of hiring young people looking for opportunities and a pathway to a new life around the world. This is why we are doubling down on this commitment by working with our equity market employees as well as joint venture and licensed market partners in a concerted effort to welcome and seek opportunities for those fleeing war, violence, persecution and discrimination. There are more than 65 million citizens of the world recognized as refugees by the United Nations, and we are developing plans to hire 10,000 of them over five years in the 75 countries around the world where Starbucks does business. And we will start this effort here in the U.S. by making the initial focus of our hiring efforts on those individuals who have served with U.S. troops as interpreters and support personnel in the various countries where our military has asked for such support.Building Bridges, Not Walls, With Mexico: We have been open for business in Mexico since 2002, and have since opened almost 600 stores in 60 cities across the country, which together employ over 7,000 Mexican partners who proudly wear the green apron. We have sourced coffee from Mexico s producers and their families for three decades and last fall, we also announced the creation of a farmer support center in Chiapas to help accelerate our collective ability to grow and export some of the world s finest coffees from this important growing region, while donating more than $2 million to support the livelihood, food security and water quality of coffee producing communities in Oaxaca. With the support of thousands of Starbucks partners and millions of customers, we have also donated over a million coffee trees to support 70,000 families, and we will be expanding the initiative this year to generate another 4 million tree donations. Coffee is what unites our common heritage, and as I told Alberto Torrado, the leader of our partnership with Alsea in Mexico, we stand ready to help and support our Mexican customers, partners and their families as they navigate what impact proposed trade sanctions, immigration restrictions and taxes might have on their business and their trust of Americans. But we will continue to invest in this critically important market all the same.Our Healthcare Commitment to You: Finally, let me restate what we have recently communicated with you about the Affordable Care Act   our commitment remains that if you are benefits eligible, you will always have access to health insurance through Starbucks. Many of you have expressed concerns that recent government actions may jeopardize your ability to participate in the Affordable Care Act. If the recent Executive Order related to health care remains in place and the Affordable Care Act is repealed causing you to lose your healthcare coverage, you will always have the ability to return and can do so within 30 days of losing that coverage rather than having to wait for an open enrollment period. If you have any questions or concerns, please contact the Benefits Center at 877-728-9236.In the face of recent events around the world, let me assure you that we will stay true to our values and do everything we can possibly do to support and invest in every partner s well-being while taking the actions that are squarely within our ability to control. This is our focus: providing a Third Place of respite for those around the world who seek it, daily.Starbucks has and will always stand for opportunity   opportunity for our young people who are working to land their first job in the 75 countries where we do business, opportunity for our farmers who care so deeply for the highest of quality coffee we offer to customers all around the globe, and yes, opportunity for those who come to America in search of their own fresh start   whether that is with Starbucks directly, or through our suppliers or our partner companies.If there is any lesson to be learned over the last year, it s that your voice and your vote matter more than ever. We are all obligated to ensure our elected officials hear from us individually and collectively. Starbucks is doing its part; we need you to use the collective power of your voices to do the same while respecting the diverse viewpoints of the 90 million customers who visit our stores in more than 25,000 locations around the world.So, while we seek to understand what the new Administration s policies mean for us and our business both domestically and around the world, I can assure you that we will do whatever it takes to support you, our partners, to realize your own dreams and achieve your own opportunities. We are in business to inspire and nurture the human spirit, one person, one cup and one neighborhood at a time   whether that neighborhood is in a Red State or a Blue State; a Christian country or a Muslim country; a divided nation or a united nation. That will not change. You have my word on that.Onward,Howard Well said, Mr. Schultz, and you are a better American for all that was said. Your dedication to what truly makes America the land of the free and the home of the brave will forever be noticed.Featured Photo by Christopher Furlong/Getty Images",
         "0"
        ],
        [
         "20255",
         "BAGHDAD/ERBIL, Iraq () - Iraq s Kurdish leader Massoud Barzani vowed on Tuesday to press ahead with a referendum on Kurdish independence on Sept. 25 despite a vote by Iraq s parliament to reject the move. Earlier the parliament in Baghdad authorized the prime minister to  take all measures  to preserve Iraq s unity. Kurdish lawmakers walked out of the session before the vote and issued statements rejecting the decision. Western powers fear a plebiscite in Iraq s semi-autonomous Kurdish region - including the oil-rich city of Kirkuk - could ignite conflict with the central government in Baghdad and divert attention from the war against Islamic State militants. Iraq s neighbors - Turkey, Iran and Syria - also oppose the referendum, fearing it could fan separatism among their own ethnic Kurdish populations.  The referendum will be held on time... Dialogue with Baghdad will resume after the referendum,  Barzani, president of the Kurdistan Regional Government (KRG), said in a statement on his ruling party s official website after the vote. Barzani told a gathering of Kurds, Arabs and Turkmen in  Kirkuk that the referendum was  a natural right , according to a tweet from his aide Hemin Hawrami. Barzani also said Kirkuk should have a  special status  in a new, independent Kurdistan. Iraqi lawmakers worry that the referendum will consolidate Kurdish control over several areas claimed by both the central government in Baghdad and the autonomous KRG in northern Iraq.      This referendum lacks a constitutional basis and thus it is considered unconstitutional,  the parliamentary resolution said, without specifying what measures the central government should take to stop Kurdistan from breaking away. Mohammed al-Karbouli, a Sunni Muslim lawmaker, said:  Kurdish lawmakers walked out of (Tuesday s) session but the decision to reject the referendum was passed by a majority.  A senior Kurdish official dismissed the vote as non-binding though an Iraqi lawmaker said it would be published in the official gazette after approval from the Iraqi presidency. The KRG has said it is up to local councils of disputed regions in northern Iraq to decide whether to join the vote. Kirkuk, an ethnically mixed city, voted last month to participate in the referendum, a move that stoked tensions with its Arab and Turkmen residents, as well as with Baghdad. Kurdish peshmerga forces took control of the Kirkuk area and other areas claimed by both Baghdad and the Kurds after Islamic State militants overran about a third of Iraq in 2014 and Baghdad s local forces disintegrated. At a news conference on Tuesday, Iraqi Prime Minister Haider al-Abadi said the Kurds were continuing to  illegally export  Kirkuk s oil, and he called for urgent talks.  I call upon the Kurdish leadership to come to Baghdad and conclude a dialogue,  Abadi said. A Kurdish delegation met officials in Baghdad for a first round of talks in August concerning the referendum. An Iraqi delegation was expected to visit the Kurdish capital of Erbil in early September for a second round of talks, but the visit has yet to happen with less than two weeks before the vote. Kurds have sought an independent state since at least the end of World War One, when colonial powers divided up the Middle East after the collapse of the multi-ethnic Ottoman Empire and left Kurdish-populated territory split between Turkey, Iran, Iraq and Syria. ",
         "1"
        ],
        [
         "16577",
         "How can you be prosecuted for something that isn t true? The climate scam folks in California are planning on strong-arming Americans into complying with climate change thought. This is fruit-loops!A landmark bill allowing for the prosecution of climate change dissent effectively died Thursday after the California Senate failed to take it up before the deadline.Senate Bill 1161, or the California Climate Science Truth and Accountability Act of 2016, would have authorized prosecutors to sue fossil fuel companies, think tanks and others that have  deceived or misled the public on the risks of climate change. The measure, which cleared two Senate committees, provided a four-year window in the statute of limitations on violations of the state s Unfair Competition Law, allowing legal action to be brought until Jan. 1 on charges of climate change  fraud  extending back indefinitely. This bill explicitly authorizes district attorneys and the Attorney General to pursue UCL claims alleging that a business or organization has directly or indirectly engaged in unfair competition with respect to scientific evidence regarding the existence, extent, or current or future impacts of anthropogenic induced climate change,  said the state Senate Rules Committee s floor analysis of the bill.Read more: WT ",
         "0"
        ],
        [
         "18094",
         "We ve seen an escalation in violence against police officers this past week that is REALLY disturbing. Mob rule has taken over in some cities with leaders who are more concerned with the vile and violent protesters than the cops who are protecting their right to be protest.A black Boston cop is taunted by a young black woman:  You stupid a** black bitch. You re suppose to be on our side . #BostonFreeSpeechRally pic.twitter.com/nmXptkAY93  Based Monitored   (@BasedMonitored) August 20, 2017Buried under all of the attention given to the protesters is horrible violence and murder directed at our law enforcement. Two police officers were ambushed and killed last week in Kissimmee, FL by a Muslim who belongs to a black radical group.The war on our cops is real and it s frightening. All you have to do is look at the Alt-Left and Black radicals who are plotting and planning to slaughter our police officers Exactly like Normandy pic.twitter.com/0aotTiL0WF  Jack Posobiec   (@JackPosobiec) August 19, 2017 BALTIMORE BLOC S TWITTER FEED IS FULL OF HATEFUL POSTS Remember that the Baltimore mayor removed 4 Confederate statues in the middle of the night. BALTIMORE BLOC HAD THIS TO SAY ABOUT COPS:  Now that we ve got rid of these white supremacist symbols, it s time to get rid of these white supremacist systems Now that we ve got rid of these white supremacist symbols, it s time to get rid of these white supremacist systems pic.twitter.com/z8X247xwqg  Baltimore BLOC (@BmoreBloc) August 16, 2017What we ve found is shocking A LONE POLICEMAN TAUNTED: A protester was hurt by metal falling from the a monument in Atlanta as the group tried to tear it down, AJC photographer John Spink reported Sunday night. Tensions rose as the lone policeman on the scene was surrounded by black-clad Antifa protesters shouting  pig. DURHAM, NC SAME ANTI-COP RHETORIC COPS & KLAN GO HAND IN HAND A protest in Dallas got out of control when the protesters started chanting,  Cops and the Klan go hand in hand There s so much more but you get the intent of these people. They want to push the limits and create anarchy in the streets. It s time for our pandering politicians to get serious about the necessity to shut this down now.",
         "0"
        ],
        [
         "3445",
         "This woman is insane.In an incredibly disrespectful rant against President Obama and anyone else who supports investigating Russian interference in our election, Fox News host Jeanine Pirro said that anybody who is against Donald Trump is anti-American. Look, it s time to take sides,  she began.  The election is over. You re either with us or against us. That is, with the United States or against the United States. As you may recall, President Bush and conservatives used this same phrase often to question the patriotism of Americans who opposed war in Iraq. We have a new president-elect. His name is Donald J. Trump. So move over Barack,  Pirro continued, going on to refer to Hillary Clinton and other Democrats as  namby pamby pathetic losers. Pirro then made a bullshit claim. There was a time in this country when we were united behind the flag in celebration of America s new president, our new leader. We all did in 2008 when Barack Obama was elected. We had high hopes for a united country, irrespective of our politics. It s time for the left, assuming they re capable, to show the same dignity and class, to the 45th president-elect. When President Obama took office in 2008, Republicans vowed to make him and America fail. They obstructed at every turn, called him every name in the book, and disrespected him. They even declared their love and allegiance to foreign leaders like Putin and Benjamin Netanyahu. So Pirro is a damned liar for daring to claim that Republicans united behind President Obama because they absolutely did not. Republican leaders had a meeting before he was even in office and agreed to block him at every turn and make him a  one term president. Then Pirro suggested that investigating Russia for interfering with our election is also un-American. You know, because America somehow has a long tradition of letting Russia rig the election for the presidential candidate they prefer. This isn t about the election, is it Mr. President?  she asked.  This is about domestic politics. It s not about November 2016, it s about January 2017 and your attempt to prevent Donald Trump from the smooth transition of power and your inability to face the overwhelming Electoral College win that the American people gave him. Except Trump s supposed  victory  was not even close to being  overwhelming.  He lost the popular vote by nearly 3 million votes and his Electoral College margin is one of the smallest in the last 100 years. Even President Obama s victories in 2008 and 2012 were bigger. So in anyone had a mandate to lead, it was Obama. And Republicans worked to sabotage him.Pirro demanded to know why everyone is  so obsessed with Russia  and claimed that she would rather sympathize with Putin because he s supposedly a  Christian.  Yeah, a  Christian  who murders political opponents and denies his people basic human rights. I despise all dictators,  she claimed,  but between the dictator that thinks I m an infidel and wants to have our heads cut off and the dictator from whom I simply want to keep my distance  the choice is a no-brainer. Here s the video via YouTube:In other words, like other crazy Republicans, Pirro loves Putin and has no problem with Russia rigging our election as long as they rig it in favor of the conservative candidate. That s a dangerous path that could lead to Republicans seeking help from foreign powers to help them win elections in the future. And the only way we can stop it is to investigate and if Russia did help Trump win, he should be disqualified immediately and we should either hold a new election or install Hillary Clinton as the rightful winner.Featured image via screenshot",
         "0"
        ],
        [
         "18354",
         "The last time a pope got involved in politics was when Pope Benedict XVI condemned Obama s abortion stance in 2009.Pope Francis comments that align the United States with some of the most oppressive nations in the world may have alienated many Catholics in America. Considering the number of Catholics in the world is declining, you would think that Pope Francis would have other priorities than to involve himself in issues that could further alienate more people from the Catholic Church.Pope Francis told the Italian newspaper La Repubblica on Thursday that the United States of America and Russia, China, North Korea and Bashar al Assad s Syria have  a distorted vision of the world ( una visione distorta del mondo,  as reported in Italian by La Repubblica).The pope made the observation in an interview with La Repubblica reporter Eugenio Scalfari. Last Thursday, I got a call from Pope Francis,  Scalfari reported.  It was about noon, and I was at the newspaper when my phone rang. He said the pope wanted to see him at four that afternoon, according to a Google translation of the Italian report. Pope Francis told me to be very concerned about the meeting of the G20,  Scalfari wrote. I am afraid there are very dangerous alliances between powers who have a distorted view of the world: America and Russia, China and North Korea, Russia and Assad in the war in Syria,  the pope said.  CSNNews",
         "0"
        ]
       ],
       "shape": {
        "columns": 2,
        "rows": 10
       }
      },
      "text/html": [
       "<div>\n",
       "<style scoped>\n",
       "    .dataframe tbody tr th:only-of-type {\n",
       "        vertical-align: middle;\n",
       "    }\n",
       "\n",
       "    .dataframe tbody tr th {\n",
       "        vertical-align: top;\n",
       "    }\n",
       "\n",
       "    .dataframe thead th {\n",
       "        text-align: right;\n",
       "    }\n",
       "</style>\n",
       "<table border=\"1\" class=\"dataframe\">\n",
       "  <thead>\n",
       "    <tr style=\"text-align: right;\">\n",
       "      <th></th>\n",
       "      <th>text</th>\n",
       "      <th>target</th>\n",
       "    </tr>\n",
       "  </thead>\n",
       "  <tbody>\n",
       "    <tr>\n",
       "      <th>12235</th>\n",
       "      <td>Mark Wahlberg has been a rapper. He appeared s...</td>\n",
       "      <td>0</td>\n",
       "    </tr>\n",
       "    <tr>\n",
       "      <th>2954</th>\n",
       "      <td>Out of all the insane people who are part of T...</td>\n",
       "      <td>0</td>\n",
       "    </tr>\n",
       "    <tr>\n",
       "      <th>16151</th>\n",
       "      <td>LONDON () - Crude oil flows through an Iraqi K...</td>\n",
       "      <td>1</td>\n",
       "    </tr>\n",
       "    <tr>\n",
       "      <th>6310</th>\n",
       "      <td>Ever since the attacks on the U.S. diplomatic ...</td>\n",
       "      <td>0</td>\n",
       "    </tr>\n",
       "    <tr>\n",
       "      <th>2780</th>\n",
       "      <td>In what can only be seen as a groundbreaking a...</td>\n",
       "      <td>0</td>\n",
       "    </tr>\n",
       "    <tr>\n",
       "      <th>20255</th>\n",
       "      <td>BAGHDAD/ERBIL, Iraq () - Iraq s Kurdish leader...</td>\n",
       "      <td>1</td>\n",
       "    </tr>\n",
       "    <tr>\n",
       "      <th>16577</th>\n",
       "      <td>How can you be prosecuted for something that i...</td>\n",
       "      <td>0</td>\n",
       "    </tr>\n",
       "    <tr>\n",
       "      <th>18094</th>\n",
       "      <td>We ve seen an escalation in violence against p...</td>\n",
       "      <td>0</td>\n",
       "    </tr>\n",
       "    <tr>\n",
       "      <th>3445</th>\n",
       "      <td>This woman is insane.In an incredibly disrespe...</td>\n",
       "      <td>0</td>\n",
       "    </tr>\n",
       "    <tr>\n",
       "      <th>18354</th>\n",
       "      <td>The last time a pope got involved in politics ...</td>\n",
       "      <td>0</td>\n",
       "    </tr>\n",
       "  </tbody>\n",
       "</table>\n",
       "</div>"
      ],
      "text/plain": [
       "                                                    text  target\n",
       "12235  Mark Wahlberg has been a rapper. He appeared s...       0\n",
       "2954   Out of all the insane people who are part of T...       0\n",
       "16151  LONDON () - Crude oil flows through an Iraqi K...       1\n",
       "6310   Ever since the attacks on the U.S. diplomatic ...       0\n",
       "2780   In what can only be seen as a groundbreaking a...       0\n",
       "20255  BAGHDAD/ERBIL, Iraq () - Iraq s Kurdish leader...       1\n",
       "16577  How can you be prosecuted for something that i...       0\n",
       "18094  We ve seen an escalation in violence against p...       0\n",
       "3445   This woman is insane.In an incredibly disrespe...       0\n",
       "18354  The last time a pope got involved in politics ...       0"
      ]
     },
     "execution_count": 18,
     "metadata": {},
     "output_type": "execute_result"
    }
   ],
   "source": [
    "df = df.sample(frac=1)\n",
    "df.head(10)"
   ]
  },
  {
   "cell_type": "code",
   "execution_count": 19,
   "metadata": {},
   "outputs": [
    {
     "data": {
      "application/vnd.microsoft.datawrangler.viewer.v0+json": {
       "columns": [
        {
         "name": "index",
         "rawType": "int64",
         "type": "integer"
        },
        {
         "name": "text",
         "rawType": "object",
         "type": "string"
        },
        {
         "name": "target",
         "rawType": "int64",
         "type": "integer"
        }
       ],
       "ref": "0e07a7b1-215f-4cbc-8f80-7f862833d8f7",
       "rows": [
        [
         "0",
         "Mark Wahlberg has been a rapper. He appeared shirtless and grinning on a 40-foot billboard in Times Square. He launched his own burger chain. And he starred in some of the greatest movies ever made, including  Boogie Nights,   Three Kings,   The Departed,  and  Lone Survivor. Wahlberg went on an emotional tear, evincing a raw and heartfelt respect for the real sacrifice he d portrayed in Lone Survivor. He said he had no respect for anyone who might suggest that filmmaking comes close to its degree of difficulty. I don t know it just hit me in a way that uh   I don t know, it just really upset me that those guys were never gonna see their families again. For actors to sit there and talk about  Oh I went to SEAL training,  and I slept on the   I don t give a fuck what you did. You don t do what these guys did. For somebody to sit there and say my job was as difficult as somebody in the military s. How fucking dare you. While you sit in a makeup chair for two hours. Don t expect Wahlberg to opine on politics. A lot of celebrities did, do, and shouldn t,  he told Task & Purpose last week, at a swanky luncheon in New York, held on behalf of his upcoming film  Patriots Day.  We were talking about the parade of actors and musicians who lined up to denounce Donald Trump in the months and weeks leading up to Election Day. A lot of Hollywood is living in a bubble. They re pretty out of touch with the common person, the everyday guy out there providing for their family. You know, it just goes to show you that people aren t listening to that anyway,  he continued.  They might buy your CD or watch your movie, but you don t put food on their table. You don t pay their bills. A lot of Hollywood is living in a bubble. They re pretty out of touch with the common person, the everyday guy out there providing for their family.Read more: Task and Purpose",
         "0"
        ],
        [
         "1",
         "Out of all the insane people who are part of Trump s posse, former campaign manager Roger Stone has to win the loony prize. Stone regularly immerses himself with full-on white supremacists. During the presidential campaign, Stone was so insane that he (was forced to) quit because of all the controversy surrounding him. Apparently, he didn t want to upstage the candidate s own controversies. Now he says he has been poisoned because he knows too much about Russia, only it s not Russia, he says, that s doing the poisoning.On Tuesday, Stone appeared on conspiracy nut Alex Jones  InfoWars claiming that he had been poisoned with polonium, which is Putin and the Russian s poison of choice. However, Stone is making the claim that it was Congress (or something) that poisoned him. I became extremely ill. This manifested itself in over 14 days of high fever, delirium, night sweats, I had lesions on my chest and my face,  Stone explained to Jones.  The general consensus is I was poisoned. I was poisoned with polonium or a substance that has the characteristics of polonium and this made me exceedingly ill.  Stone s theory is that someone poisoned him because he has proof that Russia was not behind the hacks of the Democratic National Committee and John Podesta,  This is about stopping the Trump agenda,  he said.  I would blow the whistle on this whole bogus Russian narrative that they just won t let go of. Source: MediaiteHere s the insane video:He also tweeted about it:Yes, I believe I was poisoned to stop me from exposing the  Russian Hacking  LIE b4 the Congressional Investigation @StoneColdTruth  Roger Stone (@RogerJStoneJr) January 17, 2017Yes, Doctors say I was poisoned   WHO would do such a thing ? https://t.co/6o4hHgAJ2e  Roger Stone (@RogerJStoneJr) January 18, 2017While this story sounds like a bad Tom Clancy novel, it makes zero sense since people knew of Russia s involvement long before the election and if there was some vast anti-Trump, anti-Russia conspiracy theory, it would have come to fruition before Trump won the Electoral College, not after. The far more believable explanation is that Stone, who nobody really gives a crap about, wasn t poisoned and that he s trying to hawk his new book.Featured image via Spencer Platt/Getty Images",
         "0"
        ],
        [
         "2",
         "LONDON () - Crude oil flows through an Iraqi Kurdistan pipeline to Turkey resumed on Monday after a technical stoppage for several hours, a Kurdish shipping source told . The source said the flows were still reduced at around 200,000-220,000 barrels per day (bpd) compared with the usual volume of 600,000 bpd. The next cargo to load at the Mediterranean port of Ceyhan will be Santa Cruz that will exports volume from the November loading program, the source said. ",
         "1"
        ],
        [
         "3",
         "Ever since the attacks on the U.S. diplomatic compound in Benghazi, Libya on September 11, 2012, Republicans have been trying everything within their powers to throw the Obama administration, in particular former Secretary of State Hillary Clinton, under the bus. However, after several investigations surrounding the attack, it has continuously been shown that there was no wrong doing.Even Fox News reported: Investigation by the Republican-controlled House Intelligence Committee has found that the CIA and the military acted properly in responding to the 2012 attack on a U.S. diplomatic post in Benghazi, Libya.The report alleges no wrongdoing by Obama administration appointees.Debunking a series of persistent allegations hinting at dark conspiracies surrounding the incident, the report concludes that there was no intelligence failure, no delay in sending a CIA rescue team, no missed opportunity for a military rescue, and no evidence the CIA was covertly shipping arms from Libya to Syria. Yet, the investigations still continued and questions are still being raised to this day.Something just happened during an interview on Fox News, however, when one of the lead Republicans who s been leading the charge against the Obama administration accidentally admitted the truth, but then tried to pivot away.While Rep. Trey Gowdy (R-SC) was discussing the fact that one of the lead investigators for Benghazi just quit because there was nothing more to discover, he seemed to debunk his main conspiracy theory that there was a  stand down  order given, which would have prevented military help from arriving at the compound in time to help.Gowdy said: Whether or not they could have gotten there in time, they couldn t. I don t think there s any question about that. But then clearly pivoting as if to give the illusion that he didn t say such a thing, he adds: Why could you not? Why were you not positioned to do it? Why could we not do a lot of things, Gowdy? Why could you not get a decent haircut that didn t make you look like you crawled out of a Harry Potter novel? The fact of the matter is, he just admitted the Obama administration is in the clear and there was nothing more they could have done to get help there in time.What s most interesting is the fact that Gowdy is now raising questions that Hillary Clinton raised right after it happened with her now infamous line,  What difference does it make?  Because in full context, her response to questioning was: With all due respect, the fact is we had four dead Americans. Was it because of a protest or was it because of guys out for a walk one night who decided that they d they go kill some Americans? What difference at this point does it make? Going on to say that we need to figure out what happened, what we can do differently, and how we can go forward to make sure it never happens again.Gowdy is all out of arguments and the Benghazi attack investigations have been settled. What we need to do now is make sure we keep our current diplomats protected and prevent another attack from occurring. Which is what Republicans should be focused on rather than try to use the attacks as a political posturing move to throw the Obama administration and Hillary Clinton under the bus. Maybe we should have an investigation into how many unwarranted, tax-payer funded investigations we ve had. Featured image via video screen capture/ HT C&L",
         "0"
        ],
        [
         "4",
         "In what can only be seen as a groundbreaking and unprecedented move, Starbucks chairman and CEO Howard Schultz delivered an open letter to all their partners (employees) regarding Donald Trump s Muslim ban.He titled the letter,  Living Our Values In Uncertain Times  and here it is: Dear partners,I write to you today with deep concern, a heavy heart and a resolute promise. Let me begin with the news that is immediately in front of us: we have all been witness to the confusion, surprise and opposition to the Executive Order that President Trump issued on Friday, effectively banning people from several predominantly Muslim countries from entering the United States, including refugees fleeing wars. I can assure you that our Partner Resources team has been in direct contact with the partners who are impacted by this immigration ban, and we are doing everything possible to support and help them to navigate through this confusing period.We are living in an unprecedented time, one in which we are witness to the conscience of our country, and the promise of the American Dream, being called into question. These uncertain times call for different measures and communication tools than we have used in the past. Kevin and I are going to accelerate our commitment to communicating with you more frequently, including leveraging new technology platforms moving forward. I am hearing the alarm you all are sounding that the civility and human rights we have all taken for granted for so long are under attack, and want to use a faster, more immediate form of communication to engage with you on matters that concern us all as partners.I also want to take this opportunity to announce specific actions we are taking to reinforce our belief in our partners around the world and to ensure you are clear that we will neither stand by, nor stand silent, as the uncertainty around the new Administration s actions grows with each passing day:Support for DACA: As I wrote to Senators Graham and Durbin this week, we are enthusiastically behind their work to support  Dreamers  across our country   including those young men and women who are part of the Deferred Action for Childhood Arrivals (DACA) program. There are nearly three quarters of a million hardworking people contributing to our communities and our economy because of this program. At Starbucks, we are proud to call them partners and to help them realize their own American Dream. We want them to feel welcome and included in our success, which is why we reimburse them for the biennial fee they must pay to stay in the program and why we have offered DACA-related services at our Opportunity Youth hiring fairs.Hiring Refugees: We have a long history of hiring young people looking for opportunities and a pathway to a new life around the world. This is why we are doubling down on this commitment by working with our equity market employees as well as joint venture and licensed market partners in a concerted effort to welcome and seek opportunities for those fleeing war, violence, persecution and discrimination. There are more than 65 million citizens of the world recognized as refugees by the United Nations, and we are developing plans to hire 10,000 of them over five years in the 75 countries around the world where Starbucks does business. And we will start this effort here in the U.S. by making the initial focus of our hiring efforts on those individuals who have served with U.S. troops as interpreters and support personnel in the various countries where our military has asked for such support.Building Bridges, Not Walls, With Mexico: We have been open for business in Mexico since 2002, and have since opened almost 600 stores in 60 cities across the country, which together employ over 7,000 Mexican partners who proudly wear the green apron. We have sourced coffee from Mexico s producers and their families for three decades and last fall, we also announced the creation of a farmer support center in Chiapas to help accelerate our collective ability to grow and export some of the world s finest coffees from this important growing region, while donating more than $2 million to support the livelihood, food security and water quality of coffee producing communities in Oaxaca. With the support of thousands of Starbucks partners and millions of customers, we have also donated over a million coffee trees to support 70,000 families, and we will be expanding the initiative this year to generate another 4 million tree donations. Coffee is what unites our common heritage, and as I told Alberto Torrado, the leader of our partnership with Alsea in Mexico, we stand ready to help and support our Mexican customers, partners and their families as they navigate what impact proposed trade sanctions, immigration restrictions and taxes might have on their business and their trust of Americans. But we will continue to invest in this critically important market all the same.Our Healthcare Commitment to You: Finally, let me restate what we have recently communicated with you about the Affordable Care Act   our commitment remains that if you are benefits eligible, you will always have access to health insurance through Starbucks. Many of you have expressed concerns that recent government actions may jeopardize your ability to participate in the Affordable Care Act. If the recent Executive Order related to health care remains in place and the Affordable Care Act is repealed causing you to lose your healthcare coverage, you will always have the ability to return and can do so within 30 days of losing that coverage rather than having to wait for an open enrollment period. If you have any questions or concerns, please contact the Benefits Center at 877-728-9236.In the face of recent events around the world, let me assure you that we will stay true to our values and do everything we can possibly do to support and invest in every partner s well-being while taking the actions that are squarely within our ability to control. This is our focus: providing a Third Place of respite for those around the world who seek it, daily.Starbucks has and will always stand for opportunity   opportunity for our young people who are working to land their first job in the 75 countries where we do business, opportunity for our farmers who care so deeply for the highest of quality coffee we offer to customers all around the globe, and yes, opportunity for those who come to America in search of their own fresh start   whether that is with Starbucks directly, or through our suppliers or our partner companies.If there is any lesson to be learned over the last year, it s that your voice and your vote matter more than ever. We are all obligated to ensure our elected officials hear from us individually and collectively. Starbucks is doing its part; we need you to use the collective power of your voices to do the same while respecting the diverse viewpoints of the 90 million customers who visit our stores in more than 25,000 locations around the world.So, while we seek to understand what the new Administration s policies mean for us and our business both domestically and around the world, I can assure you that we will do whatever it takes to support you, our partners, to realize your own dreams and achieve your own opportunities. We are in business to inspire and nurture the human spirit, one person, one cup and one neighborhood at a time   whether that neighborhood is in a Red State or a Blue State; a Christian country or a Muslim country; a divided nation or a united nation. That will not change. You have my word on that.Onward,Howard Well said, Mr. Schultz, and you are a better American for all that was said. Your dedication to what truly makes America the land of the free and the home of the brave will forever be noticed.Featured Photo by Christopher Furlong/Getty Images",
         "0"
        ],
        [
         "5",
         "BAGHDAD/ERBIL, Iraq () - Iraq s Kurdish leader Massoud Barzani vowed on Tuesday to press ahead with a referendum on Kurdish independence on Sept. 25 despite a vote by Iraq s parliament to reject the move. Earlier the parliament in Baghdad authorized the prime minister to  take all measures  to preserve Iraq s unity. Kurdish lawmakers walked out of the session before the vote and issued statements rejecting the decision. Western powers fear a plebiscite in Iraq s semi-autonomous Kurdish region - including the oil-rich city of Kirkuk - could ignite conflict with the central government in Baghdad and divert attention from the war against Islamic State militants. Iraq s neighbors - Turkey, Iran and Syria - also oppose the referendum, fearing it could fan separatism among their own ethnic Kurdish populations.  The referendum will be held on time... Dialogue with Baghdad will resume after the referendum,  Barzani, president of the Kurdistan Regional Government (KRG), said in a statement on his ruling party s official website after the vote. Barzani told a gathering of Kurds, Arabs and Turkmen in  Kirkuk that the referendum was  a natural right , according to a tweet from his aide Hemin Hawrami. Barzani also said Kirkuk should have a  special status  in a new, independent Kurdistan. Iraqi lawmakers worry that the referendum will consolidate Kurdish control over several areas claimed by both the central government in Baghdad and the autonomous KRG in northern Iraq.      This referendum lacks a constitutional basis and thus it is considered unconstitutional,  the parliamentary resolution said, without specifying what measures the central government should take to stop Kurdistan from breaking away. Mohammed al-Karbouli, a Sunni Muslim lawmaker, said:  Kurdish lawmakers walked out of (Tuesday s) session but the decision to reject the referendum was passed by a majority.  A senior Kurdish official dismissed the vote as non-binding though an Iraqi lawmaker said it would be published in the official gazette after approval from the Iraqi presidency. The KRG has said it is up to local councils of disputed regions in northern Iraq to decide whether to join the vote. Kirkuk, an ethnically mixed city, voted last month to participate in the referendum, a move that stoked tensions with its Arab and Turkmen residents, as well as with Baghdad. Kurdish peshmerga forces took control of the Kirkuk area and other areas claimed by both Baghdad and the Kurds after Islamic State militants overran about a third of Iraq in 2014 and Baghdad s local forces disintegrated. At a news conference on Tuesday, Iraqi Prime Minister Haider al-Abadi said the Kurds were continuing to  illegally export  Kirkuk s oil, and he called for urgent talks.  I call upon the Kurdish leadership to come to Baghdad and conclude a dialogue,  Abadi said. A Kurdish delegation met officials in Baghdad for a first round of talks in August concerning the referendum. An Iraqi delegation was expected to visit the Kurdish capital of Erbil in early September for a second round of talks, but the visit has yet to happen with less than two weeks before the vote. Kurds have sought an independent state since at least the end of World War One, when colonial powers divided up the Middle East after the collapse of the multi-ethnic Ottoman Empire and left Kurdish-populated territory split between Turkey, Iran, Iraq and Syria. ",
         "1"
        ],
        [
         "6",
         "How can you be prosecuted for something that isn t true? The climate scam folks in California are planning on strong-arming Americans into complying with climate change thought. This is fruit-loops!A landmark bill allowing for the prosecution of climate change dissent effectively died Thursday after the California Senate failed to take it up before the deadline.Senate Bill 1161, or the California Climate Science Truth and Accountability Act of 2016, would have authorized prosecutors to sue fossil fuel companies, think tanks and others that have  deceived or misled the public on the risks of climate change. The measure, which cleared two Senate committees, provided a four-year window in the statute of limitations on violations of the state s Unfair Competition Law, allowing legal action to be brought until Jan. 1 on charges of climate change  fraud  extending back indefinitely. This bill explicitly authorizes district attorneys and the Attorney General to pursue UCL claims alleging that a business or organization has directly or indirectly engaged in unfair competition with respect to scientific evidence regarding the existence, extent, or current or future impacts of anthropogenic induced climate change,  said the state Senate Rules Committee s floor analysis of the bill.Read more: WT ",
         "0"
        ],
        [
         "7",
         "We ve seen an escalation in violence against police officers this past week that is REALLY disturbing. Mob rule has taken over in some cities with leaders who are more concerned with the vile and violent protesters than the cops who are protecting their right to be protest.A black Boston cop is taunted by a young black woman:  You stupid a** black bitch. You re suppose to be on our side . #BostonFreeSpeechRally pic.twitter.com/nmXptkAY93  Based Monitored   (@BasedMonitored) August 20, 2017Buried under all of the attention given to the protesters is horrible violence and murder directed at our law enforcement. Two police officers were ambushed and killed last week in Kissimmee, FL by a Muslim who belongs to a black radical group.The war on our cops is real and it s frightening. All you have to do is look at the Alt-Left and Black radicals who are plotting and planning to slaughter our police officers Exactly like Normandy pic.twitter.com/0aotTiL0WF  Jack Posobiec   (@JackPosobiec) August 19, 2017 BALTIMORE BLOC S TWITTER FEED IS FULL OF HATEFUL POSTS Remember that the Baltimore mayor removed 4 Confederate statues in the middle of the night. BALTIMORE BLOC HAD THIS TO SAY ABOUT COPS:  Now that we ve got rid of these white supremacist symbols, it s time to get rid of these white supremacist systems Now that we ve got rid of these white supremacist symbols, it s time to get rid of these white supremacist systems pic.twitter.com/z8X247xwqg  Baltimore BLOC (@BmoreBloc) August 16, 2017What we ve found is shocking A LONE POLICEMAN TAUNTED: A protester was hurt by metal falling from the a monument in Atlanta as the group tried to tear it down, AJC photographer John Spink reported Sunday night. Tensions rose as the lone policeman on the scene was surrounded by black-clad Antifa protesters shouting  pig. DURHAM, NC SAME ANTI-COP RHETORIC COPS & KLAN GO HAND IN HAND A protest in Dallas got out of control when the protesters started chanting,  Cops and the Klan go hand in hand There s so much more but you get the intent of these people. They want to push the limits and create anarchy in the streets. It s time for our pandering politicians to get serious about the necessity to shut this down now.",
         "0"
        ],
        [
         "8",
         "This woman is insane.In an incredibly disrespectful rant against President Obama and anyone else who supports investigating Russian interference in our election, Fox News host Jeanine Pirro said that anybody who is against Donald Trump is anti-American. Look, it s time to take sides,  she began.  The election is over. You re either with us or against us. That is, with the United States or against the United States. As you may recall, President Bush and conservatives used this same phrase often to question the patriotism of Americans who opposed war in Iraq. We have a new president-elect. His name is Donald J. Trump. So move over Barack,  Pirro continued, going on to refer to Hillary Clinton and other Democrats as  namby pamby pathetic losers. Pirro then made a bullshit claim. There was a time in this country when we were united behind the flag in celebration of America s new president, our new leader. We all did in 2008 when Barack Obama was elected. We had high hopes for a united country, irrespective of our politics. It s time for the left, assuming they re capable, to show the same dignity and class, to the 45th president-elect. When President Obama took office in 2008, Republicans vowed to make him and America fail. They obstructed at every turn, called him every name in the book, and disrespected him. They even declared their love and allegiance to foreign leaders like Putin and Benjamin Netanyahu. So Pirro is a damned liar for daring to claim that Republicans united behind President Obama because they absolutely did not. Republican leaders had a meeting before he was even in office and agreed to block him at every turn and make him a  one term president. Then Pirro suggested that investigating Russia for interfering with our election is also un-American. You know, because America somehow has a long tradition of letting Russia rig the election for the presidential candidate they prefer. This isn t about the election, is it Mr. President?  she asked.  This is about domestic politics. It s not about November 2016, it s about January 2017 and your attempt to prevent Donald Trump from the smooth transition of power and your inability to face the overwhelming Electoral College win that the American people gave him. Except Trump s supposed  victory  was not even close to being  overwhelming.  He lost the popular vote by nearly 3 million votes and his Electoral College margin is one of the smallest in the last 100 years. Even President Obama s victories in 2008 and 2012 were bigger. So in anyone had a mandate to lead, it was Obama. And Republicans worked to sabotage him.Pirro demanded to know why everyone is  so obsessed with Russia  and claimed that she would rather sympathize with Putin because he s supposedly a  Christian.  Yeah, a  Christian  who murders political opponents and denies his people basic human rights. I despise all dictators,  she claimed,  but between the dictator that thinks I m an infidel and wants to have our heads cut off and the dictator from whom I simply want to keep my distance  the choice is a no-brainer. Here s the video via YouTube:In other words, like other crazy Republicans, Pirro loves Putin and has no problem with Russia rigging our election as long as they rig it in favor of the conservative candidate. That s a dangerous path that could lead to Republicans seeking help from foreign powers to help them win elections in the future. And the only way we can stop it is to investigate and if Russia did help Trump win, he should be disqualified immediately and we should either hold a new election or install Hillary Clinton as the rightful winner.Featured image via screenshot",
         "0"
        ],
        [
         "9",
         "The last time a pope got involved in politics was when Pope Benedict XVI condemned Obama s abortion stance in 2009.Pope Francis comments that align the United States with some of the most oppressive nations in the world may have alienated many Catholics in America. Considering the number of Catholics in the world is declining, you would think that Pope Francis would have other priorities than to involve himself in issues that could further alienate more people from the Catholic Church.Pope Francis told the Italian newspaper La Repubblica on Thursday that the United States of America and Russia, China, North Korea and Bashar al Assad s Syria have  a distorted vision of the world ( una visione distorta del mondo,  as reported in Italian by La Repubblica).The pope made the observation in an interview with La Repubblica reporter Eugenio Scalfari. Last Thursday, I got a call from Pope Francis,  Scalfari reported.  It was about noon, and I was at the newspaper when my phone rang. He said the pope wanted to see him at four that afternoon, according to a Google translation of the Italian report. Pope Francis told me to be very concerned about the meeting of the G20,  Scalfari wrote. I am afraid there are very dangerous alliances between powers who have a distorted view of the world: America and Russia, China and North Korea, Russia and Assad in the war in Syria,  the pope said.  CSNNews",
         "0"
        ]
       ],
       "shape": {
        "columns": 2,
        "rows": 10
       }
      },
      "text/html": [
       "<div>\n",
       "<style scoped>\n",
       "    .dataframe tbody tr th:only-of-type {\n",
       "        vertical-align: middle;\n",
       "    }\n",
       "\n",
       "    .dataframe tbody tr th {\n",
       "        vertical-align: top;\n",
       "    }\n",
       "\n",
       "    .dataframe thead th {\n",
       "        text-align: right;\n",
       "    }\n",
       "</style>\n",
       "<table border=\"1\" class=\"dataframe\">\n",
       "  <thead>\n",
       "    <tr style=\"text-align: right;\">\n",
       "      <th></th>\n",
       "      <th>text</th>\n",
       "      <th>target</th>\n",
       "    </tr>\n",
       "  </thead>\n",
       "  <tbody>\n",
       "    <tr>\n",
       "      <th>0</th>\n",
       "      <td>Mark Wahlberg has been a rapper. He appeared s...</td>\n",
       "      <td>0</td>\n",
       "    </tr>\n",
       "    <tr>\n",
       "      <th>1</th>\n",
       "      <td>Out of all the insane people who are part of T...</td>\n",
       "      <td>0</td>\n",
       "    </tr>\n",
       "    <tr>\n",
       "      <th>2</th>\n",
       "      <td>LONDON () - Crude oil flows through an Iraqi K...</td>\n",
       "      <td>1</td>\n",
       "    </tr>\n",
       "    <tr>\n",
       "      <th>3</th>\n",
       "      <td>Ever since the attacks on the U.S. diplomatic ...</td>\n",
       "      <td>0</td>\n",
       "    </tr>\n",
       "    <tr>\n",
       "      <th>4</th>\n",
       "      <td>In what can only be seen as a groundbreaking a...</td>\n",
       "      <td>0</td>\n",
       "    </tr>\n",
       "    <tr>\n",
       "      <th>5</th>\n",
       "      <td>BAGHDAD/ERBIL, Iraq () - Iraq s Kurdish leader...</td>\n",
       "      <td>1</td>\n",
       "    </tr>\n",
       "    <tr>\n",
       "      <th>6</th>\n",
       "      <td>How can you be prosecuted for something that i...</td>\n",
       "      <td>0</td>\n",
       "    </tr>\n",
       "    <tr>\n",
       "      <th>7</th>\n",
       "      <td>We ve seen an escalation in violence against p...</td>\n",
       "      <td>0</td>\n",
       "    </tr>\n",
       "    <tr>\n",
       "      <th>8</th>\n",
       "      <td>This woman is insane.In an incredibly disrespe...</td>\n",
       "      <td>0</td>\n",
       "    </tr>\n",
       "    <tr>\n",
       "      <th>9</th>\n",
       "      <td>The last time a pope got involved in politics ...</td>\n",
       "      <td>0</td>\n",
       "    </tr>\n",
       "  </tbody>\n",
       "</table>\n",
       "</div>"
      ],
      "text/plain": [
       "                                                text  target\n",
       "0  Mark Wahlberg has been a rapper. He appeared s...       0\n",
       "1  Out of all the insane people who are part of T...       0\n",
       "2  LONDON () - Crude oil flows through an Iraqi K...       1\n",
       "3  Ever since the attacks on the U.S. diplomatic ...       0\n",
       "4  In what can only be seen as a groundbreaking a...       0\n",
       "5  BAGHDAD/ERBIL, Iraq () - Iraq s Kurdish leader...       1\n",
       "6  How can you be prosecuted for something that i...       0\n",
       "7  We ve seen an escalation in violence against p...       0\n",
       "8  This woman is insane.In an incredibly disrespe...       0\n",
       "9  The last time a pope got involved in politics ...       0"
      ]
     },
     "execution_count": 19,
     "metadata": {},
     "output_type": "execute_result"
    }
   ],
   "source": [
    "df.reset_index(inplace=True)\n",
    "df.drop([\"index\"], axis = 1, inplace = True)\n",
    "df.head(10)"
   ]
  },
  {
   "cell_type": "markdown",
   "metadata": {},
   "source": [
    "Data Pre-processing"
   ]
  },
  {
   "cell_type": "code",
   "execution_count": 20,
   "metadata": {},
   "outputs": [
    {
     "name": "stderr",
     "output_type": "stream",
     "text": [
      "<>:3: SyntaxWarning: invalid escape sequence '\\['\n",
      "<>:9: SyntaxWarning: invalid escape sequence '\\S'\n",
      "<>:13: SyntaxWarning: invalid escape sequence '\\w'\n",
      "<>:3: SyntaxWarning: invalid escape sequence '\\['\n",
      "<>:9: SyntaxWarning: invalid escape sequence '\\S'\n",
      "<>:13: SyntaxWarning: invalid escape sequence '\\w'\n",
      "/var/folders/xj/8pjs953d6js1smxmzd9xcvw00000gn/T/ipykernel_99632/4257964788.py:3: SyntaxWarning: invalid escape sequence '\\['\n",
      "  text = re.sub('\\[.*?\\]','',text)\n",
      "/var/folders/xj/8pjs953d6js1smxmzd9xcvw00000gn/T/ipykernel_99632/4257964788.py:9: SyntaxWarning: invalid escape sequence '\\S'\n",
      "  text = re.sub('https?://\\S+|www\\.\\S+', '', text)\n",
      "/var/folders/xj/8pjs953d6js1smxmzd9xcvw00000gn/T/ipykernel_99632/4257964788.py:13: SyntaxWarning: invalid escape sequence '\\w'\n",
      "  text = re.sub('\\w*\\d\\w*', '', text)\n"
     ]
    }
   ],
   "source": [
    "def wordopt(text):\n",
    "    text = text.lower()\n",
    "    text = re.sub('\\[.*?\\]','',text)\n",
    "    # This is where i remove the \"()\" from the text column. You can do in whatever way you want \n",
    "    # The key is to remove the \"(Reuters)\" string as it is present in all text of True.csv.\n",
    "    # The Model during the training part can memorize it and perfrom great in training and badly when other testing input is given.\n",
    "    text = re.sub('[()]','',text)\n",
    "    text = re.sub('\\\\W',' ',text)\n",
    "    text = re.sub('https?://\\S+|www\\.\\S+', '', text)\n",
    "    text = re.sub('<.*?>+', '', text)\n",
    "    text = re.sub('[%s]' % re.escape(string.punctuation), '', text)\n",
    "    text = re.sub('\\n', '', text)\n",
    "    text = re.sub('\\w*\\d\\w*', '', text)\n",
    "    return text"
   ]
  },
  {
   "cell_type": "code",
   "execution_count": 21,
   "metadata": {},
   "outputs": [
    {
     "data": {
      "application/vnd.microsoft.datawrangler.viewer.v0+json": {
       "columns": [
        {
         "name": "index",
         "rawType": "int64",
         "type": "integer"
        },
        {
         "name": "text",
         "rawType": "object",
         "type": "string"
        },
        {
         "name": "target",
         "rawType": "int64",
         "type": "integer"
        }
       ],
       "ref": "654dc95a-2d9b-4835-af1a-c4fe90d0ec4c",
       "rows": [
        [
         "0",
         "mark wahlberg has been a rapper  he appeared shirtless and grinning on a  foot billboard in times square  he launched his own burger chain  and he starred in some of the greatest movies ever made  including  boogie nights    three kings    the departed   and  lone survivor  wahlberg went on an emotional tear  evincing a raw and heartfelt respect for the real sacrifice he d portrayed in lone survivor  he said he had no respect for anyone who might suggest that filmmaking comes close to its degree of difficulty  i don t know it just hit me in a way that uh   i don t know  it just really upset me that those guys were never gonna see their families again  for actors to sit there and talk about  oh i went to seal training   and i slept on the   i don t give a fuck what you did  you don t do what these guys did  for somebody to sit there and say my job was as difficult as somebody in the military s  how fucking dare you  while you sit in a makeup chair for two hours  don t expect wahlberg to opine on politics  a lot of celebrities did  do  and shouldn t   he told task   purpose last week  at a swanky luncheon in new york  held on behalf of his upcoming film  patriots day   we were talking about the parade of actors and musicians who lined up to denounce donald trump in the months and weeks leading up to election day  a lot of hollywood is living in a bubble  they re pretty out of touch with the common person  the everyday guy out there providing for their family  you know  it just goes to show you that people aren t listening to that anyway   he continued   they might buy your cd or watch your movie  but you don t put food on their table  you don t pay their bills  a lot of hollywood is living in a bubble  they re pretty out of touch with the common person  the everyday guy out there providing for their family read more  task and purpose",
         "0"
        ],
        [
         "1",
         "out of all the insane people who are part of trump s posse  former campaign manager roger stone has to win the loony prize  stone regularly immerses himself with full on white supremacists  during the presidential campaign  stone was so insane that he was forced to quit because of all the controversy surrounding him  apparently  he didn t want to upstage the candidate s own controversies  now he says he has been poisoned because he knows too much about russia  only it s not russia  he says  that s doing the poisoning on tuesday  stone appeared on conspiracy nut alex jones  infowars claiming that he had been poisoned with polonium  which is putin and the russian s poison of choice  however  stone is making the claim that it was congress or something that poisoned him  i became extremely ill  this manifested itself in over  days of high fever  delirium  night sweats  i had lesions on my chest and my face   stone explained to jones   the general consensus is i was poisoned  i was poisoned with polonium or a substance that has the characteristics of polonium and this made me exceedingly ill   stone s theory is that someone poisoned him because he has proof that russia was not behind the hacks of the democratic national committee and john podesta   this is about stopping the trump agenda   he said   i would blow the whistle on this whole bogus russian narrative that they just won t let go of  source  mediaitehere s the insane video he also tweeted about it yes  i believe i was poisoned to stop me from exposing the  russian hacking  lie  the congressional investigation  stonecoldtruth  roger stone  rogerjstonejr january     doctors say i was poisoned   who would do such a thing   https   t co   roger stone  rogerjstonejr january    this story sounds like a bad tom clancy novel  it makes zero sense since people knew of russia s involvement long before the election and if there was some vast anti trump  anti russia conspiracy theory  it would have come to fruition before trump won the electoral college  not after  the far more believable explanation is that stone  who nobody really gives a crap about  wasn t poisoned and that he s trying to hawk his new book featured image via spencer platt getty images",
         "0"
        ],
        [
         "2",
         "london    crude oil flows through an iraqi kurdistan pipeline to turkey resumed on monday after a technical stoppage for several hours  a kurdish shipping source told   the source said the flows were still reduced at around     barrels per day bpd compared with the usual volume of   bpd  the next cargo to load at the mediterranean port of ceyhan will be santa cruz that will exports volume from the november loading program  the source said  ",
         "1"
        ],
        [
         "3",
         "ever since the attacks on the u s  diplomatic compound in benghazi  libya on september     republicans have been trying everything within their powers to throw the obama administration  in particular former secretary of state hillary clinton  under the bus  however  after several investigations surrounding the attack  it has continuously been shown that there was no wrong doing even fox news reported  investigation by the republican controlled house intelligence committee has found that the cia and the military acted properly in responding to the  attack on a u s  diplomatic post in benghazi  libya the report alleges no wrongdoing by obama administration appointees debunking a series of persistent allegations hinting at dark conspiracies surrounding the incident  the report concludes that there was no intelligence failure  no delay in sending a cia rescue team  no missed opportunity for a military rescue  and no evidence the cia was covertly shipping arms from libya to syria  yet  the investigations still continued and questions are still being raised to this day something just happened during an interview on fox news  however  when one of the lead republicans who s been leading the charge against the obama administration accidentally admitted the truth  but then tried to pivot away while rep  trey gowdy r sc was discussing the fact that one of the lead investigators for benghazi just quit because there was nothing more to discover  he seemed to debunk his main conspiracy theory that there was a  stand down  order given  which would have prevented military help from arriving at the compound in time to help gowdy said  whether or not they could have gotten there in time  they couldn t  i don t think there s any question about that  but then clearly pivoting as if to give the illusion that he didn t say such a thing  he adds  why could you not  why were you not positioned to do it  why could we not do a lot of things  gowdy  why could you not get a decent haircut that didn t make you look like you crawled out of a harry potter novel  the fact of the matter is  he just admitted the obama administration is in the clear and there was nothing more they could have done to get help there in time what s most interesting is the fact that gowdy is now raising questions that hillary clinton raised right after it happened with her now infamous line   what difference does it make   because in full context  her response to questioning was  with all due respect  the fact is we had four dead americans  was it because of a protest or was it because of guys out for a walk one night who decided that they d they go kill some americans  what difference at this point does it make  going on to say that we need to figure out what happened  what we can do differently  and how we can go forward to make sure it never happens again gowdy is all out of arguments and the benghazi attack investigations have been settled  what we need to do now is make sure we keep our current diplomats protected and prevent another attack from occurring  which is what republicans should be focused on rather than try to use the attacks as a political posturing move to throw the obama administration and hillary clinton under the bus  maybe we should have an investigation into how many unwarranted  tax payer funded investigations we ve had  featured image via video screen capture  ht c l",
         "0"
        ],
        [
         "4",
         "in what can only be seen as a groundbreaking and unprecedented move  starbucks chairman and ceo howard schultz delivered an open letter to all their partners employees regarding donald trump s muslim ban he titled the letter   living our values in uncertain times  and here it is  dear partners i write to you today with deep concern  a heavy heart and a resolute promise  let me begin with the news that is immediately in front of us  we have all been witness to the confusion  surprise and opposition to the executive order that president trump issued on friday  effectively banning people from several predominantly muslim countries from entering the united states  including refugees fleeing wars  i can assure you that our partner resources team has been in direct contact with the partners who are impacted by this immigration ban  and we are doing everything possible to support and help them to navigate through this confusing period we are living in an unprecedented time  one in which we are witness to the conscience of our country  and the promise of the american dream  being called into question  these uncertain times call for different measures and communication tools than we have used in the past  kevin and i are going to accelerate our commitment to communicating with you more frequently  including leveraging new technology platforms moving forward  i am hearing the alarm you all are sounding that the civility and human rights we have all taken for granted for so long are under attack  and want to use a faster  more immediate form of communication to engage with you on matters that concern us all as partners i also want to take this opportunity to announce specific actions we are taking to reinforce our belief in our partners around the world and to ensure you are clear that we will neither stand by  nor stand silent  as the uncertainty around the new administration s actions grows with each passing day support for daca  as i wrote to senators graham and durbin this week  we are enthusiastically behind their work to support  dreamers  across our country   including those young men and women who are part of the deferred action for childhood arrivals daca program  there are nearly three quarters of a million hardworking people contributing to our communities and our economy because of this program  at starbucks  we are proud to call them partners and to help them realize their own american dream  we want them to feel welcome and included in our success  which is why we reimburse them for the biennial fee they must pay to stay in the program and why we have offered daca related services at our opportunity youth hiring fairs hiring refugees  we have a long history of hiring young people looking for opportunities and a pathway to a new life around the world  this is why we are doubling down on this commitment by working with our equity market employees as well as joint venture and licensed market partners in a concerted effort to welcome and seek opportunities for those fleeing war  violence  persecution and discrimination  there are more than  million citizens of the world recognized as refugees by the united nations  and we are developing plans to hire   of them over five years in the  countries around the world where starbucks does business  and we will start this effort here in the u s  by making the initial focus of our hiring efforts on those individuals who have served with u s  troops as interpreters and support personnel in the various countries where our military has asked for such support building bridges  not walls  with mexico  we have been open for business in mexico since   and have since opened almost  stores in  cities across the country  which together employ over   mexican partners who proudly wear the green apron  we have sourced coffee from mexico s producers and their families for three decades and last fall  we also announced the creation of a farmer support center in chiapas to help accelerate our collective ability to grow and export some of the world s finest coffees from this important growing region  while donating more than   million to support the livelihood  food security and water quality of coffee producing communities in oaxaca  with the support of thousands of starbucks partners and millions of customers  we have also donated over a million coffee trees to support   families  and we will be expanding the initiative this year to generate another  million tree donations  coffee is what unites our common heritage  and as i told alberto torrado  the leader of our partnership with alsea in mexico  we stand ready to help and support our mexican customers  partners and their families as they navigate what impact proposed trade sanctions  immigration restrictions and taxes might have on their business and their trust of americans  but we will continue to invest in this critically important market all the same our healthcare commitment to you  finally  let me restate what we have recently communicated with you about the affordable care act   our commitment remains that if you are benefits eligible  you will always have access to health insurance through starbucks  many of you have expressed concerns that recent government actions may jeopardize your ability to participate in the affordable care act  if the recent executive order related to health care remains in place and the affordable care act is repealed causing you to lose your healthcare coverage  you will always have the ability to return and can do so within  days of losing that coverage rather than having to wait for an open enrollment period  if you have any questions or concerns  please contact the benefits center at    in the face of recent events around the world  let me assure you that we will stay true to our values and do everything we can possibly do to support and invest in every partner s well being while taking the actions that are squarely within our ability to control  this is our focus  providing a third place of respite for those around the world who seek it  daily starbucks has and will always stand for opportunity   opportunity for our young people who are working to land their first job in the  countries where we do business  opportunity for our farmers who care so deeply for the highest of quality coffee we offer to customers all around the globe  and yes  opportunity for those who come to america in search of their own fresh start   whether that is with starbucks directly  or through our suppliers or our partner companies if there is any lesson to be learned over the last year  it s that your voice and your vote matter more than ever  we are all obligated to ensure our elected officials hear from us individually and collectively  starbucks is doing its part  we need you to use the collective power of your voices to do the same while respecting the diverse viewpoints of the  million customers who visit our stores in more than   locations around the world so  while we seek to understand what the new administration s policies mean for us and our business both domestically and around the world  i can assure you that we will do whatever it takes to support you  our partners  to realize your own dreams and achieve your own opportunities  we are in business to inspire and nurture the human spirit  one person  one cup and one neighborhood at a time   whether that neighborhood is in a red state or a blue state  a christian country or a muslim country  a divided nation or a united nation  that will not change  you have my word on that onward howard well said  mr  schultz  and you are a better american for all that was said  your dedication to what truly makes america the land of the free and the home of the brave will forever be noticed featured photo by christopher furlong getty images",
         "0"
        ],
        [
         "5",
         "baghdad erbil  iraq    iraq s kurdish leader massoud barzani vowed on tuesday to press ahead with a referendum on kurdish independence on sept   despite a vote by iraq s parliament to reject the move  earlier the parliament in baghdad authorized the prime minister to  take all measures  to preserve iraq s unity  kurdish lawmakers walked out of the session before the vote and issued statements rejecting the decision  western powers fear a plebiscite in iraq s semi autonomous kurdish region   including the oil rich city of kirkuk   could ignite conflict with the central government in baghdad and divert attention from the war against islamic state militants  iraq s neighbors   turkey  iran and syria   also oppose the referendum  fearing it could fan separatism among their own ethnic kurdish populations   the referendum will be held on time    dialogue with baghdad will resume after the referendum   barzani  president of the kurdistan regional government krg  said in a statement on his ruling party s official website after the vote  barzani told a gathering of kurds  arabs and turkmen in  kirkuk that the referendum was  a natural right   according to a tweet from his aide hemin hawrami  barzani also said kirkuk should have a  special status  in a new  independent kurdistan  iraqi lawmakers worry that the referendum will consolidate kurdish control over several areas claimed by both the central government in baghdad and the autonomous krg in northern iraq       this referendum lacks a constitutional basis and thus it is considered unconstitutional   the parliamentary resolution said  without specifying what measures the central government should take to stop kurdistan from breaking away  mohammed al karbouli  a sunni muslim lawmaker  said   kurdish lawmakers walked out of tuesday s session but the decision to reject the referendum was passed by a majority   a senior kurdish official dismissed the vote as non binding though an iraqi lawmaker said it would be published in the official gazette after approval from the iraqi presidency  the krg has said it is up to local councils of disputed regions in northern iraq to decide whether to join the vote  kirkuk  an ethnically mixed city  voted last month to participate in the referendum  a move that stoked tensions with its arab and turkmen residents  as well as with baghdad  kurdish peshmerga forces took control of the kirkuk area and other areas claimed by both baghdad and the kurds after islamic state militants overran about a third of iraq in  and baghdad s local forces disintegrated  at a news conference on tuesday  iraqi prime minister haider al abadi said the kurds were continuing to  illegally export  kirkuk s oil  and he called for urgent talks   i call upon the kurdish leadership to come to baghdad and conclude a dialogue   abadi said  a kurdish delegation met officials in baghdad for a first round of talks in august concerning the referendum  an iraqi delegation was expected to visit the kurdish capital of erbil in early september for a second round of talks  but the visit has yet to happen with less than two weeks before the vote  kurds have sought an independent state since at least the end of world war one  when colonial powers divided up the middle east after the collapse of the multi ethnic ottoman empire and left kurdish populated territory split between turkey  iran  iraq and syria  ",
         "1"
        ],
        [
         "6",
         "how can you be prosecuted for something that isn t true  the climate scam folks in california are planning on strong arming americans into complying with climate change thought  this is fruit loops a landmark bill allowing for the prosecution of climate change dissent effectively died thursday after the california senate failed to take it up before the deadline senate bill   or the california climate science truth and accountability act of   would have authorized prosecutors to sue fossil fuel companies  think tanks and others that have  deceived or misled the public on the risks of climate change  the measure  which cleared two senate committees  provided a four year window in the statute of limitations on violations of the state s unfair competition law  allowing legal action to be brought until jan   on charges of climate change  fraud  extending back indefinitely  this bill explicitly authorizes district attorneys and the attorney general to pursue ucl claims alleging that a business or organization has directly or indirectly engaged in unfair competition with respect to scientific evidence regarding the existence  extent  or current or future impacts of anthropogenic induced climate change   said the state senate rules committee s floor analysis of the bill read more  wt ",
         "0"
        ],
        [
         "7",
         "we ve seen an escalation in violence against police officers this past week that is really disturbing  mob rule has taken over in some cities with leaders who are more concerned with the vile and violent protesters than the cops who are protecting their right to be protest a black boston cop is taunted by a young black woman   you stupid a   black bitch  you re suppose to be on our side    bostonfreespeechrally pic twitter com   based monitored    basedmonitored august    under all of the attention given to the protesters is horrible violence and murder directed at our law enforcement  two police officers were ambushed and killed last week in kissimmee  fl by a muslim who belongs to a black radical group the war on our cops is real and it s frightening  all you have to do is look at the alt left and black radicals who are plotting and planning to slaughter our police officers exactly like normandy pic twitter com   jack posobiec    jackposobiec august    baltimore bloc s twitter feed is full of hateful posts remember that the baltimore mayor removed  confederate statues in the middle of the night  baltimore bloc had this to say about cops   now that we ve got rid of these white supremacist symbols  it s time to get rid of these white supremacist systems now that we ve got rid of these white supremacist symbols  it s time to get rid of these white supremacist systems pic twitter com   baltimore bloc  bmorebloc august    we ve found is shocking a lone policeman taunted  a protester was hurt by metal falling from the a monument in atlanta as the group tried to tear it down  ajc photographer john spink reported sunday night  tensions rose as the lone policeman on the scene was surrounded by black clad antifa protesters shouting  pig  durham  nc same anti cop rhetoric cops   klan go hand in hand a protest in dallas got out of control when the protesters started chanting   cops and the klan go hand in hand there s so much more but you get the intent of these people  they want to push the limits and create anarchy in the streets  it s time for our pandering politicians to get serious about the necessity to shut this down now ",
         "0"
        ],
        [
         "8",
         "this woman is insane in an incredibly disrespectful rant against president obama and anyone else who supports investigating russian interference in our election  fox news host jeanine pirro said that anybody who is against donald trump is anti american  look  it s time to take sides   she began   the election is over  you re either with us or against us  that is  with the united states or against the united states  as you may recall  president bush and conservatives used this same phrase often to question the patriotism of americans who opposed war in iraq  we have a new president elect  his name is donald j  trump  so move over barack   pirro continued  going on to refer to hillary clinton and other democrats as  namby pamby pathetic losers  pirro then made a bullshit claim  there was a time in this country when we were united behind the flag in celebration of america s new president  our new leader  we all did in  when barack obama was elected  we had high hopes for a united country  irrespective of our politics  it s time for the left  assuming they re capable  to show the same dignity and class  to the  president elect  when president obama took office in   republicans vowed to make him and america fail  they obstructed at every turn  called him every name in the book  and disrespected him  they even declared their love and allegiance to foreign leaders like putin and benjamin netanyahu  so pirro is a damned liar for daring to claim that republicans united behind president obama because they absolutely did not  republican leaders had a meeting before he was even in office and agreed to block him at every turn and make him a  one term president  then pirro suggested that investigating russia for interfering with our election is also un american  you know  because america somehow has a long tradition of letting russia rig the election for the presidential candidate they prefer  this isn t about the election  is it mr  president   she asked   this is about domestic politics  it s not about november   it s about january  and your attempt to prevent donald trump from the smooth transition of power and your inability to face the overwhelming electoral college win that the american people gave him  except trump s supposed  victory  was not even close to being  overwhelming   he lost the popular vote by nearly  million votes and his electoral college margin is one of the smallest in the last  years  even president obama s victories in  and  were bigger  so in anyone had a mandate to lead  it was obama  and republicans worked to sabotage him pirro demanded to know why everyone is  so obsessed with russia  and claimed that she would rather sympathize with putin because he s supposedly a  christian   yeah  a  christian  who murders political opponents and denies his people basic human rights  i despise all dictators   she claimed   but between the dictator that thinks i m an infidel and wants to have our heads cut off and the dictator from whom i simply want to keep my distance  the choice is a no brainer  here s the video via youtube in other words  like other crazy republicans  pirro loves putin and has no problem with russia rigging our election as long as they rig it in favor of the conservative candidate  that s a dangerous path that could lead to republicans seeking help from foreign powers to help them win elections in the future  and the only way we can stop it is to investigate and if russia did help trump win  he should be disqualified immediately and we should either hold a new election or install hillary clinton as the rightful winner featured image via screenshot",
         "0"
        ],
        [
         "9",
         "the last time a pope got involved in politics was when pope benedict xvi condemned obama s abortion stance in  pope francis comments that align the united states with some of the most oppressive nations in the world may have alienated many catholics in america  considering the number of catholics in the world is declining  you would think that pope francis would have other priorities than to involve himself in issues that could further alienate more people from the catholic church pope francis told the italian newspaper la repubblica on thursday that the united states of america and russia  china  north korea and bashar al assad s syria have  a distorted vision of the world  una visione distorta del mondo   as reported in italian by la repubblica the pope made the observation in an interview with la repubblica reporter eugenio scalfari  last thursday  i got a call from pope francis   scalfari reported   it was about noon  and i was at the newspaper when my phone rang  he said the pope wanted to see him at four that afternoon  according to a google translation of the italian report  pope francis told me to be very concerned about the meeting of the    scalfari wrote  i am afraid there are very dangerous alliances between powers who have a distorted view of the world  america and russia  china and north korea  russia and assad in the war in syria   the pope said   csnnews",
         "0"
        ],
        [
         "10",
         "if we didn t know better  we d almost believe our federal government was attempting to give special privileges to spanish speaking citizens  perhaps they re establishing a precedent for taxpayer funded benefits for millions of illegal immigrants who will soon be american citizens the social security administration ssa approved disability benefits for hundreds of puerto ricans because they do not speak english  despite the fact that puerto rico is a predominantly spanish speaking territory according to a new audit by the office of inspector general oig  the agency is misapplying rules that are intended to provide financial assistance to individuals who are illiterate or cannot speak english in the united states  under the rules  puerto ricans are allowed to receive disability benefits for their inability to speak english as well  we found the agency did not make exceptions regarding the english language grid rules for claimants who reside in puerto rico  even though spanish is the predominant language spoken in the local economy   the oig said the audit said a person applying for disability in puerto rico who cannot speak english  may increase his her likelihood of receiving disability benefits  the agency does not currently have a system in place to keep track of the number of beneficiaries who receive disability insurance for not being able to speak english however  the oig was able to identify  cases between  and  where puerto ricans were awarded disability due to  an inability to communicate in english   furthermore   percent of disability hearings in puerto rico involved looking at the individual s ability to speak  read  write  and understand english though  percent of puerto ricans speak spanish at home  according to the rules a spanish speaking nurse in puerto rico would be considered  unskilled   the oig said the ssa told the oig that the rules are applied one size fits all  ssa managers at various disability decision levels stated social security is a national program  and the grids must be applied to the national economy  regardless of local conditions   the audit said the ssa takes into account an individual s education level when considering awarding disability benefits if they do not qualify for medical reasons  part of the education requirement involves looking at a person s ability to speak english  to determine whether it limits his ability to find a job last year sen  jeff sessions r   ala  raised concerns that the obama administration was broadly applying the education rule under the social security act to allow individuals to receive disability payments solely because they cannot speak english he noted that the social security disability insurance ssdi rolls swelled  percent between  and   while the u s  population only grew   percent former ssa judges have also testified that individuals have been approved for disability in the united states without having to prove they cannot speak english the hundreds of puerto ricans noted in the oig s report have received disability insurance despite a  u s  district court ruling that appears to contradict the ssa s policy  benefits were denied on the grounds that  it is the ability to communicate in spanish  not english  that is vocationally important in puerto rico  it should be noted  however  that the court explicitly declined to apply this rationale outside of this one case   the oig said the ssa agreed with the oig s recommendations to figure out how many individuals have been  awarded disability based on their inability to communicate in english   and to  evaluate the appropriateness  of applying the english speaking rules to puerto rico the ssa is currently gathering information for a proposed regulation that  could lead to changes  to the english speaking rule  the agency said via  free beacon",
         "0"
        ],
        [
         "11",
         "   u s  president elect donald trump formally named former georgia governor sonny perdue as his nominee for secretary of agriculture on thursday  officially completing the selection of his cabinet  his transition team said in a statement  here is a list of republican trump s selections for top jobs in his administration   note  senate confirmation is required for all the posts except national security adviser and white house posts  tillerson    has spent his entire career at exxon mobil corp  where he rose to chairman and chief executive officer in   a civil engineer by training  the texan joined the world s largest publicly traded energy company in  and led several of its operations in the united states as well as in yemen  thailand and russia  as exxon s chief executive  he maintained close ties with moscow and opposed u s  sanctions against russia for its incursion into crimea  mnuchin    is a successful private equity investor  hedge fund manager and hollywood financier who spent  years at goldman sachs group inc before leaving the investment bank in   he assembled an investor group to buy a failed california mortgage lender in   rebranded it as onewest bank and built it into southern california s largest bank  housing advocacy groups criticized onewest for its foreclosure practices  accusing it of being too quick to foreclose on struggling homeowners  mattis is a retired marine general known for his tough talk  distrust of iran and battlefield experience in iraq and afghanistan  a former leader of central command  which oversees u s  military operations in the middle east and south asia  mattis    is known by many u s  forces by his nickname   mad dog   he was rebuked in  for saying   it s fun to shoot some people   sessions    was the first u s  senator to endorse trump s presidential bid and has been a close ally since  son of a country store owner  the lawmaker from alabama and former federal prosecutor has long taken a tough stance on illegal immigration  opposing any path to citizenship for undocumented immigrants  coats    served as u s  senator from indiana from  to  and again from  to   and was u s  ambassador to germany from  to   he previously served as u s  representative from indiana s  congressional district  zinke    a first term republican u s  representative from montana and a member of the house subcommittee on natural resources  has voted for legislation that would weaken environmental safeguards on public lands  he has taken stances favoring the coal industry  which suffered during the obama administration  the league of conservation voters  which ranks lawmakers on their environmental record  gave zinke an extremely low lifetime score of  percent  ross    heads the private equity firm wl ross   co  forbes has pegged his net worth at about    billion  a staunch supporter of trump  ross helped shape the trump campaign s views on trade policy  he blames massive u s  factory job losses on the north american free trade agreement nafta with canada and mexico  which went into force in   and the  entry of china into the world trade organization       lighthizer    served as deputy u s  trade representative during the reagan administration in the  and has since spent nearly three decades as a lawyer representing u s  companies in anti dumping and anti subsidy cases  currently with the law firm skadden  arps  slate  meagher and flom  a harsh critic of china s trade practices  lighthizer in  told congress that u s  policymakers should take a more aggressive approach in dealing with the asian country  puzder  chief executive officer of cke restaurants inc   which runs the carl s jr  and hardee s fast food chains  has been a vociferous critic of government regulation of the workplace and the national labor relations board  puzder    has argued that higher minimum wages would hurt workers by forcing restaurants to close and praises the benefits of automation  so his appointment is likely to antagonize organized labor   u s  representative price    is an orthopedic surgeon who heads the house budget committee  a representative from georgia since   price has criticized obamacare and has championed a plan of tax credits  expanded health savings accounts and lawsuit reforms to replace it  he is against abortion  former georgia governor perdue    served on trump s agricultural advisory committee during the campaign  perdue  a republican  was elected to two terms as governor  serving from  to   before that  he served in the state senate representing a rural swath of the state about  miles  km south of atlanta  after finishing his second term as governor  perdue founded perdue partners  a global trading firm that consults and provides services for companies looking to export products  shulkin    currently is under secretary for health at the department of veterans affairs  putting him in charge of the country s largest healthcare system  shulkin  a physician  was chosen by democratic president barack obama for the under secretary post in   he has spearheaded an effort to cut waiting times for care at va medical centers  trump promised during the campaign to improve medical care for veterans  shulkin would be the first va secretary who had not served in the military  carson    is a retired neurosurgeon who dropped out of the republican presidential nominating race in march and threw his support to trump  a popular writer and speaker in conservative circles  carson had been reluctant to take a position in the incoming administration because of his lack of experience in the federal government  he is the first african american picked for a cabinet spot by trump  chao    was labor secretary under president george w  bush for eight years and the first asian american woman to hold a cabinet position  she is a director at ingersoll rand plc  news corp and vulcan materials co  she is married to u s  senate majority leader mitch mcconnell  a republican from kentucky  perry    is an addition to the list of oil drilling advocates skeptical about climate change who have been picked for senior positions in trump s cabinet  the selections have worried environmentalists but cheered an oil and gas industry eager for expansion  perry  who ran unsuccessfully for the  republican presidential nomination and also briefly ran for president in   would be responsible for u s  energy policy and oversee the nation s nuclear weapons program   devos    is a billionaire republican donor  a former chair of the michigan republican party and an advocate for the privatization of education  as chair of the american federation for children  she has pushed at the state level for vouchers that families can use to send their children to private schools and for expansion of charter schools  the final leadership role of kelly s  year military career was head of the u s  southern command  responsible for u s  military activities and relationships in latin america and the caribbean  the  year old retired marine general differed with obama on key issues and has warned of vulnerabilities along the united states  southern border with mexico  priebus recently was re elected to serve as republican national committee chairman but will give up that job to join trump in the white house  where the low key washington operative could help forge ties with congress to advance trump s agenda  priebus    was a steadfast supporter of trump during the presidential campaign even as the party fractured amid the choice  environmental protection agency administrator  scott pruitt an ardent opponent of obama s measures to stem climate change  oklahoma attorney general pruitt    has enraged environmental activists  but he fits in with the president elect s promise to cut the agency back and eliminate regulation that he says is stifling oil and gas drilling  pruitt became the top state prosecutor for oklahoma  which has extensive oil reserves  in  and has challenged the epa multiple times since  u s  representative mick mulvaney    a south carolina republican  is a fiscal conservative  he was an outspoken critic of former house of representatives speaker john boehner  who resigned in  amid opposition from fellow republicans who were members of the house freedom caucus  mulvaney was first elected to congress in   haley    has been the republican governor of south carolina since  and has little experience in foreign policy or the federal government  the daughter of indian immigrants  she led a successful push last year to remove the confederate battle flag from the grounds of the south carolina state capitol after the killing of nine black churchgoers in charleston by a white gunman  mcmahon    is a co founder and former chief executive of the professional wrestling franchise wwe  which is based in stamford  connecticut  she ran unsuccessfully as a republican for a u s  senate seat in connecticut in  and  and was an early supporter of trump s presidential campaign  u s  representative pompeo    is a third term congressman from kansas who serves on the house of representatives intelligence committee  which oversees the cia  national security agency and cyber security  a retired army officer and harvard law school graduate  pompeo supports the u s  government s sweeping collection of americans  communications data and wants to scrap the nuclear deal with iran  walter  jay  clayton is a new york based attorney who advises clients on major wall street deals  specializing in public and private mergers and acquisitions and capital raising efforts  his past clients have included alibaba group holding company  oaktree capital group and big banks     retired lieutenant general flynn    was an early trump supporter and serves as vice chairman on his transition team  he began his army career in  and was deployed in afghanistan and iraq  flynn became head of the defense intelligence agency in  under obama but retired a year earlier than expected  according to media reports  and became a fierce critic of obama s foreign policy  tom bossert    who worked as deputy homeland security adviser to former president george w  bush  will serve as the assistant to the president for homeland security and counterterrorism  he currently runs a risk management consulting firm and has a cyber risk fellowship with the atlantic council think tank in washington  cohn    president and chief operating officer of goldman sachs  had widely been considered heir apparent to lloyd blankfein  ceo of the wall street firm  trump hammered goldman and blankfein during the presidential campaign  releasing a television ad that called blankfein part of a  global power structure  that had robbed america s working class  navarro    has suggested a stepped up engagement with taiwan  including assistance with a submarine development program  a professor at the university of california  irvine  who advised trump during the campaign  navarro argued that washington should stop referring to the  one china  policy  but stopped short of suggesting it should recognize taipei   there is no need to unnecessarily poke the panda   viola    is a graduate of the u s  military academy at west point and a u s  army veteran who served in the famed  airborne division  he founded high frequency trading firm virtu financial inc and served as chairman of the new york mercantile exchange  where he began his financial services career  after the sept      al qaeda attacks on new york and washington  viola helped found the combating terrorism center at west point  he is an owner of the florida panthers ice hockey team  chief white house strategist  senior counselor  steve bannon the former head of the conservative website breitbart news came aboard as trump s campaign chairman in august  a rabble rousing conservative media figure  he helped shift breitbart into a forum for the alt right  a loose confederation of those who reject mainstream politics and includes neo nazis  white supremacists and anti semites  his hiring signals trump s dedication to operating outside the norms of washington  as white house chief of staff  bannon    will serve as trump s gatekeeper and agenda setter  ",
         "1"
        ],
        [
         "12",
         "moscow    a russian military jet crashed while taking off from russia s hmeymim air base in syria on tuesday in an incident that killed its two man crew  russia s defense ministry said  russian news agencies reported  the sukhoi  attack aircraft  codenamed fencer by the nato military alliance  was heading out on a combat mission  but its crew failed to eject after the plane veered off the runway  the ministry was cited as saying  a technical fault may have been to blame  the ministry said   russia has used the hmeymim base in latakia province to launch air strikes against opponents of president bashar al assad since it first intervened in the syrian conflict in september   russia lost two other planes   a sukhoi  and a mig    off the coast of syria last year in accidents involving its sole aircraft carrier  the admiral kuznetsov    ",
         "1"
        ],
        [
         "13",
         "san diego    donald trump brought his message of walls and deportations to the doorstep of america s busiest border crossing on friday as the presumptive republican presidential nominee greeted supporters in san diego  amid one of the largest counter protests organized against him  the scene inside the san diego convention center during trump s speech was relatively placid  while outside demonstrators opposed to his controversy ridden white house bid marched and chanted  carrying signs criticizing his rhetoric against illegal immigration   waving u s  and mexican flags  more than   people turned out for anti trump rallies in san diego  a city on the u s  mexico border whose san ysidro port of entry sees nearly   people a day cross legally between the countries  san diego is considered a binational city by many who live and work on opposite sides of the border  and about a third of the city s population is latino  during trump s speech on friday  some protesters outside the convention center scaled a barrier and lobbed water bottles at police  one man was pulled off the wall and arrested as others were surrounded by fellow protesters and backed away from the confrontation   after the convention center emptied  clusters of trump supporters and anti trump demonstrators began to mix in the streets  many exchanging shouted epithets and some throwing water bottles at one another   police in riot gear declared the gathering an unlawful assembly and ordered the crowd to disperse  herding the crowd out of the city s hotel and restaurant filled gaslamp quarter  san diego police said on twitter that  arrests were made during the protest  no property damage or injuries were reported  police said    fantastic job on handling the thugs who tried to disrupt our very peaceful and well attended rally   trump tweeted to police afterwards   trump has weathered months of blowback from all ends of the political spectrum for his immigration policy  which calls for the building of a wall along the u s  mexico border and deporting the nearly  million undocumented immigrants who reside in the united states  critics have said his plan is needlessly cruel and impossible to implement  at trump s campaign stops  attendees often chant  build the wall   while trump is running unopposed in the june  california republican primary  his stance on border control and deportation seems unlikely to resonate with the electorate at large in a state where political fallout from a republican backed crackdown on illegal immigrants  years ago cost the party dearly      friday was not the first time trump has been greeted by civil unrest in california  which is home to the largest latino population in the country  late last month  a visit to the california republican convention set off days of protests in the area  leading to several arrests   shortly before taking the stage in san diego  trump issued a statement ruling out a one on one debate with second place democratic hopeful bernie sanders  who was also in california  killing off a potentially high ratings television spectacle  the suggested debate  an idea first raised during a talk show appearance by the new york billionaire  would have sidelined likely democratic nominee hillary clinton but given sanders a huge platform ahead of california democratic primary      a day after saying he would welcome a sanders debate  trump called the idea  inappropriate   declaring that he should only face the democrats  final choice   i will wait to debate the first place finisher in the democratic party  probably crooked hillary clinton   trump said in a statement  sanders  a u s  senator from vermont  expressed disappointment on friday  and sought to goad trump into reconsidering   well  mr  trump  what are you afraid of   he said in a video clip posted on abc news  twitter account  trump suggested broadcast networks were unwilling to go along with his demand that at least   million raised from the encounter be donated to charity   i d love to debate bernie   he told a rally in fresno  california   but the networks want to keep the money for themselves       sanders is trailing clinton in the race to secure their party s nomination  but opinion polls show he is slicing into her lead in california  clinton has shown no interest in debating sanders before the california primary  which will be part of a final slate of nominating contests  it is possible she will clinch the nomination by winning new jersey earlier that day  making the outcome in california superfluous   the former u s  secretary of state has said she is looking forward to debating trump later this year ahead of the nov   general election  clinton leads trump by  percentage points in the most recent  ipsos poll  democrats nationally remain evenly split between clinton and sanders      ",
         "1"
        ],
        [
         "14",
         " century wire says arguably irrelevant hollywood personality  rosie o donnell has taken to social media to support the concept of the us government imposing martial law on the nation to avoid a trump presidency  the hollywood personality  who by all accounts of her own should be in canada by now  seems to have very little understanding of not only politics  but of the law as well  she  in caps lock tweet shouting  said that the inauguration should be delayed under martial law until trump is  cleared of all charges   obviously she s referring to the  dossier  that was discredited as a fake within hours of its release by buzzfeed and subsequent republication by many left leaning mainstream media outlets   charges  implies a legal case yet there was no legal case  no victim  no crime  nothing of substance at all because it was a fake document have a look at her whacky  ill fated attempts at affecting the political dialog on her social media output i fully support imposing martial law   delaying the inauguration   until trump is  cleared  of all charges https   t co   rosie  rosie january    though the high horsed hollywood liberal echo chamber didn t get enough with the caps locked illogical rant above  she followed with yet another cry to interrupt a legitimately elected us political official with a military take over and suspension of constitutional rights delay the day   do not swear him in until it is investigated   for the love of god america   we must stop the inaugruation  frankielucy  rosie  rosie january    the final days of the obama administration tick away we continue to bear witness to many hollywood celebs throwing tantrums and wearing their ignorance of political realities on their sleeves and social media feeds  rosie is one of the ultimate examples of the hypocrisy that we ve been shown by others of her ilk such as meryl streep recently  these hollywood celebs say they support equality  tolerance   and freedom out of one side of their mouth then push for totalitarian  military enforced  martial law and disruption of free elections when the elections don t go their way read more election news at   century wire election coveragesupport    subscribe   become a member   tv",
         "0"
        ],
        [
         "15",
         "a progressive group charged saturday that the democratic national committee s reliance on paper ballots in the race for dnc chair raises questions of transparency  tainting the process the dnc had planned on using both an electronic system  as well as paper ballots  but switched gears minutes before the vote when interim chair donna brazille announced they would rely on the ballots in part because of concerns over spotty internet service now there s a party member you can trust the former interim chair donna brazille  who secretly passed cnn s debate questions to hillary adam green  co founder of the progressive change committee  pointed to reports that said some dnc members are concerned over blowback they could receive from the bernie sanders aligned forces that are supporting rep  keith ellison if their support for former labor secretary tom perez became public  paper ballots instead of visible and accountable voting is something that debbie wasserman shultz would be proud of   mr  green said on twitter  alluding to the former chair  who resigned after hacked emails showed dnc members were biased against mr  sanders in the  primary race the group also highlighted a dnc rule that said  secret ballots are not permitted  and the results should be shared with the candidate or their campaign in the case that the contest goes beyond the first ballot   washington times",
         "0"
        ],
        [
         "16",
         " ",
         "0"
        ],
        [
         "17",
         "berlin    germany s greens need to compromise on immigration policy if talks on forming a new governing coalition are to succeed  the leader of the free democrats fdp said  putting the chances of a deal at    chancellor angela merkel is trying to form a coalition with the fdp and greens after her conservatives lost support to the far right in a federal election last month  the three way alliance is untested at national level   i still see the biggest differences with the greens   fdp leader christian lindner said of immigration policy in an interview with the rheinische post newspaper   germany is at the limit of what the majority are ready to provide in humanitarian aid   he said  adding that  realism cannot be sacrificed in a readiness for coalition   the three parties found common ground in areas of social policy and digital infrastructure during talks on monday  but remained far apart on issues of immigration  fiscal and climate policies that divided them last week  lindner said the greens did not represent the majority of germans on the issue of family reunification   allowing foreigners to join loved ones granted asylum in germany  that is one of the most contentious issues in the coalition talks  all the parties are eager to show the public they are taking measures to prevent a repeat of   when merkel s decision to welcome people fleeing wars and persecution led to the largest influx of asylum seekers in the post war years  but the greens may not accept a conservative plan to suspend the right to family reunions for asylum seekers who have only been granted so called subsidiary protection  starting in march   the greens say that would hamper integration  those given subsidiary protection are given one year visas that can be renewed  because it is deemed their home country is not safe  but they do not have full refugee status that would give them the right to stay   in the first phase  we haven t come close to solutions to conflicts   lindner said of the exploratory talks on a  jamaica  coalition  so called because the parties  colors match those of the jamaican national flag   therefore  i still see the chances for jamaica at     european reform is another area of contention between the three party groups  the fdp welcomed french president emmanuel macron s push for european integration and would like more security cooperation  lindner said  but he resisted closer budget and fiscal ties   we would like to facilitate investment in the euro area  if there is a lack of money for that  we can talk  but joint liability  common risks   whether for national debt or deposits at our savings banks  cooperative banks or private banks   there is no room for maneuver there for the fdp   he said  ",
         "1"
        ],
        [
         "18",
         "who could forget mitt romney s second and third debates with barack obama  after the first debate  most americans were pretty sure that mitt had successfully exposed barack as the amateur that he is  but something strange and unexpected happened when mitt came back for round two  either he was given bad advice  or he just decided he really didn t want to be president after all  whatever the case  the next two debates for mitt were abysmal  he clearly rolled over and played dead  while barack  with the help of his co debater candy crowley  lied to the american people  as mitt stood by idly and never uttered a single objection  that was the night mitt passed on the keys to the white house in favor of civility  sorry america  but civility doesn t work with the left who has shown a clear pattern of winning at all cost no matter the consequences america is counting on trump to use every resource available to take down hillary in the first debate  if hillary enabled her husband to prey on  rape or to use his position as president of the united states to gain sexual favors in the oval office  we expect trump to bring it up  we also expect him to answer to all of the women who claimed hillary threatened them if they spoke out against her perve if hillary really is the champion of women that she claims to be  she should be ready and willing to defend herself  please trump  we beg of you  don t pull a  romney  it s up to hillary clinton whether or not the first presidential debate ends up including an exchange over her husband s white house affair with monica lewinsky  republican donald trump said monday night  i don t think i m looking to do that   trump told fox news host bill o reilly when asked whether he was planning to bring up the affair   something trump raised in media interviews during the primaries  i don t know what i m going to do that exactly  it depends on what level she hits you with  if she s fair  if it s unfair   trump said   but certainly i m not looking to do that  trump  who slashed through his gop opponents one by one in televised debates during the primaries  said he ll decide on the spot whether to launch personal attacks on hillary clinton based on whether she treats him with  respect  i have absolutely no idea  i think this  if she treats me with respect  i will treat her with respect  it really depends   trump said watch here https   youtu be bnltdalfuum people ask me that question   oh you re going to go out there and do this and that  i really don t know that  you re going to have to feel it out when you re out there  she s got to treat me with respect  i m going to treat her with respect  i d like to start off by saying that because that would be my intention   he said one longtime clinton advisor isn t so sure trump will unilaterally disarm when it comes to lewinsky  you can t put it beyond trump that monica lewinsky will play a role in this debate   former clinton and white house counsel greg craig told politico in august  she s got to be prepared to deal with the  foundation and wall street and super pacs and all of that  they need to be less focused on dealing with his policy proposals and more on dealing with the unexpected  he s going to be in attack mode  probably the whole time   craig said at several stages in the campaign  trump has brought up lewinsky  bill clinton rape accuser juanita broderick  whitewater  the death of former clinton aide vince foster  and other  era scandals and allegations  via  daily mail ",
         "0"
        ],
        [
         "19",
         "sean spicer got off to a bit of a rocky start as white house press secretary on saturday when he embarrassed himself  his president  his country  and pretty much anyone who has so much as heard of the united states  with his trainwreck of a press briefing  spicer chose to kick off his new  exciting  and likely short career by focusing on the issues that matter the most   like trump s crowd size despite a turnout that was dwarfed many times over by a stampede of nasty women descending on washington d c  to tell trump to go f ck himself  spicer claimed that this was the largest audience to witness an inauguration  period   this was  of course  a gigantic lie  according to spicer  the crowd only looked small because they used  floor coverings  to protect the grass and this somehow transformed a large percentage of the crowd into vampires who were unable to be captured by a single recording device though we suppose that white area could have been the tops of trump fans  hoods creating the illusion of an empty space alec baldwin may not have reprised his role as the donald this week  much to the dismay of an eager populace  but he did stop by twitter to have some fun with spicer  delivering a kick to sean hannity s deploraballs for good measure sean spicer reminds me of sean hannity  another hopped up  no talent white boy who thinks he s right and clever  both are neither   abfoundation  abfalecbaldwin january    also dropped an important message of hope on americans  reminding us that the rallies  the marches  the protests  and everything else that causes donald trump to cry himself to sleep at night are a good start  but it is up to each and every one of us to keep hope alive because eventually this nightmare will be over and we will work to fix whatever damage he is able to do together   all of today s rallies  marches  protests are a beginning  the great responsibility now is to keep those fires burning   abfoundation  abfalecbaldwin january     trump and his kleptocratic handlers are banking on everyone hitting the wall  burning out  they are counting on your fatigue   abfoundation  abfalecbaldwin january     i pray that we show them that  while we hit times like these  times of inconceivable bleakness fueled by the avarice and ego of trump  abfoundation  abfalecbaldwin january     this will end  and from this we will find someone  whoever they may be  who will rebuild this government   abfoundation  abfalecbaldwin january     trump wants to take the principles of american democracy  honed over many years  and smash them out of hatred and fear  reminds u of    abfoundation  abfalecbaldwin january    is right  saturday  we saw one of the largest civil rights marches in history  the marches need to get bigger  the message that we are not going to tolerate his brand of hatred must get louder  and we as americans   a nation of people who were forged from and tempered by adversity   need to stand together against anything he throws at us featured image via screengrab",
         "0"
        ],
        [
         "20",
         "how very moderate and tolerant of sadiq khan  to make one of his first acts as london s new mayor to threaten the united states  perhaps someone will explain to london s new muslim mayor that after  long years of being kicked around  america s about to elect a new leader who won t be entertaining threats or opinions of local mayor s in foreign countries  a poll in april found that two thirds of british muslims would not tell the government if a friend or family member became involved with extremists the new muslim mayor of london has issued a warning to donald trump  moderate your stance on muslims  or they will launch more attacks against america trump recently praised sadiq khan for winning london s mayoral race  and said he would be willing to create an exception in his policy restricting muslim entry into the united states in order to allow khan to visit  but in a statement tuesday  khan dismissed trump s invitation  and also denounced his views on islam as  ignorant   suggesting trump s policies would increase the terrorist threat in both the u s  and u k  donald trump s ignorant view of islam could make both of our countries less safe   it risks alienating mainstream muslims around the world and plays into the hands of extremists   he said   donald trump and those around him think that western liberal values are incompatible with mainstream islam   london has proved him wrong    for entire story  daily caller ",
         "0"
        ],
        [
         "21",
         "as a shock to no one ever  the rally in raleigh  north carolina on tuesday night for presumptive gop presidential candidate donald trump was completely bonkers as he stood at the podium in the red state  first  trump praised a barbaric dictator  the gop front runner and former reality show star praised saddam hussein for his ability to murder who he perceived to be terrorists without  reading them their rights  trump supporters applauded the hotel magnate after he made that jaw dropping statement  that said  it s not too shocking that an audience member shouted that democratic presidential nominee hillary clinton should be hanged  that s a rather extreme call for violence considering she hasn t been convicted of anything niels lesniewski of roll call tweeted   i can confirm that someone shouted  hang that bitch   at the trump rally  in reference to hillary clinton  i can confirm that someone shouted  hang that bitch   at the trump rally  in reference to hillary clinton   niels lesniewski  nielslesniewski july    bailey of yahoo news was at the trump event  too  hang that bitch   someone in the trump crowd yells as stephen miller speaks about clinton  putting america in danger  re emails  holly bailey  hollybdc july    vitali of nbc news heard the trump supporter call for clinton to be hanged again  because a call for murder the first time wasn t enough while trump talks about clinton  once again crowd goer calls out  hang that bitch    ali vitali  alivitali july    trump fan screamed at reporters who were covering the rally because yelling in someone s face is always so effective  dishonest media  tell the truth   a guy keeps screaming at assembled media here to cover trump in raleigh  holly bailey  hollybdc july    back from his trip to scotland  which was more of an infomercial to promote his golf courses  trump demonized president barack obama for playing golf  golf  golf  golf golf   trump says of obama s holiday vaca to hawaii   chip chip chip chip   holly bailey  hollybdc july    the same breath  donald bragged that he knows more about golf than bill clinton  i know more about golf than he does   trump says of bill clinton  he says there s no way wjc could have talked about golf that long  holly bailey  hollybdc july    await the bombastic billionaire s praise of pol pot  too  after all  he once praised the chinese government for the tiananmen square massacre in which hundreds of pro democracy protesters were slaughtered by the military which included   troops accompanied by tanks  trump has an ongoing bromance with vladimir putin and he s praised north korean leader kim jong un  still yet  trump supporters love him this is the gop presumptive presidential nominee and his supporters on display for the whole world to see  please clap photo by sara d  davis getty images ",
         "0"
        ],
        [
         "22",
         "a columbia university professor from brooklyn went into hiding thursday after pal james comey revealed during his senate testimony that the man leaked memos detailing the former fbi chief s conversations with president trump to the press but richman had vanished from his henry street digs by midday  and family members  friends and neighbors wouldn t answer doors or phone calls to shed any more light a doorman eventually turned security guard to stop reporters entering the building richman s wife  alexandra bowie  is a former president of the influential neighborhood civic group the brooklyn heights association  its director  peter bray  declined to speak about the man who had suddenly usurped lena dunham as the nabe s most famous inhabitant comey said in his testimony that he decided to give the content of his trump memo to his good friend to leak to the press after president trump tweeted out about possible  takes  of their conversations  comey also said of leaking the memo   i thought it might prompt the appointment of a special counsel   via  nypwho knew the fbi director was a leaker  this is too much  our intel community has become so politicized that it prohibits them from following the law or even focusing on gutting to the truth  during testimony today  susan collins asked if comey ever shared memos from president trump comey s response was a shocker  he said he felt he needed to get that out into the public square so he asked a friend to share the memo with a reporter the person that comey gave the memos to is a former classmate from columbia law school  he is considered to be a and adviser to comey  daniel richman is in the video below and is a rather interesting guy  the video is dated but is meant to give you an idea of the character of this  friend  and  adviser  to the former fbi director comey stated james comey leaked details of his conversation with  potus to  friend and confidant  daniel richman does this man look sane to you  pic twitter com   josh caplan  joshdcaplan june    does this man look sane to you  pic twitter com   josh caplan  joshdcaplan june   ",
         "0"
        ],
        [
         "23",
         "bill penzey  the owner of penzeys spices  wrote two separate letters on the penzeys spices facebook page  accusing all trump s voters of openly embracing racism  isn t it funny how liberals think they can use the most hateful and divisive language against fellow americans  then excuse their open hate as an act of  love  or unity   we re asking trump supporters and anyone who disagrees with a company owner calling half of america racists  to boycott penzeys spices  list of states where penzeys spice stores are located can be found belowhere is an excerpt from his first letter please give us a moment to share something we hope you will find very valuable our customers come from all walks of life  the kindness of cooks knows no borders or divides  in the aftermath of the election  seeing the intentional damage inflicted on so many outside the white heterosexual male world  we raised our voice  we felt we had to  we did this because we are penzeys  the spice business is so intertwined with history that it s not really possible to have one without the other  it became clear to us that we are now in a moment history will long have its eyes upon  for the sake of our customers  and for the sake of future generations  we felt the time had come to stand on the right side of history and while the reasons for why we took a stand might be specific to our unique outlook  what we learned actually applies to all commerce in the united states  what we learned is that president elect donald trump has no real support  voters  sure  but no constituency  running a campaign on  that horrible terrible woman who should be locked up   while at the same time working to raise fear of minorities among white voters with limited access to education  clearly achieved its goal  but none of it left americans with any sense of connection to the candidate they actually voted for willing to take a hit for what is right  we did what we did  in the two weeks since  online sales are up     gift box sales up    and we didn t have a catalog arrive in this window this year  while last year we had   million  yes  maybe for the moment we have lost   of our customers because of the so called  right wing firestorm   and  yes  they send emails of rage  and all caps  and bad language with the hope of creating the perception that they are bigger than they really are  but what we learned is that  in terms of retail spending  donald trump simply has no one supporting his views for america  he has no constituency in this moment there is finally the real chance to unite our nation in our shared rejection of sexism  homophobia  and racism  this is your chance to stand up for america s values and make january a tent pole in your company s history  opportunities to do the right thing at the time when doing the right thing makes all the difference come once in a lifetime  make your history proud for entire letter  see facebook post below ",
         "0"
        ],
        [
         "24",
         "shawn helton  century wire the gunman named in a mass shooting that was said to have killed  people at a small church outside of san antonio was convicted by the military several years before the tragic attack in   this past week new information concerning the apparent first baptist church gunman  year old devin patrick kelley  revealed that the previously convicted air force airman was already well known to authorities via his  bad conduct discharge  from the military in   the recent acknowledgement in kelley s case history  coupled with his unusually relaxed plea bargain deal  has only prompted more questions from those concerned about the most recent high profile mass shooting in america according to officials  the sutherland springs shooting at the first baptist church may have been caused by a domestic dispute involving kelley and his ex mother in law michelle shields  however  it turns out that shields was not present at church services on the morning of the mass shooting  although her mother was named as one of the victims a more precise motive in the deadly sutherland springs massacre has yet to be uncovered by authorities   texas church shooting     years after the fort hood mass shooting  the first baptist church attack raises big questions  its also worth noting  the recent church shooting echoes a scene in the  hollywood film kingsman  the secret service  photo illustration  s shawn heltonthe texas church shooterwhile many in media have focused on the military s inability to log devin patrick kelley s domestic violence court martial case into a federal database  a police report from  revealed that the gunman named in the first baptist church shooting had been previously caught attempting to sneak firearms onto a cia linked military base in new mexico where he was stationed  the el paso police report concluded that after kelley escaped the mental health facility believed to be peak behavioral health services center in santa teresa  he sought to carry out death threats against his superiors at new mexico s holloman air force base a cbs affiliate from dallas further explained the church shooter s lengthy criminal background  the information was contained in a police incident report after devin patrick kelley briefly escaped in june   from a mental health facility in new mexico where he had been committed  kprc television in houston first reported about the escape  police in el paso  texas  where kelley was caught after the escape  said in the report that an official of the mental health facility told them that kelley  was a danger to himself and others  the report says that kelley had already been caught sneaking firearms onto holloman air force base  it also says that he  was attempting to carry out death threats that kelley had made on his military chain of command  moreover  a fox news report just days ago revealed additional information concerning kelley s violent threats at holloman air force base  former air force staff sgt  jessika edwards told the new york times that kelley would shake with rage and vow to kill his superiors when he was assigned menial tasks as punishment for poor performance  at one point  edwards told the times  she warned others in the squadron to go easy on kelley  believing he was likely to come back and  shoot up the place  rather strangely  former air force staff sgt  edwards still kept in close contact with the criminally convicted and discharged logistical readiness airman  stating that he asked her to be a job reference in   shortly there after  kelley allegedly became obsessed with the polarizing case involving charleston church shooter dylann roof   church shooter    what is the real motive in the first baptist church shooting  image source  nbcwashingtonthe shocking claims of death threats prior to the sutherland springs church shooting taking place raises questions not only about the criminally convicted shooter kelley  who was accused of a slew of abusive behavior but also the military s handling of the gunman s well known history of violence from a prosecutorial standpoint question  how did kelley manage to get such a relaxed sentence considering he had several other major charges dropped   including an additional incident where he allegedly pointed a loaded firearm at his wife furthermore  as the public and media are still bewildered over kelley s ability to legally purchase guns following his  military conviction due to his prior violent abuse  information concerning his alleged plot to kill military superiors has been completely underreported and by the looks of it  may have even gone unpunished according to official reports  kelley was sentenced to a year s confinement  reducing rank from an airman first class  to airman basic  additionally  after being convicted of crimes by a military court in   he received a  bad conduct discharge  following an apparent plea deal the ny times added the following details regarding the military court case  prosecutors withdrew several other charges as part of their plea agreement with mr  kelley  including allegations that he repeatedly pointed a loaded gun at his wife he was ultimately sentenced in november that year to  months  confinement and reduction to the lowest possible rank  his final duty title was  prisoner  question  did kelley s plea agreement also include the exclusion of charges concerning his alleged death threat plot against military superiors at the cia linked holloman air force base moreover  if that wasn t a part of the plea  how was kelley not dishonorably discharged due to the severity of charges he faced from military superiors although we ve been told this latest  soft target  shooting spree on american soil was carried out by yet another lone gunman  there have also been questions raised concerning a shooter allegedly firing from the roof top down on to church parishioners below watch and listen to shooting survivor rosanne solis  as she recounts what she witnessed during the first baptist church shooting   question  is it also possible that solis saw multiple shooters at the first baptist church  if not  how did kelley swiftly move from the roof top location to ground level in a matter of a few minutes  assuming the account told by solis is true the sutherland springs mass shooting  along with other high profile  active shooter  incidents this year and year s past   have once again predictably sparked socio political hot button issues concerning gun reform  background checks  mental illness and ssri prescription drugs  this is something that has prompted critics to consider that there might be even more to the story below is a cnn video report discussing the lengthy criminal background of the first baptist church gunman  note the strong emphasis in this report regarding kelley s access to weaponry rather than a deeper analysis over how he received such a relaxed military conviction drills  dupes   informants a day after the suspicious san bernardino shooting in   san antonio s nonprofit alamo community group began practicing active shooter scenarios with employees  san antonio is only  miles from where the sutherland springs mass shooting took place and a city that has been rigorously training for mass casualty scenarios for the last five years  holding active shooter drills with approximately one hundred officers a week over at least the last couple of years  here s a passage from an abc affiliate in san antonio on the matter  though it  is simulated for active shooting scenarios  the training could easily be applied to many other mass casualty situations as well  in past two years  about   people have been involved in san antonio s new rescue task force training program  as  wire has documented over the years  many so called shooting terror attacks involve individuals being monitored by security services prior to an alleged act taking place  a place where a  lone wolf  graduates into the ranks of a known wolf  although the military wasn t officially keeping kelley under watch  his case profile does exhibit potential signs of a possible informant status due to the litany of charges he managed to avoid through a cushy plea deal with the military  historically  government operators have often made use of low life criminals  and mentally disturbed individuals to fulfill various roles in entrapment stings or sometimes as bona fide solo actors  in an actual attacks   links between security agencies  military facilities and alleged attackers with a criminal history should arouse suspicion if they become connected to any future crimes in january of   a strategic security service think tank known as the soufan group  reported that a larger national security threat resides with those who ve had a lengthy criminal background with known ties to security agencies  the soufan group  a new york think tank  said a better term for  lone wolves  would be  known wolves   given how many are already known to western intelligence agencies before they strike  these individuals  acting alone or in small groups   have been on the radar of various agencies and organisations  highlighting the difficulty of effectively monitoring and managing people at the nexus of criminality and terrorism   it said in a report this week domestically in america  it has been well documented that the fbi created a counter intelligence program known as cointelpro similar in scope to the cia s operation chaos  not only as a way to influence  but also a way to disrupt and coerce both left and right wing political factions from the inside out  the fbi program infiltrated countless groups and movements across the political spectrum over the past several years  the fbi has been routinely caught foiling their very own terror plots  following one of america s most deadly mass shootings at the orlando pulse nightclub  reports revealed that the fbi had a close relationship with the suspected attacker through the use of a well known confidential informant  similarly  recent reports state that fbi  court filings have revealed how the agency allowed an alleged  home grown  isis attack to take place in garland  texas    had previously uncovered the suspicious nature of the cartoon shooting event in garland when it occurred in   another strange informant case fbi sting attempted to persuade a group into attacking the humphrey scottish rite masonic center in milwaukee question  is it possible the fbi or any or intelligence agency played some part in the sutherland springs church shooting   whether inadvertently or otherwise fbi informants have reportedly played a  central role  in over   of all domestic terror cases in the united states since   according to reports  informants might earn up to    per case  as they are meant to  build relationships with persons of interest  while the sutherland springs shooting is not considered a terror case  it does fit the profile of possible soft target scenarios outlined by the fbi here at   we ve kept a running report on many  known wolf  actors and other suspicious intelligence informant cases tamerlan tsarnaev see his story here buford rogers see his story here jerad miller see his story here naji mansour see his story here quazi mohammad nafis see his story here mohamed osman mohamud see his story here timothy mcveigh see his story here salim benghalem see his story here michael adebolajo see his story here daba deng see his story here elton simpson see his story here man haron monis see his story here abu hamza see his story here haroon rashid aswat see his story here mark vicars see his story here glen rodgers see his story here omar mateen see his story here  samy mohamed hamzeh see his story here tashfeen malik see her story here djamel beghal see his story here anjem choudary see his story here cherif kouachi see his story here said kouachi see his story here amedy coulibaly see his story here hayat boumeddiene see her story here salah abdeslam see his story here michael zehaf bibeau see his story here nidal malik hassan see his story here abdelhakim dekhar see his story here abdelhamid abaaoud see his story here samy amimour see his story here isma l omar mostefa see his story here mohamed lahouij bouhlel see his story here anis amri see his story here esteban santiago ruiz see his story here abdulkadir masharipov see his story here khalid masood see his story here khuram butt see his story here youssef zaghba see his story here sayfullo saipov see his story hereaccording to pastor frank pomeroy  who was out of town at the time of the shooting with his wife sherri  the hundred member first baptist church  is slated to be demolished sometime soon  however  prior to the demolition  the site will become a temporary memorial and the building will be  scrubbed down and whitewashed   as white chairs will be placed inside to remember those who died there are still a number of questions following the sutherland springs mass shooting tragedy      associate editor shawn helton is a researcher and writer  specializing in forensic analysis of high profile crime scene and counter terrorism investigations  and the deconstruction and analysis of the mass media coverage surrounding those cases  he has compiled an extensive body of work covering a number of high profile events since  read more daily shooter news at   century wire daily shooter filessupport our work by subscribing and become a member   tv",
         "0"
        ],
        [
         "25",
         "washington    the u s  congress  rushing to beat a friday midnight deadline  on thursday passed legislation funding the government through dec    by a vote of    the house of representatives passed the bill and rapidly sent it to the senate  which then approved it    sending it to president donald trump for signing into law  while a saturday shutdown of government agencies was averted  congress and trump will now have to come up with a deal to keep the government operating beyond dec    ",
         "1"
        ],
        [
         "26",
         "trump mouthpiece kayleigh mcenany just made the most asinine claim about mike pence and got roundly hammered for it on cnn unless you ve been hiding in cave over the last decade  you know that mike pence is a hateful bigot who thinks gay people are an abomination  he not only tried to legalize discrimination against gay people in indiana  he supports inhumane conversion therapy and took money away from hiv funding to fund that right wing bullshit  cure  instead angela rye kicked off the panel discussion about mike pence being booed by the audience prior to a performance of  hamilton  on broadway  the cast of the play then delivered a thoughtful message to pence expressing their hope that he learned something rye explained that the lead actor is a gay man who is hiv positive and could not imagine what he felt when the biggest anti gay bigot in the country walked in to watch the performance mcenany responded by attacking the  hollywood elite  the media elite  the political elite  and whined about people calling trump a racist and homophobe even though trump is a racist and homophobe lemon finally shut her up by getting the discussion back on point  asking her to imagine how gay people feel when mike pence discriminates against them  he then pointed out that the  hamilton  cast was expressing their hope that pence will treat the lgbt community like human beings  can you imagine how that feels when mike pence  who has rallied and railed against gay people  and tried to shoot down and block gay legislation   lemon asked   he s saying   i m giving you a chance to give me a chance   he added in reference to the star of  hamilton  but then mcenany opened her mouth her spewed a monster lie  mike pence loves all people   she claimed  drawing an emphatic rebuke from lemon  who is also openly gay  mike pence does not love gay people  his record shows that he does not love gay people  here s the video via youtube make no mistake  mike pence is an anti gay bigot and he will stop at nothing to try and roll back gay rights to the point where they have no rights left  he is hateful and divisive and does not deserve the office he is about to occupy featured image  screenshot",
         "0"
        ],
        [
         "27",
         "vatican city    pope francis and jordan s king abdullah on tuesday discussed u s  president donald trump s decision to recognize jerusalem as israel s capital  a move that both say is dangerous to middle east peace  abdullah and the pope spoke privately for about  minutes at the start of the king s visit to the vatican and france  a vatican statement said they discussed  the promotion of peace and stability in the mideast  with particular reference to the question of jerusalem and the role of the hashemite sovereign as custodian of the holy places   king abdullah s hashemite dynasty is the custodian of the muslim holy sites in jerusalem  making amman sensitive to any changes of status of the disputed city  when trump announced his decision on dec    the pope responded by calling for the city s  status quo  to be respected  saying new tension in the middle east would further inflame world conflicts   among an outpouring of international criticism  jordan also rejected the u s  decision  calling it legally  null  because it consolidated israel s occupation of the eastern sector of the city  the united states was further isolated over the issue on monday when it blocked a u n  security council call for the declaration to be withdrawn  both the vatican and jordan back a two state solution to the palestinian israeli conflict  with them agreeing on the status of jerusalem as part of the peace process  palestinians want east jerusalem as the capital of their future independent state  whereas israel has declared the whole city to be its  united and eternal  capital  the statement said both sides wanted to encourage negotiations  ",
         "1"
        ],
        [
         "28",
         "last night during the third debate  fox news  chris wallace asked donald j  trump if he would accept the election results  with multiple stories of voter fraud being committed by democrats across the nation and a video see below proving that the dnc and hillary s campaign are coordinating with criminals to plan massive voter fraud  why would trump make a statement that he was willing to accept the outcome of the election regardless of how it may be won  hillary chastised trump for having very legitimate concerns over the potential for voter fraud to swing the election  her admonishment was carried by every mainstream media outlet  but wait what about the al gore election result here s the exchange here s hillary discussing al gore s contested election to cnn s larry king   from everything i ve seen and heard  ah  more people did intend to vote for vice president al gore  i hope there still will be an opportunity to have the votes counted  i think that s the best for whoever is inaugurated  watch al gore s announce at a press conference in   that he will continue to contest the results of the election and even suggests the republicans committed voter fraud in the hotly contested  election against george w  bush al gore even goes as far as to suggest the gop prevented blacks from voting a common democratic party tactic  he makes it perfectly clear that he will not concede the election until the supreme court makes a decision on the election and more recently  here is hillary nodding in agreement with her small crowd of supporters as they chant  you won   to her featured guest  professional liar and con man al gore https   youtu be  jr  senator barack obama suggest the results of the florida supreme court decision on the bush gore election was incorrect challenging the election results watch this video and then tell us if you would accept the results of the election if the race is close and hillary wins ",
         "0"
        ],
        [
         "29",
         "moscow    workers on friday cut out part of a new monument to mikhail kalashnikov  inventor of the soviet union s legendary ak  assault rifle  after eagle eyed russians noticed that it mistakenly depicted a german weapon of world war two  just three days ago  the monument to the creator of one of russia s best known export brands was unveiled with much fanfare in central moscow  a metal bas relief behind a statue of kalashnikov depicts the ak  and other weapons all supposedly designed by the engineer  who died in   but on friday  embarrassed sculptor salavat shcherbakov had to admit that among them was the sturmgewehr  stg  assault rifle used by nazi troops at the end of world war ii   we will rectify this   shcherbakov said in comments broadcast by state run rossiya  channel   it looks like this mistake sneaked in from the internet    by friday evening a square hole gaped where the german rifle had been depicted in the bas relief  kalashnikov s weapon  created in   does have a striking resemblance to german arms designer hugo schmeissers s stg  rifle  created in   although they have major design differences  kalashnikov was known to have said he had heard speculation that he had copied the german rifle   vladislav kononov  executive director of the russian military and historical society  was cited by russian media as saying that the fact that angry russians had spotted the error in the relief disproved that  many had earlier vented their disapproval on social media   every cloud has its silver lining   thanks to this mistake     a myth has been destroyed that kalashnikov borrowed some elements of his invention from his foreign colleagues    he said  the ak   the small arms mainstay of russia s armed forces for over  years  is called by some experts the most effective weapon ever made  every fifth firearm in the world is a kalashnikov  with more than  million of the assault rifles produced over the past  years  the kalashnikov concern manufacturer said on its website  kalashnikovs are in service in  foreign armies  it added  ",
         "1"
        ],
        [
         "30",
         "amsterdam    a political activist who founded an arab nationalist group seeking an independent state inside iran was shot dead in the netherlands  police said on thursday    iranian ahmad mola nissi    established the arab struggle movement for the liberation of ahwaz asmla  which seeks a separate state in the country s oil rich southwestern khuzestan province    a dutch police statement said a suspect was detained at the scene of the shooting on wednesday night in the hague after trying to flee   his involvement in the incident is being investigated   it said   emergency services were at the scene quickly and reanimated the victim  but he died shortly later     ahvazi arabs are a minority in mainly ethnic persian iran  and some see themselves as under persian occupation and want independence or autonomy   they say they are deprived of decent living standards and civil rights  in an interview with  in july  mola nissi said the movement wanted to  liberate ahwaz lands and people from the iranian occupation      asmla s armed wing  the mohiuddin al nasser martyrs brigade  has claimed responsibility for several attacks in iran  including the killing of two members of the elite revolutionary guards in january  shi ite muslim iran accuses its main regional adversary  sunni muslim saudi arabia  of funding separatist groups active in iran  a charge riyadh denies  ",
         "1"
        ],
        [
         "31",
         "erbil  iraq    the kurdistan regional government on wednesday rejected an iraqi government ultimatum to hand control of its international airports to baghdad  iraqi prime minister haider al abadi  reacting to the independence referendum held by the autonomous kurdish government on monday  had told the krg to hand over control of erbil and sulaimaniya airports or else he would suspend direct international flights to and from kurdistan on friday   but krg transport minister mowlud murad told a news conference in the kurdish capital erbil  said keeping control of the airports and keeping direct flights to erbil was needed for kurdish authorities and security forces as part of the fight against islamic state militants  he expressed the hope that the crisis could be resolved by friday as it would also hurt kurdistan s economy     the iraqi civil aviation authority has sent a notice to foreign airlines companies telling them that international flights to erbil and sulaimaniya will be suspended at  gmt   a m  et and only domestic flights will be allowed  abadi on tuesday said the flights will be halted at   p m   or  gmt  iran said last week it was stopping flights to kurdistan at the request of the iraqi government  lebanon s middle east airlines is suspending its daily flight to erbil  which has a sizeable lebanese community  from friday  among other airlines flying to erbil are flydubai  qatar airways  royal jordanian  turkish airlines and austrian    ",
         "1"
        ],
        [
         "32",
         "washington    u s  president donald trump on thursday urged all members of the u n  security council to back the renewal of the international inquiry into chemical weapons attacks in syria  saying it was needed to prevent president bashar al assad from using the arms   need all on the un security council to vote to renew the joint investigative mechanism for syria to ensure that assad regime does not commit mass murder with chemical weapons ever again   trump said in a note on twitter  the  nation council was due to vote on thursday on rival u s  and russian bids to renew the international inquiry  diplomats said on wednesday  a move that could trigger russia s  veto to block action on syria  ",
         "1"
        ],
        [
         "33",
         "hillary clinton ally david brock is offering to pay for new information on donald trump  hoping that damaging audio or video on the republican presidential candidate will be submitted to his super pac brock  founder of the left wing media matters and operator of correct the record super pac  recently posted the plea on correct the record s website and is referring to the project as  trumpleaks   nbc news reported brock asked for video or audio of trump that has yet to be released  one of the most important things for voters to evaluate in any election is the full measure of a candidate s views  ideas  and temperament over time   the website states  in making a choice for president  voters must also consider how various candidates present themselves to the public and to the world  there are few things more important in that regard than access to video or audio in the form of prior television or radio interviews or more candid video from events a candidate may have attended  brock s super pac goes on to say they can offer compensation to anyone who has new video or audio that has been obtained legally read more  wfb",
         "0"
        ],
        [
         "34",
         "marawi city  philippines    the philippines is preparing to declare the end of fighting in a southern city seized for five months by pro islamic state rebels  a top military commander said on saturday  as troops continued a phased withdrawal from the devastated lakeside city    only  insurgents remained in a small area in marawi city  including five  significant  figures  and three battalions of troops were closing in on their positions  said lieutenant general carlito galvez      most probably tomorrow  we can do it   galvez told reporters when asked when the military can declare fighting is over   we can declare it is totally complete     galvez said troops are zeroing in on three sons of isnilon hapilon  the slain  emir  of islamic state in southeast asia  and two malaysians  including amin baco  who has been central to facilitating the movement of foreign fighters in the region    we cannot say our mission is totally accomplished or completed if the five persons are still there   he said  adding the remaining militants are  struggling to survive  and to protect their shrinking position    another general told  they were also looking for a prominent indonesian militant  the military is concerned hapilon s sons and these foreign fighters could succeed core leaders of the alliance killed this week     hapilon and omarkhayam maute were killed by commandoes on monday  malaysian mahmud ahmad  who experts say may have funded the marawi siege  was also dead  according to a freed hostage  but his body has yet to be found  the defense ministry said on saturday that forensic tests by the u s  federal bureau of investigation had confirmed that the man killed was hapilon  the united states has provided technical support to treaty ally the philippines  including surveillance drones  the deaths of the leaders could slow down any effort by islamic state to establish a presence in mindanao  a vast island with a history of rebellion and home to the predominantly roman catholic nation s muslim minority   the organization and combat capability of the rebels has stunned the military  some experts see the siege as a prelude to a more ambitious bid by islamic state loyalists to exploit mindanao s poverty and use its jungles and mountains as a base to train  recruit and launch attacks in the region  galvez  head of the western mindanao command  inspected troops in marawi and sent off a battalion of marines central to  military operations   it was the second unit to leave the conflict area    the military declined to divulge the number of troops remaining in marawi  elite commandoes were leading the assault  with army infantry battalions and police commandoes securing safe areas    the military said eleven hostages were  processed  on saturday to determine whether they were really captives or militant members and sympathizers trying to slip away    galvez said rehabilitation  including retrieval of the dead  would start after the end of hostilities is declared  the philippines estimates the rebuilding of areas battered by months of government air strikes could cost at least  billion philippine pesos   million  ",
         "1"
        ],
        [
         "35",
         "this is huge news the city council of portland  oregon just did something awesome that could actually reduce the income inequality gap as we all know  ceo pay has gotten out of control over the last few decades  some ceos even make more than  times what their employees make  and some of those ceos have the gall to whine that providing benefits  better wages  and healthcare to their employees is a waste of money well  if these greedy ceos want to operate in portland they ll have to pay an extra tax that could inspire other american cities to do the same thing according to the institute for policy studies in a   vote  the council agreed to add a surtax on the city s existing business license tax for firms that pay their ceos more than  times what their typical worker receives  this will be the nation s first tax penalty for extreme ceo worker pay gaps on how the tax will be levied and which companies will be affected  truthout org spoke to ips co editor sarah anderson  who explained that the city has already found over  companies that will see a rise in their taxes soon publicly traded companies with extreme pay gaps will pay a surtax on top of the city s current business license tax  the surtax will be  percent of the business tax liability for companies with a ceo worker pay ratio of more than  to  and  percent for companies with a ratio of more than  to   the portland government has identified more than  corporations that do enough business in the city to be affected by the surtax  including many that regularly dominate the highest paid ceo lists  such as oracle  honeywell  goldman sachs  wells fargo and general electric so once again  the fight on behalf of workers is centered in oregon  earlier this year  oregon raised the minimum wage to nearly   an hour  meanwhile  donald trump s cabinet is stacked with billionaires and his tax plan favors the top one percent according to a tax policy center chart posted to twitter by morning joe economic wonk steven rattner  trump s tax plan will give the top   percent a    million tax cut while the bottom  percent only get a cut of   under trump s plan  the top    get an avg tax cut of     the bottom   get only    my  morningjoe chart  pic twitter com oqczualtpa  steven rattner  steverattner december    trump has repeatedly claimed that the current federal minimum wage of    an hour is too high and had named a wealthy ceo and opponent of the fight for a   minimum wage as his labor secretary clearly  trump intends to widen the income gap and punish workers while giving huge tax giveaways to his wealthy friends but portland  oregon just slapped trump across the face on behalf of workers everywhere and their strategy could be replicated in other cities across the country featured image  scott eisen getty images",
         "0"
        ],
        [
         "36",
         "sooo when terrorists attack je suis charlie  a french newspaper who makes a living mocking religion and kills innocent people working for the publication  the world stands tall in support of free speech  when an american hosts a  draw muhammed  contest in texas and two terrorists who were plotting to kill innocent americans are killed just before their plot to kill innocent americans exercising their free speech rights  the organizer and attendants are criticized for inciting and even inviting violence  can someone explain how this is not hypocrisy in truth perhaps i was not  charlie   after all  i wasn t a religion attacking atheist  truth to tell  in the story of charlie hebdo  many left out that the cartoon magazine was something that we might call a  liberal rag   it was often offensive and frequently unfunny with attacks on religion  and it didn t limit its criticism to islam  actually attacking christianity more  some even believed it anti semitic  deliberately  purposely provocative and yet  even though i was none of those things  i was  charlie   not because i agreed with any of it  but precisely because i didn t  because even the provocative offensive speech by assholes  to paraphrase jeffrey goldberg of the atlantic  is protected  especially the provocative speech  the minority speech  that which offends  that which many may not like  because the government doesn t have the right to shut down offensive speech for being offensive and neither do terrorists with ak   you do not have the right to kill over a cartoon much of the world seemed to agree  leaders linking arms in paris  being charlie  media in the u s was also generally sympathetic  many pieces running  je suis charlie  in headers yet here we are today  a few months later  a similar situation  where americans exercise their first amendment right to draw  offensive  cartoons of muhammad  yet where are the crowds of media saying  je suis garland   where are the crowds of media condemning the attack on free speech  where are the crowds of media  highlighting even just the fact that this was immediately apparent isis endorsed attack on the united states watch fox news  martha maccallum attack event organizer pamela gellar for organizing an event that may have been controversial https   youtu be   what we have is some  like ny times reporter rukmini callamachi and even mcclatchy news  in scary fashion  asking when is  provocative speech   too much  and attacking the people who held the event in garland  more than calling out the terrorists mcclatchy even discusses whether  charges  should be brought against the organizers of the garland event so why the difference here for media  because the group was one they didn t like in a state for which they didn t care with a better result than paris because of  well  guns and where has the federal government s response been to an isis claimed attack on american soil  president obama hasn t even mentioned it  the press secretary made a fairly perfunctory comment about  violence  not being the proper response to expression even if offensive  one might have thought he was speaking of a video  rather than an islamist terror attack on the united states  again  no mention of isis  islamists or terrorism  meanwhile the president has managed to go on letterman  to golf and to attend democratic fundraisers in the words of mr  goldberg  who gets to define what is provocative i don t know if i would agree with everything mr  goldberg writes  but i would defend his right to say it  even if he were provocative  vox calls the garland event  hate speech   i think much of what vox says is hate speech  who gets to decide  i have multiple options to object to the content by protest and by pen  that is the benefit of being an american  as mr  goldberg notes  iran has a holocaust cartoon contest every year  basically catering to holocaust deniers  are they attacked  no  they are laughed at  they are belittled either we are all in or we are not  either we believe in what we say we do  or we do not  but if we do not  if we allow  offense  or political difference to limit that protected speech  if we start to suggest as some of these writers do  what speech should or should not be  allowed   we move down the slippery slope to the rule of the mob  to the rule of the despot  in an ever growing media state  where already  even the slightest offense is often seized on and may result in the prevailing view hounding a person from his her job for differing  this is a frightening thought via  weasel zippers",
         "0"
        ],
        [
         "37",
         "a few days after christmas in   felicia houston    and two of her cousins were walking in an apartment complex when she was murdered by a former leader of the ku klux klan in monroe  north carolina  now  her murderer wants to be released from prison because he  found  jesus russell hinson was angry that a black drug dealer stole   from him on that fateful day  he told a friend that he was going to get revenge  i m going to shoot a n    r through the heart   so  he and a friend  guy brown  drove around the apartment complex where the drug dealer was living  when he came upon the group of girls  the charlotte observer explained what happened next hinson and brown heard their laughter  then they saw them  hinson reloaded and stuck the crossbow out the window  don t shoot  brown said  they re only girls i don t care  hinson said  one of them is going to pay he fired felicia fell to her knees  her cousin testified  hollering   i m shot  i m hurt  i m shot  i m hurt  felicia died sixteen hours after she was shot and hinson was arrested shortly after  the white supremacist went on trial for first degree murder and it took an all white jury just two and a half hours to convict him  now  twenty three years after shooting a child with a crossbow  he wants to be released from prison early dennis long  hinson s uncle  claims that prison  changed  him  he told the observer his nephew  found the lord  about six years ago and has expressed remorse about killing felicia  the north carolina parole commission will be reviewing his case soon and deciding whether or not he deserves release it s always humourous to me that murderers like hinson murder someone  go into prison and then claim to have accepted jesus into their lives  as if picking up a bible suddenly absolves them of the horrific crimes they committed  what s even more ironic is that this guy  a former leader of an organization that believes in white superiority  would probably spit on jesus if he appeared before him  after all  jesus was a middle eastern jew hopefully  the parole board denies his request and sends him back to his cell where he belongs featured image via charlotte observer",
         "0"
        ],
        [
         "38",
         "as predicted  donald trump s victory on election day has emboldened racist conservatives to start harassing and attacking minorities and it s even happening in the deep blue state of california  where a woman spotted a sign hanging on the side of a building in the town of pittsburg and snapped a photo of it twitter user james thompson posted the image of the sign on the social media platform after his sister sent it to him this picture was taken in pittsburgh california  my sister texted this to me  minutes ago our democracy is being tested even in california pic twitter com   james thompson  jetballin november    sign clearly promotes lynching to prevent african americans from getting equal rights  you can hang a n    r from a tree   equal rights he will never see   it says the fbi has been notified and local police have filed a lawsuit in an effort to force the owners of the sign to remove it in the wake of trump s surprising and depressing victory there has been a rise in the number of racist incidents in this country  in fact  there have been  reports of people being bullied by trump supporters since the election night results these incidents include the harassment of a muslim teacher by a student in georgia  and students designating water fountains  white  or  colored  at a florida high school frankly  there are so many incidents that it s difficult to list them all  you can find a somewhat comprehensive tally here this is what trump s america looks like and it s scary  and this has all happend in the course of a few days as melania trump continues to tell the media that her focus will be on ending bullying  what exactly does she mean by that  is she going to call out all bullying  including the racist bullying being perpetrated by her husband s own supporters  or is she going to ignore those incidents and merely whine about people who criticize her husband  because right now  she isn t even first lady yet and her  effort  has failed miserably  and she only has her husband to blame featured image  twitter",
         "0"
        ],
        [
         "39",
         "niamey washington    a month after an islamist ambush in niger killed eight u s  and nigerien troops  the two sides  officials still cannot agree on the sequence of events leading to the incident or even  possibly more importantly  on the nature of the mission itself  four soldiers from each nation were killed when a joint patrol was attacked on oct   by dozens of militants with machine guns and rocket propelled grenades  the incident drew attention to the little known u s  military presence in niger at a time when many americans are weary of u s  involvement in conflicts abroad and nigeriens are chafing at the growing presence of foreign troops on their soil  the united states has  soldiers operating in the largely desert west african nation  more than france  which has   in the wider sahel trying to tackle islamist militancy  the main u s  base in africa is in djibouti  which supports about   personnel  a pentagon investigation into the incident  led by a two star general from u s  africa command  may take weeks  the pentagon says it has not settled on any final version of events  through interviews in niger s capital niamey and washington   has tried to piece together the events of oct   to oct    when the last u s  soldier s body was recovered  accounts by nigerien and american officials differ over the mission s objectives  and whether and how they may have changed   the one consistent thread is that they appear to have been woefully unprepared for their enemy  u s  and niger officials agree that on oct     u s  special forces and  nigeriens left niamey and headed north to the mali border  twenty six similar patrols had taken place in the area in the past six months without enemy contact  the pentagon said  after that  the stories of the two sides diverge   it was an intelligence mission but also a mission of an operational nature   niger interior minister mohamed bazoum told  in an interview   it was in a zone that was considered safe  not enemy territory   specifically  the mission aimed to detain and question a suspected recruiter for islamic state in the greater sahara  an islamic state affiliate  according to a senior nigerien security source with knowledge of the operation and two mid level government sources  all of whom declined to be named   the senior source said the mission was thought low enough risk that they had no armored vehicles or body armor  u s  officials vehemently contradict this account   the service members involved in this unfortunate incident were unequivocally not directed to do a  kill or capture mission   they were on a reconnaissance mission   the pentagon said in statement sent to  on thursday  it said it would provide more details once the investigation is complete  all three nigerien sources said the target was a mid ranking commander called doundou chefou who was recruiting disgruntled youths from the fulani ethnic group along niger mali border  chefou commanded islamic state fighters affiliated to the movement led by an arabic speaking north african called adnan abu walid al sahrawi  the nigerien sources said  according to the senior nigerien security official  the team initially sought chefou out near a remote border village on oct    they found a militant camp there but no fighters  he said  after that  nigerien intelligence officials on the team received fresh orders from their headquarters to pursue him in the village of tongo tongo  so they stayed the night nearby  the official said  three u s  officials  speaking on condition of anonymity  said that while it is true the team was given an additional task mid mission  it was never in pursuit of a militant  the u s  officials said their soldiers were asked to work with the nigerien troops to be on standby to help a second u s  military team whose mission was indeed to pursue a militant  that mission was called off  however  it is unclear when or why   did the mission change  that s one of the questions being asked  i can t tell you definitively the answer to that question   general joseph dunford  chairman of the joint chiefs of staff  said last month  the u s  officials said the first team was asked to gather intelligence on the militant  the americans could do this under  u s  military rules of engagement that allow american forces to accompany partner forces only when the chances of enemy contact are  unlikely   asked about the existence of a second mission  none of the nigerien sources were aware of it  u s  and nigerien officials agree the team was ambushed after they met local leaders in tongo tongo on oct    one of the nigerien government sources said the militants first came with just a few gunmen with  on motorbikes to slow them down  and later brought out heavier   machine guns  sniper rifles and rocket propelled grenades  that might explain why the team took an hour to call for help   one of the issues that has most disturbed senior pentagon officials   because the initial attack may have only involved light arms  a few minutes after the team called for air support  a surveillance drone appeared  providing a live feed  but it took another hour before french military aircraft arrived  they were unable to drop bombs because of how close the fighting was  diplomatic sources have said  one u s  official said at least some of the four u s  soldiers killed were then separated from the convoy  they included sergeant la david t  johnson  whose body was not recovered for two days  it is unclear why  it is unlikely the united states will back away from niger because of its central location in the sahel and because of the proliferation of militant groups around it  including nigeria s islamic state linked boko haram and al qaeda affiliates  several current and former u s  officials with africa experience said they expected u s  military focus on the sahel to grow  not decrease  retired general donald bolduc  who led u s  special operations in africa until june  said the military should retain a small  footprint  in africa but needed more intelligence and surveillance resources and medical and air support  while the most assets have gone to the middle east and afghanistan   there needs to be     a different perspective on how we allocate the resources between theaters   he said  he expressed surprise at the idea that the unit which was ambushed had been redirected to focus on a militant leader  senior militant leaders are normally well protected  bolduc said  with rings of security guards and layers of militants who communicate with one another via radio   i m as confused about it as you are   he said   that s not how it s done      the resources and planning didn t seem to be there for that kind of operation   ",
         "1"
        ],
        [
         "40",
         "beijing    china said on thursday its  friendly policy  toward zimbabwe would not change  after the military said it had seized power and was holding president robert mugabe and his family safe while targeting  criminals   china is paying close attention to the situation in zimbabwe and hoped for stability and a peaceful   appropriate  resolution  foreign ministry spokesman geng shuang told a daily news briefing in beijing  china s cooperation with zimbabwe was  all round  and benefited both peoples  he added   china s friendly policy towards zimbabwe won t change  we will continue to develop friendly cooperation with zimbabwe on  an equal  mutually beneficial win win cooperation principle   geng said  without elaborating  influential state run chinese tabloid the global times said in an editorial on thursday that zimbabwe was unlikely to reverse its relations with china   since zimbabwe s independence  there has been no anti china faction in the country  and it is unlikely to appear in the future   it said  in contrast to his elevated status on the continent  mugabe is reviled in the west as a despot whose disastrous handling of the economy and willingness to resort to violence to maintain power destroyed one of africa s most promising states  china and zimbabwe have a close diplomatic and economic relationship and beijing has stood with mugabe s government in the face of western economic sanctions  investing in auto  diamond  tobacco and power station projects  baic motor corp ltd  hk  which has a joint venture making pick up trucks in zimbabwe  told  there had been no impact on its operations  neither of two other chinese companies   tianze tobacco and diamond mining anjin investments   responded to requests for comment on their operations in zimbabwe  in august  zimbabwe s government said a chinese company planned to invest up to   billion to revive operations at zimbabwe iron and steel company zisco  which ceased production in  at the height of zimbabwe s economic meltdown  that same year  china vetoed a proposed western backed u n  resolution that would have imposed an arms embargo on zimbabwe and financial and travel restrictions on mugabe and  other officials  saying it would  complicate   rather than ease  conflict  ",
         "1"
        ],
        [
         "41",
         "the idea that a tax exempt radical organization in the united states of america with ties to the muslim brotherhood  a terror organization can influence our vote by suggesting muslims register voters in mosques should be shocking to every american could anyone imagine the outrage if non profit groups were advocating churches register voters to support the republican party the last time the muslim brotherhood got involved in an election  it ended with a tyranny  church burnings  terrorism  a civil war  mass sexual assaults on women and a popular uprising against it presumably the local muslim brotherhood crew is hoping for a better outcome in the united states than they ended up with in egypt  as sharona schwartz at the blaze reports the head of the council on american islamic relations said that muslims could comprise the swing vote in the presidential elections if  million of them register to vote  as he urged them to turn mosques into polling stations this november  i believe we have at least  million muslim eligible voters in this country  we have to register every single muslim to vote in   the muslim vote can be the swing vote in major states   cair executive director nihad awad said at the muslim american society mas and islamic circle of north america icna annual conference in chicago  according to video posted earlier this month awad explained that cair   which is prohibited from engaging in political activity due to its registration as a tax exempt organization   would not be the vehicle by which a candidate would be endorsed  he said another organization would be set up to promote the muslim friendly presidential candidate awad urged all muslims to register to vote and to use islamic centers as polling stations  turn your centers  islamic centers  mosques into registration centers for voters  into polling stations during the election time   he said  via  frontpage mag",
         "0"
        ],
        [
         "42",
         "madrid    if catalan leader carles puigdemont wants talks or mediation with the central government over the region s future  he first needs to respect the law  the prime minister s office said in a statement on wednesday   if mr puigdemont wants to talk or negotiate  or wants to send mediators  he know perfectly what he first needs to do  go back to the law   the statement said  ",
         "1"
        ],
        [
         "43",
         "ankara    the united states has primed a bomb in the middle east with its decision to recognize jerusalem as israel s capital  turkish prime minister binali yildirim said on thursday  yildirim said turkey s stark differences with washington  which have already strained ties between the nato allies  meant that an overwhelming majority of the turkish people were now unsympathetic toward the united states   the united states has pulled the pin on a bomb ready to blow in the region   yildirim told a conference in ankara   president donald trump on wednesday reversed decades of u s  policy by recognizing jerusalem as the capital of israel and promising to move the u s  embassy there  following the decision  hundreds of protesters gathered outside the u s  consulate in istanbul  on thursday  there was a heavy police presence with uniformed soldiers patrolling the roof   today  more than  percent of our citizens are cold towards the united states and they are right to be so   yildirim said  without giving a source for the figure  bilateral relations had already been hurt by washington s support for the syrian kurdish ypg militia  seen by ankara as an extension of the kurdistan workers  party pkk  which has for decades waged an insurgency against the turkish state  in addition  ankara has been angered by the united states  refusal to extradite u s  based muslim cleric fethullah gulen  whom it accuses of orchestrating last year s attempted military coup  u s  officials say the courts have not been shown sufficient evidence to extradite gulen  who has denied any involvement in the coup  turkey also says the case of turkish iranian gold trader reza zarrab  who is on trial in new york and cooperating with u s  prosecutors  is an attempt to discredit it and undermine its economy  zarrab has pleaded guilty to helping iran avoid u s  sanctions and detailed a vast international money laundering scheme  ",
         "1"
        ],
        [
         "44",
         "washington    the u s  house of representatives will not vote on a bill to replace the obama administration s signature healthcare law before it starts a two week break  a republican lawmaker said in wednesday   we are going to go home tomorrow without a deal   said representative chris collins  showing that deep divisions remain among republicans despite renewed efforts to repeal and replace obamacare after house republican leaders withdrew a bill on march  due to a lack of votes  ",
         "1"
        ],
        [
         "45",
         "who s ready for hillary among the thousands more hillary clinton s emails that have been released are ones exchanged with her top aide that may just add to the dilemma facing the  democratic presidential candidate among the latest batch are emails from her adviser sidney blumenthal on december    he sent her an email including a link to a news story with the headline   u s  orders diplomats to stop telling truth clinton replies   sounds like a good idea  the emails also reveal that blumenthal felt the former secretary of state was  vindicated  over the libyan uprising even though the benghazi scandal was still to come blumenthal told her in august  she had to go on camera to announce the  successful strategy  when rebels took control of the country  he told her to speak to the media even if it meant giving a speech from the driveway of her holiday home in the hamptons  blumenthal wrote   first  brava  this is a historic moment and you will be credited for realizing it   when qaddafi himself is finally removed  you should of course make a public statement before the cameras wherever you are  even in the driveway of your vacation house   you must go on camera  you must establish yourself in the historical record at this moment  the most important phrase is   successful strategy   but in hindsight such vindication never materialized  in fact  benghazi has become the second biggest headache for hillary clinton after servergate  over the following months after that email exchange  libya slid into civil war and a year later us ambassador chris stevens and three other americans were killed when the american embassy in benghazi was overrun by militants  the ensuing scandal has been an albatross for the candidate clinton was forced to testify before a house committee investigating the terror attack that killed ambassador stevens and could still be recalled to face more questions  meanwhile  libya has become what the state department has called a  safe haven  for terrorists and a main launching point for people smugglers sending migrants to europe  via  daily mail ",
         "0"
        ],
        [
         "46",
         "washington    as a candidate  u s  president donald trump promised to close the  carried interest  tax break that benefits some of wall street s wealthiest financiers   but the republican tax bill released on thursday makes no mention of it  carried interest is a share of an investment fund s profits   typically about  percent beyond the return guaranteed to investors   that is paid out to the general partners of private equity  venture capital  real estate and hedge funds  under current law  carried interest income is taxed at the capital gains rate of  percent  that is well below the   percent rate that high earners pay on ordinary wages and salary   trump pledged during his populist presidential campaign to close the carried interest loophole  saying hedge fund managers were  paper pushers  who were  getting away with murder   carried interest represents a large portion of many fund managers  incomes  for years they have employed washington lobbyists to help defend the lucrative tax break  treasury secretary steven mnuchin said in august that the trump administration still planned to close the loophole for hedge funds  but there might be an exemption to allow financial firms that  create jobs  to continue taking advantage of the tax break  the  page tax bill released by republicans in the house of representatives on thursday has no language changing how financial firms can take advantage of the lower carried interest rate   the introduced text does not modify current policy related to carried interest   a spokesman for the tax writing house ways and means committee said  the bill is expected to undergo revisions before it is brought up for a vote in the house  trump has said he would like to see the house and the senate pass tax legislation before the u s  thanksgiving holiday on nov     we fully expected months ago that the one thing that they would do to close loopholes would be the one thing that trump talked about during the campaign   said seth hanlon  a senior fellow at the liberal center for american progress and a former economic adviser to democratic president barack obama  obama targeted the carried interest loophole but never closed it  government estimates show it will cost the federal budget at least   billion over the next decade  ",
         "1"
        ],
        [
         "47",
         "washington    u s  house speaker paul ryan said on thursday that tax reform talks are nearing a consensus to lower business taxes by closing loopholes and special interest deductions  the latest sign that the unpopular proposed border tax may not be included  speaking at a new balance shoe factory in massachusetts  ryan stressed the need to  level the playing field  for u s  companies and their foreign competitors but failed to mention the border adjustment tax  or bat  which has been his main policy for creating a more competitive u s  manufacturing base  ryan s remarks  coming about a week ahead of an end of july deadline for top white house officials and republican leaders in congress to agree on a tax reform framework  could indicate that president donald trump s promised tax code overhaul is taking on a more orthodox shape after months of closed door talks  republicans in the house of representatives had billed the bat as a more effective way to pay for tax cuts than closing loopholes  because it would raise more than   trillion over a decade by effectively taxing imports while exempting exports from taxation     we are going to slash the corporate tax rate to level the playing field and the business tax rate for all businesses   ryan told his audience   so what we need to do is  we need to throw out those complicated loopholes  those deductions  those special interest loopholes   he added    ryan said cutting the corporate tax rate from a current  percent rate to a  percent corporate rate is  very realistic   administration officials have said negotiators realize trump s proposed  percent corporate rate is unlikely without expanding the federal deficit   white house budget director mick mulvaney said on thursday that republicans should be willing to accept  short term increases on deficits  for tax reform to drive economic growth    ryan said tax reform would also include accelerating business expensing  double the standard deduction for individuals  and retain popular deductions for charity donations  home mortgages and retirement    we have basically found where our consensus lies on these major issues  which we think are sort of the key cornerstones of tax reform   the wisconsin republican said  his failure to mention border tax adjustment could fuel speculation that house republicans are moving away from the idea in discussions among the so called big six principals  the six are ryan  senate republican leader mitch mcconnell  treasury secretary steven mnuchin  white house adviser gary cohn and the republican chairmen of two tax writing committees  ",
         "1"
        ],
        [
         "48",
         "   president donald trump s son in law and senior adviser jared kushner on monday gave details in a statement made public before his closed door meeting with the u s  senate intelligence committee about his contacts with russians during the  election campaign and the presidential transition period  the following are some of the main points in the statement    kushner said he became a  point of contact  for foreign countries once it was clear that trump would be the republican presidential nominee  kushner said he had  incoming contacts  with people from roughly  countries   to put these requests in context  i must have received thousands of calls  letters and emails   he said    kushner said he was introduced to russian ambassador sergey kislyak  among other foreign dignitaries  in april   at a washington hotel where then candidate trump was making a speech  he said he shook hands with the dignitaries at the reception   the ambassadors also expressed interest in creating a positive relationship should we win the election     each exchange lasted less than a minute   he said    kushner said he attended a meeting  at the invitation of his brother in law donald trump jr   on june     at trump tower in new york  attendees included a russian lawyer discussing a ban on americans adopting russian children  kushner did not name the lawyer or others in attendance   no part of the meeting i attended included anything about the campaign  there was no follow up to the meeting that i am aware of  i do not recall how many people were there or their names  and i have no knowledge of any documents being offered or accepted   he said    after trump won the election  ambassador kislyak on nov   invited kushner to a meeting  kushner said  he said that at the time  he could not recall the ambassador s name  when he and kislyak met at trump tower on dec    kushner said he asked kislyak to identify the best person to be a contact for direct discussions and a line to russian president vladimir putin    kushner said he met on dec   with sergey gorkov  a russian banker  for   minutes and received gifts of a piece of art and a bag of dirt  both from a village in belarus where kushner s grandparents were from  he said he gave the gifts to his assistant to have them registered with the transition office  he said there was no discussion about russian sanctions   at no time was there any discussion about my companies  business transactions  real estate projects  loans  banking arrangements or any private business of any kind   he said    kushner said his first security clearance form  which omitted foreign government contacts  was submitted in error by his assistant  he said he sent in a supplemental form the next day  disclosing he had numerous contacts with foreign officials  and provided a list of those contacts  in the normal course   ",
         "1"
        ],
        [
         "49",
         "toronto    a u s  canadian couple freed in pakistan this week  nearly five years after being abducted in afghanistan  reunited with the husband s family on saturday  the associated press reported  joshua boyle and caitlan coleman arrived with their three children late on friday in toronto  where the husband said one of his children was murdered and his wife had been raped  citing an email from boyle  the ap reported the family had  reached the first true  home  that the children have ever known   after they spent most of friday asking if each subsequent airport was our new house hopefully   boyle  a canadian  and coleman  an american were kidnapped while backpacking in afghanistan in  by the taliban allied haqqani network  pakistani troops rescued the family this week in the northwest of the country  near the afghan border  the united states has long accused pakistan of failing to fight the haqqani network  the couple had three children while in captivity  boyle opened his friday media statement by saying he was delayed due to a medical emergency involving one of his children  ap  citing boyle s email  said his daughter had a cursory medical exam and hospital staff were  enthusiastically insistent that her chances seemed miraculously high based on a quick physical    boyle made a brief statement at toronto s pearson international airport late on friday  calling on the taliban  to provide my family with the justice we are owed    god willing  this litany of stupidity will be the epitaph of the haqqani network   he said  ",
         "1"
        ]
       ],
       "shape": {
        "columns": 2,
        "rows": 100
       }
      },
      "text/html": [
       "<div>\n",
       "<style scoped>\n",
       "    .dataframe tbody tr th:only-of-type {\n",
       "        vertical-align: middle;\n",
       "    }\n",
       "\n",
       "    .dataframe tbody tr th {\n",
       "        vertical-align: top;\n",
       "    }\n",
       "\n",
       "    .dataframe thead th {\n",
       "        text-align: right;\n",
       "    }\n",
       "</style>\n",
       "<table border=\"1\" class=\"dataframe\">\n",
       "  <thead>\n",
       "    <tr style=\"text-align: right;\">\n",
       "      <th></th>\n",
       "      <th>text</th>\n",
       "      <th>target</th>\n",
       "    </tr>\n",
       "  </thead>\n",
       "  <tbody>\n",
       "    <tr>\n",
       "      <th>0</th>\n",
       "      <td>mark wahlberg has been a rapper  he appeared s...</td>\n",
       "      <td>0</td>\n",
       "    </tr>\n",
       "    <tr>\n",
       "      <th>1</th>\n",
       "      <td>out of all the insane people who are part of t...</td>\n",
       "      <td>0</td>\n",
       "    </tr>\n",
       "    <tr>\n",
       "      <th>2</th>\n",
       "      <td>london    crude oil flows through an iraqi kur...</td>\n",
       "      <td>1</td>\n",
       "    </tr>\n",
       "    <tr>\n",
       "      <th>3</th>\n",
       "      <td>ever since the attacks on the u s  diplomatic ...</td>\n",
       "      <td>0</td>\n",
       "    </tr>\n",
       "    <tr>\n",
       "      <th>4</th>\n",
       "      <td>in what can only be seen as a groundbreaking a...</td>\n",
       "      <td>0</td>\n",
       "    </tr>\n",
       "    <tr>\n",
       "      <th>...</th>\n",
       "      <td>...</td>\n",
       "      <td>...</td>\n",
       "    </tr>\n",
       "    <tr>\n",
       "      <th>95</th>\n",
       "      <td>the number of law enforcement officials killed...</td>\n",
       "      <td>0</td>\n",
       "    </tr>\n",
       "    <tr>\n",
       "      <th>96</th>\n",
       "      <td>republican presidential candidate marco rub...</td>\n",
       "      <td>1</td>\n",
       "    </tr>\n",
       "    <tr>\n",
       "      <th>97</th>\n",
       "      <td>berlin    german police on monday investigated...</td>\n",
       "      <td>1</td>\n",
       "    </tr>\n",
       "    <tr>\n",
       "      <th>98</th>\n",
       "      <td>washington    the u s  house of representative...</td>\n",
       "      <td>1</td>\n",
       "    </tr>\n",
       "    <tr>\n",
       "      <th>99</th>\n",
       "      <td>this guy is just priceless you have to give hi...</td>\n",
       "      <td>0</td>\n",
       "    </tr>\n",
       "  </tbody>\n",
       "</table>\n",
       "<p>100 rows × 2 columns</p>\n",
       "</div>"
      ],
      "text/plain": [
       "                                                 text  target\n",
       "0   mark wahlberg has been a rapper  he appeared s...       0\n",
       "1   out of all the insane people who are part of t...       0\n",
       "2   london    crude oil flows through an iraqi kur...       1\n",
       "3   ever since the attacks on the u s  diplomatic ...       0\n",
       "4   in what can only be seen as a groundbreaking a...       0\n",
       "..                                                ...     ...\n",
       "95  the number of law enforcement officials killed...       0\n",
       "96     republican presidential candidate marco rub...       1\n",
       "97  berlin    german police on monday investigated...       1\n",
       "98  washington    the u s  house of representative...       1\n",
       "99  this guy is just priceless you have to give hi...       0\n",
       "\n",
       "[100 rows x 2 columns]"
      ]
     },
     "execution_count": 21,
     "metadata": {},
     "output_type": "execute_result"
    }
   ],
   "source": [
    "df[\"text\"] = df[\"text\"].apply(wordopt)\n",
    "df.head(100)"
   ]
  },
  {
   "cell_type": "markdown",
   "metadata": {},
   "source": [
    "Model (Logistic Regression) Training"
   ]
  },
  {
   "cell_type": "code",
   "execution_count": 22,
   "metadata": {},
   "outputs": [
    {
     "data": {
      "text/plain": [
       "(44898,)"
      ]
     },
     "execution_count": 22,
     "metadata": {},
     "output_type": "execute_result"
    }
   ],
   "source": [
    "X = df[\"text\"]\n",
    "Y = df[\"target\"]\n",
    "X.shape"
   ]
  },
  {
   "cell_type": "code",
   "execution_count": 23,
   "metadata": {},
   "outputs": [
    {
     "data": {
      "text/plain": [
       "(33673,)"
      ]
     },
     "execution_count": 23,
     "metadata": {},
     "output_type": "execute_result"
    }
   ],
   "source": [
    "X_train,x_test,Y_train,y_test = train_test_split(X,Y,test_size=0.25)\n",
    "X_train.shape"
   ]
  },
  {
   "cell_type": "code",
   "execution_count": 24,
   "metadata": {},
   "outputs": [
    {
     "name": "stdout",
     "output_type": "stream",
     "text": [
      "(33673, 95490)\n",
      "(11225, 95490)\n"
     ]
    }
   ],
   "source": [
    "from sklearn.feature_extraction.text import TfidfVectorizer\n",
    "#print(X_train)\n",
    "vectorization = TfidfVectorizer()\n",
    "analyze = vectorization.build_analyzer()\n",
    "#print(analyze(X_train[0]))\n",
    "xv_train = vectorization.fit_transform(X_train)\n",
    "xv_test = vectorization.transform(x_test)\n",
    "print(xv_train.shape)\n",
    "print(xv_test.shape)"
   ]
  },
  {
   "cell_type": "code",
   "execution_count": 25,
   "metadata": {},
   "outputs": [
    {
     "name": "stdout",
     "output_type": "stream",
     "text": [
      "The Accuracy of the Logistic Regression Model is 0.9820044543429844\n"
     ]
    }
   ],
   "source": [
    "from sklearn.linear_model import LogisticRegression\n",
    "lr = LogisticRegression()\n",
    "\n",
    "lr.fit(xv_train,Y_train)\n",
    "print(\"The Accuracy of the Logistic Regression Model is {}\".format(lr.score(xv_test,y_test)))"
   ]
  },
  {
   "cell_type": "code",
   "execution_count": 26,
   "metadata": {},
   "outputs": [
    {
     "name": "stdout",
     "output_type": "stream",
     "text": [
      "              precision    recall  f1-score   support\n",
      "\n",
      "           0       0.99      0.98      0.98      5864\n",
      "           1       0.98      0.98      0.98      5361\n",
      "\n",
      "    accuracy                           0.98     11225\n",
      "   macro avg       0.98      0.98      0.98     11225\n",
      "weighted avg       0.98      0.98      0.98     11225\n",
      "\n"
     ]
    }
   ],
   "source": [
    "print(classification_report(y_test,lr.predict(xv_test)))"
   ]
  },
  {
   "cell_type": "markdown",
   "metadata": {},
   "source": []
  },
  {
   "cell_type": "code",
   "execution_count": 30,
   "metadata": {},
   "outputs": [
    {
     "data": {
      "image/png": "[encoded data removed]",
      "text/plain": [
       "<Figure size 600x400 with 2 Axes>"
      ]
     },
     "metadata": {},
     "output_type": "display_data"
    },
    {
     "name": "stdout",
     "output_type": "stream",
     "text": [
      "Classification Report:\n",
      "\n",
      "              precision    recall  f1-score   support\n",
      "\n",
      "        Fake       0.99      0.98      0.98      5864\n",
      "    Not Fake       0.98      0.98      0.98      5361\n",
      "\n",
      "    accuracy                           0.98     11225\n",
      "   macro avg       0.98      0.98      0.98     11225\n",
      "weighted avg       0.98      0.98      0.98     11225\n",
      "\n"
     ]
    }
   ],
   "source": [
    "# Predictions\n",
    "y_pred = lr.predict(xv_test)\n",
    "\n",
    "# Confusion Matrix\n",
    "cm = confusion_matrix(y_test, y_pred)\n",
    "plt.figure(figsize=(6,4))\n",
    "sns.heatmap(cm, annot=True, fmt=\"d\", cmap=\"Blues\", xticklabels=[\"Fake\", \"Not Fake\"], yticklabels=[\"Fake\", \"Not Fake\"])\n",
    "plt.xlabel(\"Predicted\")\n",
    "plt.ylabel(\"Actual\")\n",
    "plt.title(\"Confusion Matrix\")\n",
    "plt.show()\n",
    "\n",
    "# Classification Report\n",
    "print(\"Classification Report:\\n\")\n",
    "print(classification_report(y_test, y_pred, target_names=[\"Fake\", \"Not Fake\"]))"
   ]
  },
  {
   "cell_type": "code",
   "execution_count": 31,
   "metadata": {},
   "outputs": [
    {
     "data": {
      "image/png": "[encoded data removed]",
      "text/plain": [
       "<Figure size 600x400 with 1 Axes>"
      ]
     },
     "metadata": {},
     "output_type": "display_data"
    }
   ],
   "source": [
    "# Predicted probabilities for the positive class (\"Not Fake\")\n",
    "y_pred_prob = lr.predict_proba(xv_test)[:, 1]\n",
    "\n",
    "# ROC curve values\n",
    "fpr, tpr, thresholds = roc_curve(y_test, y_pred_prob)\n",
    "roc_auc = auc(fpr, tpr)\n",
    "\n",
    "# Plot ROC curve\n",
    "plt.figure(figsize=(6,4))\n",
    "plt.plot(fpr, tpr, color=\"blue\", label=f\"ROC Curve (AUC = {roc_auc:.2f})\")\n",
    "plt.plot([0,1], [0,1], color=\"red\", linestyle=\"--\")  # baseline\n",
    "plt.xlabel(\"False Positive Rate\")\n",
    "plt.ylabel(\"True Positive Rate\")\n",
    "plt.title(\"ROC Curve\")\n",
    "plt.legend(loc=\"lower right\")\n",
    "plt.show()"
   ]
  },
  {
   "cell_type": "markdown",
   "metadata": {},
   "source": [
    "Creating a function to process the texts"
   ]
  },
  {
   "cell_type": "code",
   "execution_count": null,
   "metadata": {},
   "outputs": [],
   "source": [
    "def output_lable(n):\n",
    "    if n == 0:\n",
    "        return \"Fake News\"\n",
    "    elif n == 1:\n",
    "        return \"True News\"\n",
    "\n",
    "def manual_testing(news):\n",
    "    testing_news = {\"text\": [news]}\n",
    "    new_def_test = pd.DataFrame(testing_news)\n",
    "    new_def_test[\"text\"] = new_def_test[\"text\"].apply(wordopt) \n",
    "    new_x_test = new_def_test[\"text\"]\n",
    "    new_xv_test = vectorization.transform(new_x_test)\n",
    "    \n",
    "    pred_LR = lr.predict(new_xv_test)\n",
    "\n",
    "    return print(\"\\n\\nLR Prediction: {}\".format(output_lable(pred_LR[0])))\n"
   ]
  },
  {
   "cell_type": "code",
   "execution_count": null,
   "metadata": {},
   "outputs": [
    {
     "name": "stdout",
     "output_type": "stream",
     "text": [
      "\n",
      "\n",
      "LR Prediction: True News\n"
     ]
    }
   ],
   "source": [
    "news = str(input())\n",
    "manual_testing(news)"
   ]
  },
  {
   "cell_type": "code",
   "execution_count": null,
   "metadata": {},
   "outputs": [
    {
     "name": "stdout",
     "output_type": "stream",
     "text": [
      "\n",
      "\n",
      "LR Prediction: Fake News\n"
     ]
    }
   ],
   "source": [
    "news = str(input())\n",
    "manual_testing(news)"
   ]
  },
  {
   "cell_type": "markdown",
   "metadata": {},
   "source": [
    "# <span style=\"font-family:serif; font-size:28px;\"> 📌Result</span>"
   ]
  },
  {
   "cell_type": "markdown",
   "metadata": {},
   "source": [
    "The Fake News Detection system successfully classifies input text as Fake News or Not Fake News using Logistic Regression.\n",
    "\n",
    "The model provides predictions with good accuracy (based on the trained dataset).\n",
    "\n",
    "Manual testing through user input confirms the working of the classifier.\n",
    "\n",
    "This project demonstrates how Natural Language Processing (NLP) and Machine Learning can be combined to tackle real-world misinformation problems."
   ]
  },
  {
   "cell_type": "markdown",
   "metadata": {},
   "source": [
    "**<center> <span style=\"color:##FF00991;font-family:serif; font-size:34px;\"> THANK YOU :)</span> </center>**"
   ]
  }
 ],
 "metadata": {
  "kaggle": {
   "accelerator": "none",
   "dataSources": [],
   "dockerImageVersionId": 30527,
   "isGpuEnabled": false,
   "isInternetEnabled": false,
   "language": "python",
   "sourceType": "notebook"
  },
  "kernelspec": {
   "display_name": "base",
   "language": "python",
   "name": "python3"
  },
  "language_info": {
   "codemirror_mode": {
    "name": "ipython",
    "version": 3
   },
   "file_extension": ".py",
   "mimetype": "text/x-python",
   "name": "python",
   "nbconvert_exporter": "python",
   "pygments_lexer": "ipython3",
   "version": "3.12.7"
  }
 },
 "nbformat": 4,
 "nbformat_minor": 4
}
